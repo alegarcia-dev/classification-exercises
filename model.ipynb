{
 "cells": [
  {
   "cell_type": "code",
   "execution_count": 1,
   "id": "69c19598-ef0c-4f29-8886-eeb7d26f639a",
   "metadata": {},
   "outputs": [],
   "source": [
    "import numpy as np\n",
    "import pandas as pd\n",
    "\n",
    "from sklearn.tree import DecisionTreeClassifier, plot_tree\n",
    "from sklearn.ensemble import RandomForestClassifier\n",
    "from sklearn.neighbors import KNeighborsClassifier\n",
    "from sklearn.metrics import classification_report, precision_score, recall_score\n",
    "from sklearn.metrics import confusion_matrix\n",
    "\n",
    "import matplotlib.pyplot as plt\n",
    "import seaborn as sns\n",
    "\n",
    "from acquire import *\n",
    "from prepare import *"
   ]
  },
  {
   "cell_type": "code",
   "execution_count": 2,
   "id": "85da0049-7b04-47cf-88b5-5849cf11ca95",
   "metadata": {},
   "outputs": [
    {
     "data": {
      "text/plain": [
       "((498, 11), (214, 11), (179, 11))"
      ]
     },
     "execution_count": 2,
     "metadata": {},
     "output_type": "execute_result"
    }
   ],
   "source": [
    "titanic = get_titanic_data()\n",
    "titanic = prep_titanic_data(titanic)\n",
    "train, validate, test = split_data(titanic, 'survived')\n",
    "train.shape, validate.shape, test.shape"
   ]
  },
  {
   "cell_type": "code",
   "execution_count": 3,
   "id": "db29e56c-9ca9-48e0-a503-9bdcd1fa583f",
   "metadata": {},
   "outputs": [],
   "source": [
    "columns = ['pclass', 'sex_male', 'alone']\n",
    "\n",
    "X_train = train[columns]\n",
    "y_train = train.survived\n",
    "\n",
    "X_validate = validate[columns]\n",
    "y_validate = validate.survived\n",
    "\n",
    "X_test = test[columns]\n",
    "y_test = test.survived"
   ]
  },
  {
   "cell_type": "markdown",
   "id": "1711ab2c-cbf7-4427-8fe7-86f69b9126c0",
   "metadata": {},
   "source": [
    "# Decision Tree Exercises"
   ]
  },
  {
   "cell_type": "markdown",
   "id": "b29aa588-78e4-4f8e-b843-58caf055bd2b",
   "metadata": {},
   "source": [
    "## Titanic Dataset"
   ]
  },
  {
   "cell_type": "markdown",
   "id": "2308768e-8181-4eea-aa44-b1836840c1e5",
   "metadata": {},
   "source": [
    "### 1. \n",
    "\n",
    "What is your baseline prediction? What is your baseline accuracy? remember: your baseline prediction for a classification problem is predicting the most prevelant class in the training dataset (the mode). When you make those predictions, what is your accuracy? This is your baseline accuracy."
   ]
  },
  {
   "cell_type": "code",
   "execution_count": 4,
   "id": "17755f8d-b5f6-40c6-8be0-9d646da82a7a",
   "metadata": {},
   "outputs": [
    {
     "data": {
      "text/plain": [
       "0    0.616466\n",
       "1    0.383534\n",
       "Name: survived, dtype: float64"
      ]
     },
     "execution_count": 4,
     "metadata": {},
     "output_type": "execute_result"
    }
   ],
   "source": [
    "train.survived.value_counts(normalize = True)"
   ]
  },
  {
   "cell_type": "markdown",
   "id": "5043debc-1693-4908-ad90-07b74271b5a9",
   "metadata": {},
   "source": [
    "Our baseline model would be predicting the most common target value, which is did not survive. Given a baseline model that always predicts did not survive the accuracy of this model would be ~62%."
   ]
  },
  {
   "cell_type": "markdown",
   "id": "ef8d1c26-bc2f-43de-b0cd-cd232265ec6d",
   "metadata": {},
   "source": [
    "### 2.\n",
    "\n",
    "Fit the decision tree classifier to your training sample and transform (i.e. make predictions on the training sample)"
   ]
  },
  {
   "cell_type": "code",
   "execution_count": 5,
   "id": "647669e4-de69-4b5b-9195-8350b5504c41",
   "metadata": {},
   "outputs": [],
   "source": [
    "model1 = DecisionTreeClassifier(max_depth = 2)"
   ]
  },
  {
   "cell_type": "code",
   "execution_count": 6,
   "id": "0abea884-ad13-4b94-92a0-df1b6c275a48",
   "metadata": {},
   "outputs": [
    {
     "data": {
      "text/plain": [
       "DecisionTreeClassifier(max_depth=2)"
      ]
     },
     "execution_count": 6,
     "metadata": {},
     "output_type": "execute_result"
    }
   ],
   "source": [
    "model1.fit(X_train, y_train)"
   ]
  },
  {
   "cell_type": "code",
   "execution_count": 7,
   "id": "c8ced740-434e-4c27-ac78-ff05f9f313e4",
   "metadata": {},
   "outputs": [
    {
     "data": {
      "text/plain": [
       "array([0, 0, 0, 0, 0, 0, 0, 0, 0, 0, 0, 1, 1, 0, 0, 0, 0, 0, 0, 0, 0, 0,\n",
       "       0, 1, 0, 0, 0, 0, 0, 1, 0, 1, 0, 0, 0, 0, 0, 0, 0, 0, 0, 1, 0, 0,\n",
       "       0, 1, 1, 0, 0, 0, 0, 1, 0, 0, 0, 1, 0, 0, 0, 1, 1, 0, 0, 0, 0, 0,\n",
       "       0, 0, 1, 0, 0, 0, 0, 0, 0, 0, 0, 0, 0, 1, 0, 0, 0, 1, 0, 0, 0, 0,\n",
       "       0, 0, 0, 1, 0, 0, 1, 0, 0, 0, 1, 0, 0, 1, 0, 0, 0, 0, 0, 0, 1, 0,\n",
       "       0, 1, 1, 1, 0, 0, 0, 0, 0, 0, 0, 1, 0, 1, 0, 0, 0, 0, 0, 0, 0, 0,\n",
       "       0, 0, 0, 0, 0, 0, 0, 0, 0, 0, 1, 1, 0, 0, 1, 0, 0, 0, 0, 0, 0, 0,\n",
       "       0, 0, 0, 0, 0, 0, 0, 0, 0, 0, 0, 0, 0, 1, 0, 0, 0, 0, 0, 0, 0, 0,\n",
       "       0, 0, 1, 0, 0, 0, 0, 0, 0, 0, 0, 0, 0, 0, 0, 0, 0, 0, 0, 0, 0, 0,\n",
       "       0, 0, 1, 0, 1, 0, 0, 0, 0, 0, 1, 0, 0, 0, 0, 1, 0, 0, 0, 0, 0, 0,\n",
       "       0, 0, 0, 1, 0, 1, 0, 0, 0, 1, 0, 0, 0, 0, 0, 1, 0, 1, 0, 0, 0, 0,\n",
       "       0, 0, 1, 0, 0, 0, 0, 0, 0, 0, 1, 0, 1, 0, 1, 0, 0, 0, 0, 1, 0, 0,\n",
       "       0, 0, 1, 0, 0, 0, 1, 0, 0, 1, 0, 0, 0, 1, 0, 1, 0, 0, 0, 0, 0, 0,\n",
       "       0, 0, 1, 0, 0, 0, 0, 1, 0, 1, 1, 0, 0, 0, 1, 0, 1, 1, 0, 0, 0, 0,\n",
       "       0, 0, 0, 1, 0, 0, 1, 0, 0, 0, 0, 0, 1, 0, 0, 1, 0, 0, 0, 0, 0, 0,\n",
       "       0, 0, 0, 0, 1, 0, 0, 0, 1, 0, 0, 0, 0, 0, 0, 0, 0, 0, 0, 0, 0, 0,\n",
       "       0, 0, 0, 0, 0, 0, 0, 0, 0, 0, 1, 0, 1, 0, 1, 0, 0, 0, 0, 1, 1, 0,\n",
       "       0, 0, 0, 0, 0, 0, 0, 0, 1, 1, 0, 0, 0, 0, 0, 0, 0, 1, 0, 0, 0, 0,\n",
       "       0, 1, 0, 0, 0, 0, 0, 1, 0, 0, 0, 1, 1, 0, 0, 0, 1, 1, 0, 0, 0, 0,\n",
       "       0, 0, 0, 0, 1, 1, 0, 0, 0, 0, 0, 0, 0, 0, 0, 0, 0, 0, 0, 0, 0, 0,\n",
       "       0, 0, 1, 0, 0, 0, 0, 1, 0, 0, 0, 0, 0, 0, 0, 1, 1, 0, 0, 0, 0, 0,\n",
       "       1, 1, 0, 0, 1, 0, 1, 0, 0, 0, 1, 0, 0, 0, 0, 0, 0, 0, 0, 0, 1, 0,\n",
       "       0, 1, 0, 1, 0, 0, 0, 0, 1, 0, 0, 0, 0, 0])"
      ]
     },
     "execution_count": 7,
     "metadata": {},
     "output_type": "execute_result"
    }
   ],
   "source": [
    "y_pred = model1.predict(X_train)\n",
    "y_pred"
   ]
  },
  {
   "cell_type": "markdown",
   "id": "8dfb9017-0873-4a12-82c3-dc4eaadd6335",
   "metadata": {},
   "source": [
    "### 3\n",
    "\n",
    "Evaluate your in-sample results using the model score, confusion matrix, and classification report."
   ]
  },
  {
   "cell_type": "code",
   "execution_count": 8,
   "id": "641927fb-4a03-434c-b5e3-282c5746f26e",
   "metadata": {},
   "outputs": [
    {
     "data": {
      "text/plain": [
       "0.7831325301204819"
      ]
     },
     "execution_count": 8,
     "metadata": {},
     "output_type": "execute_result"
    }
   ],
   "source": [
    "model1.score(X_train, y_train)"
   ]
  },
  {
   "cell_type": "code",
   "execution_count": 9,
   "id": "d85e8ff6-193d-4356-895d-9a9d855cee42",
   "metadata": {},
   "outputs": [
    {
     "data": {
      "text/html": [
       "<div>\n",
       "<style scoped>\n",
       "    .dataframe tbody tr th:only-of-type {\n",
       "        vertical-align: middle;\n",
       "    }\n",
       "\n",
       "    .dataframe tbody tr th {\n",
       "        vertical-align: top;\n",
       "    }\n",
       "\n",
       "    .dataframe thead th {\n",
       "        text-align: right;\n",
       "    }\n",
       "</style>\n",
       "<table border=\"1\" class=\"dataframe\">\n",
       "  <thead>\n",
       "    <tr style=\"text-align: right;\">\n",
       "      <th></th>\n",
       "      <th>Predicted Did Not Survive</th>\n",
       "      <th>Predicted Survived</th>\n",
       "    </tr>\n",
       "  </thead>\n",
       "  <tbody>\n",
       "    <tr>\n",
       "      <th>Actual Did Not Survive</th>\n",
       "      <td>303</td>\n",
       "      <td>4</td>\n",
       "    </tr>\n",
       "    <tr>\n",
       "      <th>Actual Survived</th>\n",
       "      <td>104</td>\n",
       "      <td>87</td>\n",
       "    </tr>\n",
       "  </tbody>\n",
       "</table>\n",
       "</div>"
      ],
      "text/plain": [
       "                        Predicted Did Not Survive  Predicted Survived\n",
       "Actual Did Not Survive                        303                   4\n",
       "Actual Survived                               104                  87"
      ]
     },
     "execution_count": 9,
     "metadata": {},
     "output_type": "execute_result"
    }
   ],
   "source": [
    "index_labels = ['Actual Did Not Survive', 'Actual Survived']\n",
    "column_labels = ['Predicted Did Not Survive', 'Predicted Survived']\n",
    "pd.DataFrame(confusion_matrix(y_train, y_pred, labels = [0, 1]), index = index_labels, columns = column_labels)"
   ]
  },
  {
   "cell_type": "code",
   "execution_count": 10,
   "id": "04d3eeee-2ef0-4085-bfc4-4872f51c056f",
   "metadata": {},
   "outputs": [
    {
     "name": "stdout",
     "output_type": "stream",
     "text": [
      "              precision    recall  f1-score   support\n",
      "\n",
      "           0       0.74      0.99      0.85       307\n",
      "           1       0.96      0.46      0.62       191\n",
      "\n",
      "    accuracy                           0.78       498\n",
      "   macro avg       0.85      0.72      0.73       498\n",
      "weighted avg       0.83      0.78      0.76       498\n",
      "\n"
     ]
    }
   ],
   "source": [
    "print(classification_report(y_train, y_pred))"
   ]
  },
  {
   "cell_type": "markdown",
   "id": "f8f5de4a-2728-44aa-9b6d-74ac24e974d7",
   "metadata": {},
   "source": [
    "### 4\n",
    "\n",
    "Compute: Accuracy, true positive rate, false positive rate, true negative rate, false negative rate, precision, recall, f1-score, and support."
   ]
  },
  {
   "cell_type": "markdown",
   "id": "f7bd7bcb-feb6-4f42-aa72-4f9b5aa87629",
   "metadata": {},
   "source": [
    "> Accuracy:            0.78\n",
    "<br>\n",
    "> True Positive Rate:  0.17\n",
    "<br>\n",
    "> False Positive Rate: 0.008\n",
    "<br>\n",
    "> True Negative Rate:  0.61\n",
    "<br>\n",
    "> False Negative rate: 0.21\n",
    "<br>\n",
    "> Precision:           0.96, 0.74\n",
    "<br>\n",
    "> Recall:              0.46, 0.99\n",
    "<br>\n",
    "> f1-score:            0.62, 0.85\n",
    "<br>\n",
    "> Support:             498"
   ]
  },
  {
   "cell_type": "markdown",
   "id": "0f5435ce-1596-47e6-a839-3920b3c85808",
   "metadata": {},
   "source": [
    "### 5\n",
    "\n",
    "Run through steps 2-4 using a different max_depth value."
   ]
  },
  {
   "cell_type": "code",
   "execution_count": 11,
   "id": "779112c5-6d2d-44f2-8022-1553e4c8ec72",
   "metadata": {},
   "outputs": [
    {
     "data": {
      "text/plain": [
       "array([0, 0, 0, 0, 0, 0, 0, 0, 1, 0, 0, 1, 1, 0, 0, 0, 0, 0, 0, 0, 1, 0,\n",
       "       0, 1, 1, 0, 0, 0, 0, 1, 0, 1, 0, 0, 0, 0, 1, 1, 0, 0, 0, 1, 0, 0,\n",
       "       0, 1, 1, 0, 0, 0, 0, 1, 0, 0, 0, 1, 0, 0, 0, 1, 1, 0, 0, 0, 0, 0,\n",
       "       0, 0, 1, 1, 0, 0, 0, 0, 0, 0, 0, 0, 0, 1, 0, 0, 0, 1, 0, 0, 0, 0,\n",
       "       0, 0, 0, 1, 0, 0, 1, 0, 0, 1, 1, 1, 0, 1, 0, 0, 0, 0, 0, 0, 1, 0,\n",
       "       0, 1, 1, 1, 0, 0, 0, 0, 0, 0, 0, 1, 0, 1, 0, 0, 0, 0, 0, 0, 0, 0,\n",
       "       0, 1, 0, 0, 0, 0, 1, 0, 0, 0, 1, 1, 0, 0, 1, 0, 0, 0, 0, 0, 0, 0,\n",
       "       0, 1, 0, 0, 0, 1, 0, 0, 1, 0, 0, 0, 0, 1, 0, 0, 0, 0, 0, 1, 0, 0,\n",
       "       0, 0, 1, 0, 0, 0, 0, 0, 0, 1, 0, 0, 0, 0, 0, 0, 0, 0, 0, 0, 0, 1,\n",
       "       0, 0, 1, 0, 1, 0, 1, 0, 0, 0, 1, 0, 0, 0, 0, 1, 0, 0, 0, 0, 0, 0,\n",
       "       0, 0, 1, 1, 0, 1, 0, 0, 0, 1, 0, 0, 0, 0, 0, 1, 1, 1, 0, 0, 0, 0,\n",
       "       0, 0, 1, 0, 0, 0, 0, 0, 0, 0, 1, 0, 1, 1, 1, 0, 0, 0, 0, 1, 0, 0,\n",
       "       0, 0, 1, 0, 0, 0, 1, 0, 0, 1, 0, 0, 0, 1, 0, 1, 0, 1, 0, 0, 0, 0,\n",
       "       0, 0, 1, 0, 0, 0, 0, 1, 0, 1, 1, 0, 0, 0, 1, 0, 1, 1, 0, 0, 0, 0,\n",
       "       1, 0, 0, 1, 0, 1, 1, 0, 0, 0, 0, 0, 1, 1, 0, 1, 0, 0, 0, 1, 0, 0,\n",
       "       0, 0, 0, 0, 1, 0, 0, 0, 1, 0, 1, 0, 0, 0, 0, 1, 0, 0, 0, 0, 0, 1,\n",
       "       0, 0, 0, 0, 0, 1, 0, 0, 0, 0, 1, 0, 1, 0, 1, 0, 0, 0, 0, 1, 1, 0,\n",
       "       0, 0, 0, 0, 0, 0, 0, 1, 1, 1, 0, 0, 0, 0, 0, 0, 0, 1, 0, 0, 0, 0,\n",
       "       0, 1, 0, 0, 0, 0, 0, 1, 0, 0, 0, 1, 1, 0, 1, 0, 1, 1, 0, 0, 0, 0,\n",
       "       0, 0, 0, 0, 1, 1, 0, 1, 1, 0, 0, 0, 0, 0, 1, 0, 0, 0, 0, 0, 0, 0,\n",
       "       1, 0, 1, 0, 1, 0, 0, 1, 0, 0, 0, 0, 0, 0, 1, 1, 1, 1, 0, 0, 0, 0,\n",
       "       1, 1, 0, 0, 1, 0, 1, 0, 0, 0, 1, 0, 0, 0, 0, 0, 0, 0, 1, 0, 1, 0,\n",
       "       1, 1, 0, 1, 0, 0, 0, 0, 1, 0, 0, 0, 0, 0])"
      ]
     },
     "execution_count": 11,
     "metadata": {},
     "output_type": "execute_result"
    }
   ],
   "source": [
    "model2 = DecisionTreeClassifier(max_depth = 4)\n",
    "model2.fit(X_train, y_train)\n",
    "y_pred = model2.predict(X_train)\n",
    "y_pred"
   ]
  },
  {
   "cell_type": "code",
   "execution_count": 12,
   "id": "8ca5046f-e3b4-4cd3-8040-cbbf50931961",
   "metadata": {},
   "outputs": [
    {
     "data": {
      "text/plain": [
       "0.7951807228915663"
      ]
     },
     "execution_count": 12,
     "metadata": {},
     "output_type": "execute_result"
    }
   ],
   "source": [
    "model2.score(X_train, y_train)"
   ]
  },
  {
   "cell_type": "code",
   "execution_count": 13,
   "id": "36075002-e09c-4d30-9f9f-f369f609099e",
   "metadata": {},
   "outputs": [
    {
     "data": {
      "text/html": [
       "<div>\n",
       "<style scoped>\n",
       "    .dataframe tbody tr th:only-of-type {\n",
       "        vertical-align: middle;\n",
       "    }\n",
       "\n",
       "    .dataframe tbody tr th {\n",
       "        vertical-align: top;\n",
       "    }\n",
       "\n",
       "    .dataframe thead th {\n",
       "        text-align: right;\n",
       "    }\n",
       "</style>\n",
       "<table border=\"1\" class=\"dataframe\">\n",
       "  <thead>\n",
       "    <tr style=\"text-align: right;\">\n",
       "      <th></th>\n",
       "      <th>Predicted Did Not Survive</th>\n",
       "      <th>Predicted Survived</th>\n",
       "    </tr>\n",
       "  </thead>\n",
       "  <tbody>\n",
       "    <tr>\n",
       "      <th>Actual Did Not Survive</th>\n",
       "      <td>286</td>\n",
       "      <td>21</td>\n",
       "    </tr>\n",
       "    <tr>\n",
       "      <th>Actual Survived</th>\n",
       "      <td>81</td>\n",
       "      <td>110</td>\n",
       "    </tr>\n",
       "  </tbody>\n",
       "</table>\n",
       "</div>"
      ],
      "text/plain": [
       "                        Predicted Did Not Survive  Predicted Survived\n",
       "Actual Did Not Survive                        286                  21\n",
       "Actual Survived                                81                 110"
      ]
     },
     "execution_count": 13,
     "metadata": {},
     "output_type": "execute_result"
    }
   ],
   "source": [
    "pd.DataFrame(confusion_matrix(y_train, y_pred, labels = [0, 1]), index = index_labels, columns = column_labels)"
   ]
  },
  {
   "cell_type": "code",
   "execution_count": 14,
   "id": "0f094f5b-9d73-446a-a525-fecb4b1848ae",
   "metadata": {},
   "outputs": [
    {
     "name": "stdout",
     "output_type": "stream",
     "text": [
      "              precision    recall  f1-score   support\n",
      "\n",
      "           0       0.78      0.93      0.85       307\n",
      "           1       0.84      0.58      0.68       191\n",
      "\n",
      "    accuracy                           0.80       498\n",
      "   macro avg       0.81      0.75      0.77       498\n",
      "weighted avg       0.80      0.80      0.79       498\n",
      "\n"
     ]
    }
   ],
   "source": [
    "print(classification_report(y_train, y_pred))"
   ]
  },
  {
   "cell_type": "markdown",
   "id": "fbfcdd38-6fac-4e4c-b7c4-a12ae56d2813",
   "metadata": {},
   "source": [
    "### 6\n",
    "\n",
    "Which model performs better on your in-sample data?"
   ]
  },
  {
   "cell_type": "markdown",
   "id": "7e51b080-2b3f-4c55-973c-392f7a84a8ae",
   "metadata": {},
   "source": [
    "> In terms of accuracy model 2 performed better, but only slightly better."
   ]
  },
  {
   "cell_type": "markdown",
   "id": "376be61d-c7a3-4eda-8f94-5482b48250ac",
   "metadata": {},
   "source": [
    "### 7\n",
    "\n",
    "Which model performs best on your out-of-sample data, the validate set?"
   ]
  },
  {
   "cell_type": "code",
   "execution_count": 15,
   "id": "df493b36-a433-4ff4-a838-bb213ac548b4",
   "metadata": {},
   "outputs": [
    {
     "data": {
      "text/plain": [
       "(0.7897196261682243, 0.794392523364486)"
      ]
     },
     "execution_count": 15,
     "metadata": {},
     "output_type": "execute_result"
    }
   ],
   "source": [
    "model1.score(X_validate, y_validate), model2.score(X_validate, y_validate)"
   ]
  },
  {
   "cell_type": "markdown",
   "id": "f03dc409",
   "metadata": {},
   "source": [
    "Model 2 again performs slightly better on the validate set. Compared to the baseline which had an accuracy of 0.62 both models have better performance."
   ]
  },
  {
   "cell_type": "markdown",
   "id": "3abc00d2",
   "metadata": {},
   "source": [
    "## Telco Dataset"
   ]
  },
  {
   "cell_type": "markdown",
   "id": "36824a3c-254b-4d54-887e-e54374596b21",
   "metadata": {},
   "source": [
    "### Acquire Data"
   ]
  },
  {
   "cell_type": "code",
   "execution_count": 16,
   "id": "b1266b23-e907-4f67-a202-28dc2118c668",
   "metadata": {},
   "outputs": [
    {
     "data": {
      "text/plain": [
       "((3937, 47), (1688, 47), (1407, 47))"
      ]
     },
     "execution_count": 16,
     "metadata": {},
     "output_type": "execute_result"
    }
   ],
   "source": [
    "telco = get_telco_data()\n",
    "telco = prep_telco_data(telco)\n",
    "train, validate, test = split_data(telco, 'churn')\n",
    "train.shape, validate.shape, test.shape"
   ]
  },
  {
   "cell_type": "code",
   "execution_count": 17,
   "id": "069d03dd-bd16-4d61-af7d-aee51f164493",
   "metadata": {},
   "outputs": [
    {
     "name": "stdout",
     "output_type": "stream",
     "text": [
      "<class 'pandas.core.frame.DataFrame'>\n",
      "Int64Index: 3937 entries, 5467 to 2212\n",
      "Data columns (total 47 columns):\n",
      " #   Column                                 Non-Null Count  Dtype  \n",
      "---  ------                                 --------------  -----  \n",
      " 0   gender                                 3937 non-null   object \n",
      " 1   senior_citizen                         3937 non-null   int64  \n",
      " 2   partner                                3937 non-null   object \n",
      " 3   dependents                             3937 non-null   object \n",
      " 4   tenure                                 3937 non-null   int64  \n",
      " 5   phone_service                          3937 non-null   object \n",
      " 6   multiple_lines                         3937 non-null   object \n",
      " 7   online_security                        3937 non-null   object \n",
      " 8   online_backup                          3937 non-null   object \n",
      " 9   device_protection                      3937 non-null   object \n",
      " 10  tech_support                           3937 non-null   object \n",
      " 11  streaming_tv                           3937 non-null   object \n",
      " 12  streaming_movies                       3937 non-null   object \n",
      " 13  paperless_billing                      3937 non-null   object \n",
      " 14  monthly_charges                        3937 non-null   float64\n",
      " 15  total_charges                          3937 non-null   object \n",
      " 16  churn                                  3937 non-null   object \n",
      " 17  payment_type                           3937 non-null   object \n",
      " 18  internet_service_type                  3937 non-null   object \n",
      " 19  contract_type                          3937 non-null   object \n",
      " 20  gender_Male                            3937 non-null   uint8  \n",
      " 21  partner_Yes                            3937 non-null   uint8  \n",
      " 22  dependents_Yes                         3937 non-null   uint8  \n",
      " 23  phone_service_Yes                      3937 non-null   uint8  \n",
      " 24  multiple_lines_No phone service        3937 non-null   uint8  \n",
      " 25  multiple_lines_Yes                     3937 non-null   uint8  \n",
      " 26  online_security_No internet service    3937 non-null   uint8  \n",
      " 27  online_security_Yes                    3937 non-null   uint8  \n",
      " 28  online_backup_No internet service      3937 non-null   uint8  \n",
      " 29  online_backup_Yes                      3937 non-null   uint8  \n",
      " 30  device_protection_No internet service  3937 non-null   uint8  \n",
      " 31  device_protection_Yes                  3937 non-null   uint8  \n",
      " 32  tech_support_No internet service       3937 non-null   uint8  \n",
      " 33  tech_support_Yes                       3937 non-null   uint8  \n",
      " 34  streaming_tv_No internet service       3937 non-null   uint8  \n",
      " 35  streaming_tv_Yes                       3937 non-null   uint8  \n",
      " 36  streaming_movies_No internet service   3937 non-null   uint8  \n",
      " 37  streaming_movies_Yes                   3937 non-null   uint8  \n",
      " 38  paperless_billing_Yes                  3937 non-null   uint8  \n",
      " 39  churn_Yes                              3937 non-null   uint8  \n",
      " 40  payment_type_Credit card (automatic)   3937 non-null   uint8  \n",
      " 41  payment_type_Electronic check          3937 non-null   uint8  \n",
      " 42  payment_type_Mailed check              3937 non-null   uint8  \n",
      " 43  internet_service_type_Fiber optic      3937 non-null   uint8  \n",
      " 44  internet_service_type_None             3937 non-null   uint8  \n",
      " 45  contract_type_One year                 3937 non-null   uint8  \n",
      " 46  contract_type_Two year                 3937 non-null   uint8  \n",
      "dtypes: float64(1), int64(2), object(17), uint8(27)\n",
      "memory usage: 749.7+ KB\n"
     ]
    }
   ],
   "source": [
    "train.info()"
   ]
  },
  {
   "cell_type": "markdown",
   "id": "192607b3-f4d5-4086-81d3-66a8fd1d80af",
   "metadata": {},
   "source": [
    "### Establish Baseline"
   ]
  },
  {
   "cell_type": "code",
   "execution_count": 18,
   "id": "092e90ee-6986-4bad-852b-89ed33c74b3e",
   "metadata": {},
   "outputs": [
    {
     "data": {
      "text/plain": [
       "No     0.734315\n",
       "Yes    0.265685\n",
       "Name: churn, dtype: float64"
      ]
     },
     "execution_count": 18,
     "metadata": {},
     "output_type": "execute_result"
    }
   ],
   "source": [
    "train.churn.value_counts(normalize = True)"
   ]
  },
  {
   "cell_type": "markdown",
   "id": "45843875-bad7-4c28-9a7e-dfd45faca9bc",
   "metadata": {},
   "source": [
    "Our baseline model will be always predicting a customer does not churn which will have an accuracy of 0.73."
   ]
  },
  {
   "cell_type": "markdown",
   "id": "1c80cb36-5d21-44ae-ab66-d9ad2d8428c3",
   "metadata": {},
   "source": [
    "### Create Model"
   ]
  },
  {
   "cell_type": "markdown",
   "id": "fea62033-849e-4cc1-b537-9e4c2a804572",
   "metadata": {},
   "source": [
    "> We'll look at a model utilizing the internet_service_type_Fiber optic, internet_service_type_None, tenure, and monthly_charges columns."
   ]
  },
  {
   "cell_type": "code",
   "execution_count": 19,
   "id": "62159b01-d40d-4b4a-a113-8bf94d47e0e2",
   "metadata": {},
   "outputs": [],
   "source": [
    "columns = ['internet_service_type_Fiber optic', 'internet_service_type_None', 'tenure', 'monthly_charges']\n",
    "\n",
    "X_train = train[columns]\n",
    "y_train = train.churn\n",
    "\n",
    "X_validate = validate[columns]\n",
    "y_validate = validate.churn\n",
    "\n",
    "X_test = test[columns]\n",
    "y_test = test.churn"
   ]
  },
  {
   "cell_type": "code",
   "execution_count": 20,
   "id": "b6deb1d6-3248-40b1-ab31-636e86d372cd",
   "metadata": {},
   "outputs": [
    {
     "data": {
      "text/plain": [
       "DecisionTreeClassifier(max_depth=3, random_state=24)"
      ]
     },
     "execution_count": 20,
     "metadata": {},
     "output_type": "execute_result"
    }
   ],
   "source": [
    "model1 = DecisionTreeClassifier(max_depth = 3, random_state = 24)\n",
    "model1.fit(X_train, y_train)"
   ]
  },
  {
   "cell_type": "code",
   "execution_count": 21,
   "id": "7282b1c8-410e-43a1-8ed7-c6b7b9ae4eda",
   "metadata": {},
   "outputs": [
    {
     "data": {
      "text/plain": [
       "0.7866395732791466"
      ]
     },
     "execution_count": 21,
     "metadata": {},
     "output_type": "execute_result"
    }
   ],
   "source": [
    "model1.score(X_train, y_train)"
   ]
  },
  {
   "cell_type": "code",
   "execution_count": 22,
   "id": "2fa4bfff-6dce-413e-aaa1-46e84417a0f9",
   "metadata": {},
   "outputs": [
    {
     "name": "stdout",
     "output_type": "stream",
     "text": [
      "              precision    recall  f1-score   support\n",
      "\n",
      "          No       0.81      0.93      0.86      2891\n",
      "         Yes       0.66      0.40      0.50      1046\n",
      "\n",
      "    accuracy                           0.79      3937\n",
      "   macro avg       0.74      0.66      0.68      3937\n",
      "weighted avg       0.77      0.79      0.77      3937\n",
      "\n"
     ]
    }
   ],
   "source": [
    "print(classification_report(y_train, model1.predict(X_train)))"
   ]
  },
  {
   "cell_type": "markdown",
   "id": "9d4f0903-053d-486c-a2c3-b00c3c774695",
   "metadata": {},
   "source": [
    "### A Model With Different max_depth"
   ]
  },
  {
   "cell_type": "code",
   "execution_count": 23,
   "id": "331dd9a8-2563-458b-b613-c7b23d6ba65d",
   "metadata": {},
   "outputs": [
    {
     "data": {
      "text/plain": [
       "DecisionTreeClassifier(max_depth=9, random_state=24)"
      ]
     },
     "execution_count": 23,
     "metadata": {},
     "output_type": "execute_result"
    }
   ],
   "source": [
    "model2 = DecisionTreeClassifier(max_depth = 9, random_state = 24)\n",
    "model2.fit(X_train, y_train)"
   ]
  },
  {
   "cell_type": "code",
   "execution_count": 24,
   "id": "76e8bb8f-fa7c-4e65-8939-b9669f92002d",
   "metadata": {},
   "outputs": [
    {
     "data": {
      "text/plain": [
       "0.8432816865633731"
      ]
     },
     "execution_count": 24,
     "metadata": {},
     "output_type": "execute_result"
    }
   ],
   "source": [
    "model2.score(X_train, y_train)"
   ]
  },
  {
   "cell_type": "code",
   "execution_count": 25,
   "id": "fadc80a9-5356-4b20-a79f-851d28d67fa3",
   "metadata": {},
   "outputs": [
    {
     "name": "stdout",
     "output_type": "stream",
     "text": [
      "              precision    recall  f1-score   support\n",
      "\n",
      "          No       0.87      0.92      0.90      2891\n",
      "         Yes       0.74      0.64      0.68      1046\n",
      "\n",
      "    accuracy                           0.84      3937\n",
      "   macro avg       0.81      0.78      0.79      3937\n",
      "weighted avg       0.84      0.84      0.84      3937\n",
      "\n"
     ]
    }
   ],
   "source": [
    "print(classification_report(y_train, model2.predict(X_train)))"
   ]
  },
  {
   "cell_type": "code",
   "execution_count": 26,
   "id": "78b4ac0c-750c-43b9-a258-cd00ba4caa3c",
   "metadata": {},
   "outputs": [
    {
     "data": {
      "text/plain": [
       "(0.7932464454976303, 0.7648104265402843)"
      ]
     },
     "execution_count": 26,
     "metadata": {},
     "output_type": "execute_result"
    }
   ],
   "source": [
    "model1.score(X_validate, y_validate), model2.score(X_validate, y_validate)"
   ]
  },
  {
   "cell_type": "markdown",
   "id": "7779e26a-75d0-4aaf-bf0f-9bafbe7d965f",
   "metadata": {},
   "source": [
    "### A Model Using Different Features\n",
    "\n",
    "> Here we will use tenure, payment_type, and contract_type"
   ]
  },
  {
   "cell_type": "code",
   "execution_count": 27,
   "id": "4be084cc-c0c9-4940-a1ee-52ea07e6fe85",
   "metadata": {},
   "outputs": [],
   "source": [
    "columns = [\n",
    "    'payment_type_Credit card (automatic)',\n",
    "    'payment_type_Electronic check',\n",
    "    'payment_type_Mailed check',\n",
    "    'contract_type_One year',\n",
    "    'contract_type_Two year',\n",
    "    'tenure'\n",
    "]\n",
    "\n",
    "X_train = train[columns]\n",
    "y_train = train.churn\n",
    "\n",
    "X_validate = validate[columns]\n",
    "y_validate = validate.churn\n",
    "\n",
    "X_test = test[columns]\n",
    "y_test = test.churn"
   ]
  },
  {
   "cell_type": "code",
   "execution_count": 28,
   "id": "edbaa2c5-5f18-4a78-b9ca-67b05358c084",
   "metadata": {},
   "outputs": [
    {
     "data": {
      "text/plain": [
       "DecisionTreeClassifier(max_depth=9, random_state=24)"
      ]
     },
     "execution_count": 28,
     "metadata": {},
     "output_type": "execute_result"
    }
   ],
   "source": [
    "model3 = DecisionTreeClassifier(max_depth = 9, random_state = 24)\n",
    "model3.fit(X_train, y_train)"
   ]
  },
  {
   "cell_type": "code",
   "execution_count": 29,
   "id": "6ba64c91-eb57-409e-a43e-b694ee027652",
   "metadata": {},
   "outputs": [
    {
     "data": {
      "text/plain": [
       "0.7858775717551435"
      ]
     },
     "execution_count": 29,
     "metadata": {},
     "output_type": "execute_result"
    }
   ],
   "source": [
    "model3.score(X_train, y_train)"
   ]
  },
  {
   "cell_type": "code",
   "execution_count": 30,
   "id": "b3192c56-2045-4b86-b5f7-39844f6090fe",
   "metadata": {},
   "outputs": [
    {
     "name": "stdout",
     "output_type": "stream",
     "text": [
      "              precision    recall  f1-score   support\n",
      "\n",
      "          No       0.82      0.90      0.86      2891\n",
      "         Yes       0.63      0.46      0.54      1046\n",
      "\n",
      "    accuracy                           0.79      3937\n",
      "   macro avg       0.73      0.68      0.70      3937\n",
      "weighted avg       0.77      0.79      0.77      3937\n",
      "\n"
     ]
    }
   ],
   "source": [
    "print(classification_report(y_train, model3.predict(X_train)))"
   ]
  },
  {
   "cell_type": "markdown",
   "id": "347d8704-e011-440c-bdd4-1b6bda3e0dcf",
   "metadata": {},
   "source": [
    "> Let's try again with a different max_depth"
   ]
  },
  {
   "cell_type": "code",
   "execution_count": 31,
   "id": "5029d4d0-4b74-4f7e-8ff4-cd4c7a34a1b0",
   "metadata": {},
   "outputs": [
    {
     "data": {
      "text/plain": [
       "DecisionTreeClassifier(max_depth=15, random_state=24)"
      ]
     },
     "execution_count": 31,
     "metadata": {},
     "output_type": "execute_result"
    }
   ],
   "source": [
    "model4 = DecisionTreeClassifier(max_depth = 15, random_state = 24)\n",
    "model4.fit(X_train, y_train)"
   ]
  },
  {
   "cell_type": "code",
   "execution_count": 32,
   "id": "301fc923-a054-49c6-a990-b118213a2eac",
   "metadata": {},
   "outputs": [
    {
     "data": {
      "text/plain": [
       "0.7899415798831597"
      ]
     },
     "execution_count": 32,
     "metadata": {},
     "output_type": "execute_result"
    }
   ],
   "source": [
    "model4.score(X_train, y_train)"
   ]
  },
  {
   "cell_type": "code",
   "execution_count": 33,
   "id": "552bf474-b8be-4ab2-90dc-545f28a70159",
   "metadata": {},
   "outputs": [
    {
     "data": {
      "text/plain": [
       "(0.7618483412322274, 0.7541469194312796)"
      ]
     },
     "execution_count": 33,
     "metadata": {},
     "output_type": "execute_result"
    }
   ],
   "source": [
    "model3.score(X_validate, y_validate), model4.score(X_validate, y_validate)"
   ]
  },
  {
   "cell_type": "markdown",
   "id": "920ac603-2c78-4683-ae3f-5e62dc27c691",
   "metadata": {},
   "source": [
    "### Takeaways"
   ]
  },
  {
   "cell_type": "markdown",
   "id": "8b07c9c3-47eb-4771-b363-3bcb9a32c35e",
   "metadata": {},
   "source": [
    "Model 1 has consistent performance in predicting customer churn even with out of sample data. Compared to the baseline which had an accuracy of 73% model 1 does perform better."
   ]
  },
  {
   "cell_type": "markdown",
   "id": "7225218a-45fc-4fb7-a128-78ff0a9f3d19",
   "metadata": {},
   "source": [
    "# Random Forest Exercises"
   ]
  },
  {
   "cell_type": "markdown",
   "id": "1abc7edc-766c-43a0-b821-563ab1a75d89",
   "metadata": {},
   "source": [
    "## 1\n",
    "\n",
    ">Fit the Random Forest classifier to your training sample and transform (i.e. make predictions on the training sample) setting the random_state accordingly and setting min_samples_leaf = 1 and max_depth = 10."
   ]
  },
  {
   "cell_type": "code",
   "execution_count": 34,
   "id": "7f9782c3-b893-4fee-8628-a785ed144da4",
   "metadata": {},
   "outputs": [
    {
     "data": {
      "text/html": [
       "<div>\n",
       "<style scoped>\n",
       "    .dataframe tbody tr th:only-of-type {\n",
       "        vertical-align: middle;\n",
       "    }\n",
       "\n",
       "    .dataframe tbody tr th {\n",
       "        vertical-align: top;\n",
       "    }\n",
       "\n",
       "    .dataframe thead th {\n",
       "        text-align: right;\n",
       "    }\n",
       "</style>\n",
       "<table border=\"1\" class=\"dataframe\">\n",
       "  <thead>\n",
       "    <tr style=\"text-align: right;\">\n",
       "      <th></th>\n",
       "      <th>survived</th>\n",
       "      <th>pclass</th>\n",
       "      <th>sex</th>\n",
       "      <th>sibsp</th>\n",
       "      <th>parch</th>\n",
       "      <th>fare</th>\n",
       "      <th>embark_town</th>\n",
       "      <th>alone</th>\n",
       "      <th>sex_male</th>\n",
       "      <th>embark_town_Queenstown</th>\n",
       "      <th>embark_town_Southampton</th>\n",
       "    </tr>\n",
       "  </thead>\n",
       "  <tbody>\n",
       "    <tr>\n",
       "      <th>0</th>\n",
       "      <td>0</td>\n",
       "      <td>3</td>\n",
       "      <td>male</td>\n",
       "      <td>1</td>\n",
       "      <td>0</td>\n",
       "      <td>7.2500</td>\n",
       "      <td>Southampton</td>\n",
       "      <td>0</td>\n",
       "      <td>1</td>\n",
       "      <td>0</td>\n",
       "      <td>1</td>\n",
       "    </tr>\n",
       "    <tr>\n",
       "      <th>1</th>\n",
       "      <td>1</td>\n",
       "      <td>1</td>\n",
       "      <td>female</td>\n",
       "      <td>1</td>\n",
       "      <td>0</td>\n",
       "      <td>71.2833</td>\n",
       "      <td>Cherbourg</td>\n",
       "      <td>0</td>\n",
       "      <td>0</td>\n",
       "      <td>0</td>\n",
       "      <td>0</td>\n",
       "    </tr>\n",
       "    <tr>\n",
       "      <th>2</th>\n",
       "      <td>1</td>\n",
       "      <td>3</td>\n",
       "      <td>female</td>\n",
       "      <td>0</td>\n",
       "      <td>0</td>\n",
       "      <td>7.9250</td>\n",
       "      <td>Southampton</td>\n",
       "      <td>1</td>\n",
       "      <td>0</td>\n",
       "      <td>0</td>\n",
       "      <td>1</td>\n",
       "    </tr>\n",
       "    <tr>\n",
       "      <th>3</th>\n",
       "      <td>1</td>\n",
       "      <td>1</td>\n",
       "      <td>female</td>\n",
       "      <td>1</td>\n",
       "      <td>0</td>\n",
       "      <td>53.1000</td>\n",
       "      <td>Southampton</td>\n",
       "      <td>0</td>\n",
       "      <td>0</td>\n",
       "      <td>0</td>\n",
       "      <td>1</td>\n",
       "    </tr>\n",
       "    <tr>\n",
       "      <th>4</th>\n",
       "      <td>0</td>\n",
       "      <td>3</td>\n",
       "      <td>male</td>\n",
       "      <td>0</td>\n",
       "      <td>0</td>\n",
       "      <td>8.0500</td>\n",
       "      <td>Southampton</td>\n",
       "      <td>1</td>\n",
       "      <td>1</td>\n",
       "      <td>0</td>\n",
       "      <td>1</td>\n",
       "    </tr>\n",
       "  </tbody>\n",
       "</table>\n",
       "</div>"
      ],
      "text/plain": [
       "   survived  pclass     sex  sibsp  parch     fare  embark_town  alone  \\\n",
       "0         0       3    male      1      0   7.2500  Southampton      0   \n",
       "1         1       1  female      1      0  71.2833    Cherbourg      0   \n",
       "2         1       3  female      0      0   7.9250  Southampton      1   \n",
       "3         1       1  female      1      0  53.1000  Southampton      0   \n",
       "4         0       3    male      0      0   8.0500  Southampton      1   \n",
       "\n",
       "   sex_male  embark_town_Queenstown  embark_town_Southampton  \n",
       "0         1                       0                        1  \n",
       "1         0                       0                        0  \n",
       "2         0                       0                        1  \n",
       "3         0                       0                        1  \n",
       "4         1                       0                        1  "
      ]
     },
     "execution_count": 34,
     "metadata": {},
     "output_type": "execute_result"
    }
   ],
   "source": [
    "titanic.head()"
   ]
  },
  {
   "cell_type": "code",
   "execution_count": 35,
   "id": "28e12b87-8987-4d8c-8885-62ab1e436f0a",
   "metadata": {},
   "outputs": [],
   "source": [
    "train, validate, test = split_data(titanic, 'survived')"
   ]
  },
  {
   "cell_type": "code",
   "execution_count": 36,
   "id": "b528ee77-874b-4e71-92fd-ea4041512ffb",
   "metadata": {},
   "outputs": [],
   "source": [
    "features = ['pclass', 'alone', 'sex_male', 'sibsp', 'fare']\n",
    "\n",
    "X_train = train[features]\n",
    "y_train = train.survived\n",
    "\n",
    "X_validate = validate[features]\n",
    "y_validate = validate.survived\n",
    "\n",
    "X_test = test[features]\n",
    "y_test = test.survived"
   ]
  },
  {
   "cell_type": "code",
   "execution_count": 37,
   "id": "f50846d4-e726-4c14-9663-e2ed4f0dc867",
   "metadata": {},
   "outputs": [
    {
     "data": {
      "text/plain": [
       "RandomForestClassifier(max_depth=10)"
      ]
     },
     "execution_count": 37,
     "metadata": {},
     "output_type": "execute_result"
    }
   ],
   "source": [
    "model1 = RandomForestClassifier(min_samples_leaf = 1, max_depth = 10)\n",
    "model1.fit(X_train, y_train)"
   ]
  },
  {
   "cell_type": "code",
   "execution_count": 38,
   "id": "35747b29-979b-4a20-8067-83b9816ff7e1",
   "metadata": {},
   "outputs": [
    {
     "data": {
      "text/plain": [
       "array([0, 0, 1, 0, 0, 0, 0, 0, 1, 0, 1, 1, 1, 0, 0, 0, 1, 0, 0, 1, 1, 0,\n",
       "       0, 1, 1, 0, 0, 0, 0, 1, 0, 1, 0, 0, 0, 1, 1, 0, 0, 0, 0, 1, 0, 0,\n",
       "       1, 1, 1, 0, 0, 0, 0, 1, 1, 0, 0, 1, 0, 0, 0, 1, 1, 0, 0, 0, 1, 0,\n",
       "       0, 0, 1, 1, 0, 0, 0, 0, 0, 1, 0, 1, 0, 1, 0, 0, 1, 1, 0, 0, 0, 0,\n",
       "       1, 0, 0, 1, 0, 0, 1, 0, 0, 0, 1, 1, 0, 1, 0, 0, 0, 0, 0, 0, 1, 0,\n",
       "       0, 1, 1, 1, 0, 0, 0, 0, 0, 0, 0, 1, 0, 1, 0, 0, 0, 0, 0, 1, 0, 0,\n",
       "       0, 0, 0, 0, 1, 0, 0, 0, 0, 0, 1, 1, 0, 0, 1, 0, 0, 1, 1, 0, 0, 0,\n",
       "       0, 0, 0, 0, 0, 1, 0, 0, 1, 0, 1, 0, 0, 1, 0, 0, 0, 0, 0, 1, 0, 1,\n",
       "       0, 1, 1, 0, 0, 0, 0, 0, 0, 0, 0, 0, 1, 0, 1, 0, 0, 0, 0, 0, 0, 1,\n",
       "       0, 1, 1, 0, 1, 0, 1, 0, 0, 0, 1, 0, 0, 1, 0, 1, 0, 1, 0, 0, 1, 0,\n",
       "       0, 0, 1, 1, 0, 1, 1, 0, 1, 1, 0, 0, 0, 0, 0, 1, 0, 1, 0, 0, 0, 1,\n",
       "       0, 0, 1, 1, 0, 0, 0, 1, 0, 0, 1, 0, 1, 0, 1, 0, 0, 1, 0, 1, 0, 0,\n",
       "       0, 0, 1, 0, 1, 1, 1, 0, 0, 1, 0, 0, 0, 1, 0, 1, 1, 1, 1, 0, 0, 1,\n",
       "       0, 0, 1, 0, 0, 0, 0, 1, 1, 1, 1, 0, 0, 0, 0, 1, 1, 1, 0, 0, 0, 0,\n",
       "       1, 0, 0, 1, 0, 1, 1, 0, 1, 0, 0, 0, 1, 1, 0, 1, 1, 0, 0, 0, 0, 0,\n",
       "       0, 0, 1, 0, 1, 0, 0, 0, 1, 0, 0, 0, 0, 0, 1, 1, 0, 0, 0, 0, 0, 1,\n",
       "       0, 0, 0, 0, 0, 1, 1, 0, 0, 0, 1, 0, 1, 0, 1, 0, 0, 0, 0, 1, 0, 1,\n",
       "       0, 0, 0, 0, 0, 0, 1, 0, 1, 1, 0, 0, 0, 0, 0, 0, 0, 1, 0, 0, 0, 1,\n",
       "       1, 1, 0, 0, 0, 0, 0, 1, 0, 0, 0, 1, 1, 0, 0, 0, 1, 1, 1, 0, 1, 1,\n",
       "       0, 0, 0, 1, 1, 1, 0, 1, 1, 0, 0, 0, 0, 0, 0, 1, 0, 0, 0, 0, 0, 0,\n",
       "       1, 1, 1, 0, 1, 1, 0, 1, 0, 0, 0, 0, 0, 1, 1, 1, 1, 0, 0, 0, 0, 0,\n",
       "       1, 1, 0, 0, 1, 0, 1, 0, 0, 0, 1, 0, 1, 0, 0, 0, 0, 0, 1, 0, 1, 0,\n",
       "       0, 1, 0, 1, 0, 0, 0, 1, 1, 0, 0, 0, 1, 1])"
      ]
     },
     "execution_count": 38,
     "metadata": {},
     "output_type": "execute_result"
    }
   ],
   "source": [
    "model1.predict(X_train)"
   ]
  },
  {
   "cell_type": "markdown",
   "id": "8e03a1de-2b76-433a-b8cb-cc72b651f901",
   "metadata": {},
   "source": [
    "## 2\n",
    "\n",
    "> Evaluate your results using the model score, confusion matrix, and classification report."
   ]
  },
  {
   "cell_type": "code",
   "execution_count": 39,
   "id": "ca737e1e-6f33-4ea9-ab9a-8993af70f4ac",
   "metadata": {},
   "outputs": [
    {
     "data": {
      "text/plain": [
       "0.9116465863453815"
      ]
     },
     "execution_count": 39,
     "metadata": {},
     "output_type": "execute_result"
    }
   ],
   "source": [
    "model1.score(X_train, y_train)"
   ]
  },
  {
   "cell_type": "code",
   "execution_count": 40,
   "id": "528574fc-142d-426e-aceb-dc3279bf991f",
   "metadata": {},
   "outputs": [
    {
     "data": {
      "text/html": [
       "<div>\n",
       "<style scoped>\n",
       "    .dataframe tbody tr th:only-of-type {\n",
       "        vertical-align: middle;\n",
       "    }\n",
       "\n",
       "    .dataframe tbody tr th {\n",
       "        vertical-align: top;\n",
       "    }\n",
       "\n",
       "    .dataframe thead th {\n",
       "        text-align: right;\n",
       "    }\n",
       "</style>\n",
       "<table border=\"1\" class=\"dataframe\">\n",
       "  <thead>\n",
       "    <tr style=\"text-align: right;\">\n",
       "      <th></th>\n",
       "      <th>Predicted Did Not Survive</th>\n",
       "      <th>Predicted Survived</th>\n",
       "    </tr>\n",
       "  </thead>\n",
       "  <tbody>\n",
       "    <tr>\n",
       "      <th>Actual Did Not Survive</th>\n",
       "      <td>294</td>\n",
       "      <td>13</td>\n",
       "    </tr>\n",
       "    <tr>\n",
       "      <th>Actual Survived</th>\n",
       "      <td>31</td>\n",
       "      <td>160</td>\n",
       "    </tr>\n",
       "  </tbody>\n",
       "</table>\n",
       "</div>"
      ],
      "text/plain": [
       "                        Predicted Did Not Survive  Predicted Survived\n",
       "Actual Did Not Survive                        294                  13\n",
       "Actual Survived                                31                 160"
      ]
     },
     "execution_count": 40,
     "metadata": {},
     "output_type": "execute_result"
    }
   ],
   "source": [
    "index_labels = ['Actual Did Not Survive', 'Actual Survived']\n",
    "column_labels = ['Predicted Did Not Survive', 'Predicted Survived']\n",
    "pd.DataFrame(confusion_matrix(y_train, model1.predict(X_train), labels = [0, 1]), index = index_labels, columns = column_labels)"
   ]
  },
  {
   "cell_type": "code",
   "execution_count": 41,
   "id": "097a6f32-3470-41a1-a8d6-ff279bee518e",
   "metadata": {},
   "outputs": [
    {
     "name": "stdout",
     "output_type": "stream",
     "text": [
      "              precision    recall  f1-score   support\n",
      "\n",
      "           0       0.90      0.96      0.93       307\n",
      "           1       0.92      0.84      0.88       191\n",
      "\n",
      "    accuracy                           0.91       498\n",
      "   macro avg       0.91      0.90      0.90       498\n",
      "weighted avg       0.91      0.91      0.91       498\n",
      "\n"
     ]
    }
   ],
   "source": [
    "print(classification_report(y_train, model1.predict(X_train)))"
   ]
  },
  {
   "cell_type": "markdown",
   "id": "ee06c584-5817-4328-8cef-9e0667144fbf",
   "metadata": {},
   "source": [
    "## 3\n",
    "\n",
    "> Print and clearly label the following: Accuracy, true positive rate, false positive rate, true negative rate, false negative rate, precision, recall, f1-score, and support."
   ]
  },
  {
   "cell_type": "markdown",
   "id": "412fc31b-3bb7-4650-b13e-1340c1356ef8",
   "metadata": {},
   "source": [
    "- Accuracy:            0.91\n",
    "- True Positive Rate:  0.33\n",
    "- False Positive Rate: 0.03\n",
    "- True Negative Rate:  0.58\n",
    "- False Negative Rate: 0.05\n",
    "- Precision:\n",
    "--    Survived:        0.91\n",
    "--    Did Not Survive: 0.92\n",
    "- Recall:\n",
    "--    Survived:        0.86\n",
    "--    Did Not Survive: 0.95\n",
    "- f1-score:\n",
    "--    Survived:        0.88\n",
    "--    Did Not Survive: 0.93\n",
    "- Support:             498"
   ]
  },
  {
   "cell_type": "markdown",
   "id": "4ccf3b8d-b6e7-4f31-b3cc-b6d362ff833a",
   "metadata": {},
   "source": [
    "## 4\n",
    "\n",
    "> Run through steps increasing your min_samples_leaf and decreasing your max_depth."
   ]
  },
  {
   "cell_type": "code",
   "execution_count": 42,
   "id": "ddf0fdbd-c4d7-4272-a814-2438f20d2344",
   "metadata": {},
   "outputs": [
    {
     "name": "stdout",
     "output_type": "stream",
     "text": [
      "              precision    recall  f1-score   support\n",
      "\n",
      "           0       0.85      0.95      0.90       307\n",
      "           1       0.90      0.72      0.80       191\n",
      "\n",
      "    accuracy                           0.86       498\n",
      "   macro avg       0.87      0.84      0.85       498\n",
      "weighted avg       0.87      0.86      0.86       498\n",
      "\n",
      "              precision    recall  f1-score   support\n",
      "\n",
      "           0       0.84      0.93      0.89       307\n",
      "           1       0.87      0.72      0.79       191\n",
      "\n",
      "    accuracy                           0.85       498\n",
      "   macro avg       0.86      0.83      0.84       498\n",
      "weighted avg       0.85      0.85      0.85       498\n",
      "\n",
      "              precision    recall  f1-score   support\n",
      "\n",
      "           0       0.83      0.93      0.88       307\n",
      "           1       0.86      0.69      0.77       191\n",
      "\n",
      "    accuracy                           0.84       498\n",
      "   macro avg       0.85      0.81      0.82       498\n",
      "weighted avg       0.84      0.84      0.84       498\n",
      "\n",
      "              precision    recall  f1-score   support\n",
      "\n",
      "           0       0.80      0.96      0.88       307\n",
      "           1       0.91      0.62      0.74       191\n",
      "\n",
      "    accuracy                           0.83       498\n",
      "   macro avg       0.86      0.79      0.81       498\n",
      "weighted avg       0.85      0.83      0.82       498\n",
      "\n",
      "              precision    recall  f1-score   support\n",
      "\n",
      "           0       0.80      0.95      0.87       307\n",
      "           1       0.88      0.62      0.73       191\n",
      "\n",
      "    accuracy                           0.82       498\n",
      "   macro avg       0.84      0.78      0.80       498\n",
      "weighted avg       0.83      0.82      0.81       498\n",
      "\n",
      "              precision    recall  f1-score   support\n",
      "\n",
      "           0       0.79      0.95      0.86       307\n",
      "           1       0.89      0.58      0.70       191\n",
      "\n",
      "    accuracy                           0.81       498\n",
      "   macro avg       0.84      0.77      0.78       498\n",
      "weighted avg       0.82      0.81      0.80       498\n",
      "\n",
      "              precision    recall  f1-score   support\n",
      "\n",
      "           0       0.77      0.96      0.86       307\n",
      "           1       0.90      0.53      0.67       191\n",
      "\n",
      "    accuracy                           0.80       498\n",
      "   macro avg       0.84      0.75      0.76       498\n",
      "weighted avg       0.82      0.80      0.78       498\n",
      "\n",
      "              precision    recall  f1-score   support\n",
      "\n",
      "           0       0.77      0.90      0.83       307\n",
      "           1       0.78      0.56      0.65       191\n",
      "\n",
      "    accuracy                           0.77       498\n",
      "   macro avg       0.77      0.73      0.74       498\n",
      "weighted avg       0.77      0.77      0.76       498\n",
      "\n",
      "              precision    recall  f1-score   support\n",
      "\n",
      "           0       0.75      0.92      0.83       307\n",
      "           1       0.80      0.52      0.63       191\n",
      "\n",
      "    accuracy                           0.77       498\n",
      "   macro avg       0.78      0.72      0.73       498\n",
      "weighted avg       0.77      0.77      0.75       498\n",
      "\n"
     ]
    }
   ],
   "source": [
    "models = [model1]\n",
    "start = 2\n",
    "stop = 11\n",
    "\n",
    "for i in range(start, stop):\n",
    "    clf = RandomForestClassifier(min_samples_leaf = i, max_depth = stop - i)\n",
    "    clf.fit(X_train, y_train)\n",
    "    print(classification_report(y_train, clf.predict(X_train)))\n",
    "    \n",
    "    models.append(clf)"
   ]
  },
  {
   "cell_type": "markdown",
   "id": "20a2c41a-7b12-4e28-9e41-14510ec0c1d5",
   "metadata": {},
   "source": [
    "## 5\n",
    "\n",
    "> What are the differences in the evaluation metrics? Which performs better on your in-sample data? Why?"
   ]
  },
  {
   "cell_type": "markdown",
   "id": "e8e7cba9-9521-46c3-9161-e3cf44b4c908",
   "metadata": {},
   "source": [
    "As min_samples_leaf is increased and max_depth is decreased the performance of the model overall decreases with min_samples_leaf at 1 and max_depth at 10 providing the best performance overall. This is likely because the decision trees generated by the random forest provide better predictions given they have a greater max_depth."
   ]
  },
  {
   "cell_type": "markdown",
   "id": "e9afb14a-4e41-4470-ac0b-592650b4b710",
   "metadata": {},
   "source": [
    "## *\n",
    "\n",
    "> After making a few models, which one has the best performance (or closest metrics) on both train and validate?"
   ]
  },
  {
   "cell_type": "code",
   "execution_count": 43,
   "id": "86633d9d-9fc5-4cc8-ae11-81be93a0a30d",
   "metadata": {},
   "outputs": [
    {
     "name": "stdout",
     "output_type": "stream",
     "text": [
      "Train score for model 1: 0.9116465863453815\n",
      "Validate score for model 1: 0.794392523364486\n",
      "Validate precision for model 1: 0.7933333333333333\n",
      "Validate recall for model 1: 0.9015151515151515\n",
      "-------------------------\n",
      "Train score for model 2: 0.8634538152610441\n",
      "Validate score for model 2: 0.8130841121495327\n",
      "Validate precision for model 2: 0.7987012987012987\n",
      "Validate recall for model 2: 0.9318181818181818\n",
      "-------------------------\n",
      "Train score for model 3: 0.8514056224899599\n",
      "Validate score for model 3: 0.794392523364486\n",
      "Validate precision for model 3: 0.7894736842105263\n",
      "Validate recall for model 3: 0.9090909090909091\n",
      "-------------------------\n",
      "Train score for model 4: 0.8393574297188755\n",
      "Validate score for model 4: 0.8037383177570093\n",
      "Validate precision for model 4: 0.7848101265822784\n",
      "Validate recall for model 4: 0.9393939393939394\n",
      "-------------------------\n",
      "Train score for model 5: 0.8313253012048193\n",
      "Validate score for model 5: 0.8037383177570093\n",
      "Validate precision for model 5: 0.78125\n",
      "Validate recall for model 5: 0.946969696969697\n",
      "-------------------------\n",
      "Train score for model 6: 0.821285140562249\n",
      "Validate score for model 6: 0.8037383177570093\n",
      "Validate precision for model 6: 0.7884615384615384\n",
      "Validate recall for model 6: 0.9318181818181818\n",
      "-------------------------\n",
      "Train score for model 7: 0.8112449799196787\n",
      "Validate score for model 7: 0.8084112149532711\n",
      "Validate precision for model 7: 0.782608695652174\n",
      "Validate recall for model 7: 0.9545454545454546\n",
      "-------------------------\n",
      "Train score for model 8: 0.7991967871485943\n",
      "Validate score for model 8: 0.8037383177570093\n",
      "Validate precision for model 8: 0.7777777777777778\n",
      "Validate recall for model 8: 0.9545454545454546\n",
      "-------------------------\n",
      "Train score for model 9: 0.7710843373493976\n",
      "Validate score for model 9: 0.8084112149532711\n",
      "Validate precision for model 9: 0.7898089171974523\n",
      "Validate recall for model 9: 0.9393939393939394\n",
      "-------------------------\n",
      "Train score for model 10: 0.7670682730923695\n",
      "Validate score for model 10: 0.8084112149532711\n",
      "Validate precision for model 10: 0.7791411042944786\n",
      "Validate recall for model 10: 0.9621212121212122\n",
      "-------------------------\n"
     ]
    }
   ],
   "source": [
    "for index, model in enumerate(models):\n",
    "    print(f'Train score for model {index + 1}: {model.score(X_train, y_train)}')\n",
    "    print(f'Validate score for model {index + 1}: {model.score(X_validate, y_validate)}')\n",
    "    print(f'Validate precision for model {index + 1}: {precision_score(y_validate, model.predict(X_validate), pos_label = 0)}')\n",
    "    print(f'Validate recall for model {index + 1}: {recall_score(y_validate, model.predict(X_validate), pos_label = 0)}')\n",
    "    print('-------------------------')"
   ]
  },
  {
   "cell_type": "markdown",
   "id": "9feb321a-9b65-44a5-be3c-30418d1817fc",
   "metadata": {},
   "source": [
    "When testing the models on the validate set all models have similar accuracy, precision and recall with some variety of scores for each."
   ]
  },
  {
   "cell_type": "markdown",
   "id": "3cbfcf32-f67a-4c17-a4ae-f1380882008e",
   "metadata": {},
   "source": [
    "# KNN Exericses"
   ]
  },
  {
   "cell_type": "code",
   "execution_count": 44,
   "id": "aac5e447-4746-4d3c-bab0-ede5256fc648",
   "metadata": {},
   "outputs": [
    {
     "data": {
      "text/html": [
       "<div>\n",
       "<style scoped>\n",
       "    .dataframe tbody tr th:only-of-type {\n",
       "        vertical-align: middle;\n",
       "    }\n",
       "\n",
       "    .dataframe tbody tr th {\n",
       "        vertical-align: top;\n",
       "    }\n",
       "\n",
       "    .dataframe thead th {\n",
       "        text-align: right;\n",
       "    }\n",
       "</style>\n",
       "<table border=\"1\" class=\"dataframe\">\n",
       "  <thead>\n",
       "    <tr style=\"text-align: right;\">\n",
       "      <th></th>\n",
       "      <th>survived</th>\n",
       "      <th>pclass</th>\n",
       "      <th>sex</th>\n",
       "      <th>sibsp</th>\n",
       "      <th>parch</th>\n",
       "      <th>fare</th>\n",
       "      <th>embark_town</th>\n",
       "      <th>alone</th>\n",
       "      <th>sex_male</th>\n",
       "      <th>embark_town_Queenstown</th>\n",
       "      <th>embark_town_Southampton</th>\n",
       "    </tr>\n",
       "  </thead>\n",
       "  <tbody>\n",
       "    <tr>\n",
       "      <th>0</th>\n",
       "      <td>0</td>\n",
       "      <td>3</td>\n",
       "      <td>male</td>\n",
       "      <td>1</td>\n",
       "      <td>0</td>\n",
       "      <td>7.2500</td>\n",
       "      <td>Southampton</td>\n",
       "      <td>0</td>\n",
       "      <td>1</td>\n",
       "      <td>0</td>\n",
       "      <td>1</td>\n",
       "    </tr>\n",
       "    <tr>\n",
       "      <th>1</th>\n",
       "      <td>1</td>\n",
       "      <td>1</td>\n",
       "      <td>female</td>\n",
       "      <td>1</td>\n",
       "      <td>0</td>\n",
       "      <td>71.2833</td>\n",
       "      <td>Cherbourg</td>\n",
       "      <td>0</td>\n",
       "      <td>0</td>\n",
       "      <td>0</td>\n",
       "      <td>0</td>\n",
       "    </tr>\n",
       "    <tr>\n",
       "      <th>2</th>\n",
       "      <td>1</td>\n",
       "      <td>3</td>\n",
       "      <td>female</td>\n",
       "      <td>0</td>\n",
       "      <td>0</td>\n",
       "      <td>7.9250</td>\n",
       "      <td>Southampton</td>\n",
       "      <td>1</td>\n",
       "      <td>0</td>\n",
       "      <td>0</td>\n",
       "      <td>1</td>\n",
       "    </tr>\n",
       "    <tr>\n",
       "      <th>3</th>\n",
       "      <td>1</td>\n",
       "      <td>1</td>\n",
       "      <td>female</td>\n",
       "      <td>1</td>\n",
       "      <td>0</td>\n",
       "      <td>53.1000</td>\n",
       "      <td>Southampton</td>\n",
       "      <td>0</td>\n",
       "      <td>0</td>\n",
       "      <td>0</td>\n",
       "      <td>1</td>\n",
       "    </tr>\n",
       "    <tr>\n",
       "      <th>4</th>\n",
       "      <td>0</td>\n",
       "      <td>3</td>\n",
       "      <td>male</td>\n",
       "      <td>0</td>\n",
       "      <td>0</td>\n",
       "      <td>8.0500</td>\n",
       "      <td>Southampton</td>\n",
       "      <td>1</td>\n",
       "      <td>1</td>\n",
       "      <td>0</td>\n",
       "      <td>1</td>\n",
       "    </tr>\n",
       "  </tbody>\n",
       "</table>\n",
       "</div>"
      ],
      "text/plain": [
       "   survived  pclass     sex  sibsp  parch     fare  embark_town  alone  \\\n",
       "0         0       3    male      1      0   7.2500  Southampton      0   \n",
       "1         1       1  female      1      0  71.2833    Cherbourg      0   \n",
       "2         1       3  female      0      0   7.9250  Southampton      1   \n",
       "3         1       1  female      1      0  53.1000  Southampton      0   \n",
       "4         0       3    male      0      0   8.0500  Southampton      1   \n",
       "\n",
       "   sex_male  embark_town_Queenstown  embark_town_Southampton  \n",
       "0         1                       0                        1  \n",
       "1         0                       0                        0  \n",
       "2         0                       0                        1  \n",
       "3         0                       0                        1  \n",
       "4         1                       0                        1  "
      ]
     },
     "execution_count": 44,
     "metadata": {},
     "output_type": "execute_result"
    }
   ],
   "source": [
    "titanic.head()"
   ]
  },
  {
   "cell_type": "code",
   "execution_count": 45,
   "id": "0b34b90d-b071-4bd6-b913-5155c1267bc4",
   "metadata": {},
   "outputs": [
    {
     "data": {
      "text/plain": [
       "((498, 11), (214, 11), (179, 11))"
      ]
     },
     "execution_count": 45,
     "metadata": {},
     "output_type": "execute_result"
    }
   ],
   "source": [
    "train.shape, validate.shape, test.shape"
   ]
  },
  {
   "cell_type": "markdown",
   "id": "df3490ab-1d6b-459a-9c84-0c2edfa40984",
   "metadata": {},
   "source": [
    "## 1\n",
    "\n",
    "> Fit a K-Nearest Neighbors classifier to your training sample and transform (i.e. make predictions on the training sample)"
   ]
  },
  {
   "cell_type": "code",
   "execution_count": 46,
   "id": "ef1e5989-b666-46c4-be71-2f75e934a28f",
   "metadata": {},
   "outputs": [
    {
     "data": {
      "text/plain": [
       "KNeighborsClassifier(n_neighbors=2)"
      ]
     },
     "execution_count": 46,
     "metadata": {},
     "output_type": "execute_result"
    }
   ],
   "source": [
    "model1 = KNeighborsClassifier(n_neighbors = 2, weights = 'uniform')\n",
    "model1.fit(X_train, y_train)"
   ]
  },
  {
   "cell_type": "code",
   "execution_count": 47,
   "id": "ac05aba5-aab4-4690-9337-8e9b3fcea341",
   "metadata": {},
   "outputs": [
    {
     "data": {
      "text/plain": [
       "array([0, 0, 0, 0, 0, 0, 0, 0, 1, 0, 1, 1, 1, 0, 0, 0, 0, 0, 0, 0, 0, 0,\n",
       "       0, 1, 0, 0, 0, 0, 0, 1, 0, 1, 0, 0, 0, 0, 0, 0, 0, 0, 0, 1, 0, 0,\n",
       "       1, 1, 0, 0, 0, 0, 0, 0, 1, 0, 0, 1, 0, 0, 0, 1, 1, 0, 0, 0, 1, 0,\n",
       "       0, 0, 0, 1, 0, 0, 0, 0, 0, 1, 0, 0, 0, 1, 0, 0, 0, 1, 0, 0, 0, 0,\n",
       "       0, 0, 0, 0, 0, 0, 0, 0, 0, 0, 1, 0, 0, 1, 0, 0, 0, 0, 0, 0, 0, 0,\n",
       "       0, 1, 1, 1, 0, 0, 0, 0, 0, 0, 0, 1, 0, 1, 0, 0, 0, 0, 0, 1, 0, 0,\n",
       "       0, 0, 0, 0, 0, 0, 0, 0, 0, 0, 1, 1, 0, 0, 1, 0, 0, 0, 1, 0, 0, 0,\n",
       "       0, 0, 0, 0, 0, 0, 0, 0, 0, 0, 0, 0, 0, 1, 0, 0, 0, 0, 0, 1, 0, 0,\n",
       "       0, 0, 1, 0, 0, 0, 0, 0, 0, 0, 0, 0, 0, 0, 1, 0, 0, 0, 0, 0, 0, 0,\n",
       "       0, 1, 1, 0, 1, 0, 0, 0, 0, 0, 1, 0, 0, 0, 0, 1, 0, 0, 0, 0, 1, 0,\n",
       "       0, 0, 0, 1, 0, 1, 0, 0, 1, 1, 0, 0, 0, 0, 0, 1, 0, 1, 0, 0, 0, 0,\n",
       "       0, 0, 1, 0, 0, 0, 0, 0, 0, 0, 0, 0, 1, 0, 1, 0, 0, 0, 0, 1, 0, 0,\n",
       "       0, 0, 1, 0, 0, 0, 1, 0, 0, 1, 0, 0, 0, 1, 0, 1, 0, 1, 1, 0, 0, 1,\n",
       "       0, 0, 1, 0, 0, 0, 0, 1, 1, 0, 1, 0, 0, 0, 0, 1, 1, 1, 0, 0, 0, 0,\n",
       "       1, 0, 0, 0, 0, 0, 1, 0, 0, 0, 0, 0, 1, 0, 0, 1, 0, 0, 0, 0, 0, 0,\n",
       "       0, 0, 1, 0, 1, 0, 0, 0, 1, 0, 0, 0, 0, 0, 0, 0, 0, 0, 0, 0, 0, 1,\n",
       "       0, 0, 0, 0, 0, 0, 0, 0, 0, 0, 1, 0, 1, 0, 1, 0, 0, 0, 0, 1, 0, 1,\n",
       "       0, 0, 0, 0, 0, 0, 1, 0, 0, 1, 0, 0, 0, 0, 0, 0, 0, 1, 0, 0, 0, 0,\n",
       "       1, 1, 0, 0, 0, 0, 0, 1, 0, 0, 0, 1, 1, 0, 0, 0, 1, 0, 0, 0, 1, 1,\n",
       "       0, 0, 0, 1, 0, 0, 0, 0, 1, 0, 0, 0, 0, 0, 0, 0, 0, 0, 0, 0, 0, 0,\n",
       "       1, 0, 1, 0, 1, 0, 0, 1, 0, 0, 0, 0, 0, 0, 0, 1, 1, 0, 0, 0, 0, 0,\n",
       "       1, 1, 0, 0, 1, 0, 0, 0, 0, 0, 1, 0, 1, 0, 0, 0, 0, 0, 0, 0, 1, 0,\n",
       "       0, 1, 0, 1, 0, 0, 0, 0, 1, 0, 0, 0, 1, 1])"
      ]
     },
     "execution_count": 47,
     "metadata": {},
     "output_type": "execute_result"
    }
   ],
   "source": [
    "model1.predict(X_train)"
   ]
  },
  {
   "cell_type": "markdown",
   "id": "074f0105-29ed-4b29-a723-f09992c80a64",
   "metadata": {},
   "source": [
    "## 2\n",
    "\n",
    "> Evaluate your results using the model score, confusion matrix, and classification report."
   ]
  },
  {
   "cell_type": "code",
   "execution_count": 48,
   "id": "3321640c-9671-4cdd-b58b-3ff8fedd373e",
   "metadata": {},
   "outputs": [
    {
     "data": {
      "text/plain": [
       "0.8232931726907631"
      ]
     },
     "execution_count": 48,
     "metadata": {},
     "output_type": "execute_result"
    }
   ],
   "source": [
    "model1.score(X_train, y_train)"
   ]
  },
  {
   "cell_type": "code",
   "execution_count": 49,
   "id": "4c71b82d-86f1-451a-abec-896f593cd624",
   "metadata": {},
   "outputs": [
    {
     "data": {
      "text/html": [
       "<div>\n",
       "<style scoped>\n",
       "    .dataframe tbody tr th:only-of-type {\n",
       "        vertical-align: middle;\n",
       "    }\n",
       "\n",
       "    .dataframe tbody tr th {\n",
       "        vertical-align: top;\n",
       "    }\n",
       "\n",
       "    .dataframe thead th {\n",
       "        text-align: right;\n",
       "    }\n",
       "</style>\n",
       "<table border=\"1\" class=\"dataframe\">\n",
       "  <thead>\n",
       "    <tr style=\"text-align: right;\">\n",
       "      <th></th>\n",
       "      <th>Predicted Did Not Survive</th>\n",
       "      <th>Predicted Survived</th>\n",
       "    </tr>\n",
       "  </thead>\n",
       "  <tbody>\n",
       "    <tr>\n",
       "      <th>Actual Did Not Survive</th>\n",
       "      <td>304</td>\n",
       "      <td>3</td>\n",
       "    </tr>\n",
       "    <tr>\n",
       "      <th>Actual Survived</th>\n",
       "      <td>85</td>\n",
       "      <td>106</td>\n",
       "    </tr>\n",
       "  </tbody>\n",
       "</table>\n",
       "</div>"
      ],
      "text/plain": [
       "                        Predicted Did Not Survive  Predicted Survived\n",
       "Actual Did Not Survive                        304                   3\n",
       "Actual Survived                                85                 106"
      ]
     },
     "execution_count": 49,
     "metadata": {},
     "output_type": "execute_result"
    }
   ],
   "source": [
    "index_labels = ['Actual Did Not Survive', 'Actual Survived']\n",
    "column_labels = ['Predicted Did Not Survive', 'Predicted Survived']\n",
    "pd.DataFrame(confusion_matrix(y_train, model1.predict(X_train), labels = [0, 1]), index = index_labels, columns = column_labels)"
   ]
  },
  {
   "cell_type": "code",
   "execution_count": 50,
   "id": "1a9d5c34-43a9-48aa-a523-7b0af02ff6c9",
   "metadata": {},
   "outputs": [
    {
     "name": "stdout",
     "output_type": "stream",
     "text": [
      "              precision    recall  f1-score   support\n",
      "\n",
      "           0       0.78      0.99      0.87       307\n",
      "           1       0.97      0.55      0.71       191\n",
      "\n",
      "    accuracy                           0.82       498\n",
      "   macro avg       0.88      0.77      0.79       498\n",
      "weighted avg       0.85      0.82      0.81       498\n",
      "\n"
     ]
    }
   ],
   "source": [
    "print(classification_report(y_train, model1.predict(X_train)))"
   ]
  },
  {
   "cell_type": "markdown",
   "id": "416cfda3-5d73-4b6a-9a3a-46423e90118c",
   "metadata": {},
   "source": [
    "## 3\n",
    "\n",
    "> Print and clearly label the following: Accuracy, true positive rate, false positive rate, true negative rate, false negative rate, precision, recall, f1-score, and support."
   ]
  },
  {
   "cell_type": "markdown",
   "id": "024e362b-f9df-47bf-9622-fdc195de132d",
   "metadata": {},
   "source": [
    "- Accuracy:            0.82\n",
    "- True Positive Rate:  0.21\n",
    "- False Positive Rate: 0.01\n",
    "- True Negative Rate:  0.61\n",
    "- False Negative Rate: 0.17\n",
    "- Precision:\n",
    "--    Survived:        0.97\n",
    "--    Did Not Survive: 0.78\n",
    "- Recall:\n",
    "--    Survived:        0.55\n",
    "--    Did Not Survive: 0.99\n",
    "- f1-score:\n",
    "--    Survived:        0.71\n",
    "--    Did Not Survive: 0.87\n",
    "- Support:             498"
   ]
  },
  {
   "cell_type": "markdown",
   "id": "b8961384-9137-4d23-92cd-5ae52b4dd8ec",
   "metadata": {},
   "source": [
    "## 4\n",
    "\n",
    "> Run through steps 1-3 setting k to 10"
   ]
  },
  {
   "cell_type": "code",
   "execution_count": 51,
   "id": "54fa7731-144f-456b-9186-15f5ba1423ac",
   "metadata": {},
   "outputs": [
    {
     "data": {
      "text/plain": [
       "KNeighborsClassifier(n_neighbors=10)"
      ]
     },
     "execution_count": 51,
     "metadata": {},
     "output_type": "execute_result"
    }
   ],
   "source": [
    "model2 = KNeighborsClassifier(n_neighbors = 10, weights = 'uniform')\n",
    "model2.fit(X_train, y_train)"
   ]
  },
  {
   "cell_type": "code",
   "execution_count": 52,
   "id": "23c4ccad-2301-498b-9811-2b542daf0813",
   "metadata": {},
   "outputs": [
    {
     "data": {
      "text/plain": [
       "array([0, 0, 1, 0, 0, 0, 0, 0, 1, 0, 1, 1, 1, 0, 0, 0, 0, 0, 0, 0, 1, 0,\n",
       "       0, 1, 0, 0, 0, 0, 0, 1, 0, 1, 0, 0, 0, 1, 0, 0, 0, 0, 0, 1, 0, 1,\n",
       "       1, 1, 0, 0, 0, 0, 0, 1, 1, 0, 0, 1, 0, 0, 0, 1, 1, 0, 0, 0, 0, 0,\n",
       "       0, 0, 0, 1, 0, 0, 0, 0, 0, 1, 0, 1, 0, 1, 0, 0, 0, 1, 0, 0, 0, 0,\n",
       "       0, 0, 0, 0, 0, 0, 1, 0, 0, 1, 1, 0, 0, 1, 0, 0, 0, 0, 0, 0, 1, 1,\n",
       "       0, 1, 1, 0, 0, 0, 0, 0, 0, 0, 0, 1, 0, 1, 0, 0, 0, 0, 0, 1, 1, 1,\n",
       "       0, 0, 0, 0, 0, 0, 0, 1, 0, 0, 1, 1, 0, 0, 1, 0, 0, 0, 1, 0, 0, 0,\n",
       "       0, 0, 0, 0, 0, 1, 0, 0, 0, 0, 1, 0, 1, 1, 0, 0, 1, 0, 0, 1, 0, 1,\n",
       "       0, 0, 1, 0, 0, 0, 0, 0, 0, 1, 0, 0, 1, 1, 1, 0, 0, 1, 0, 0, 1, 1,\n",
       "       0, 1, 1, 0, 1, 0, 1, 0, 1, 1, 1, 0, 0, 1, 0, 0, 0, 1, 0, 0, 1, 0,\n",
       "       0, 0, 1, 1, 0, 1, 1, 0, 1, 1, 0, 0, 0, 0, 0, 1, 0, 0, 1, 0, 0, 1,\n",
       "       0, 0, 1, 1, 1, 0, 0, 1, 0, 0, 0, 0, 1, 1, 0, 0, 0, 0, 0, 1, 0, 0,\n",
       "       0, 0, 1, 0, 0, 1, 1, 0, 0, 1, 0, 0, 0, 0, 0, 1, 0, 1, 1, 0, 0, 0,\n",
       "       0, 0, 1, 0, 1, 0, 0, 1, 0, 1, 0, 0, 1, 0, 1, 1, 1, 1, 0, 0, 0, 0,\n",
       "       1, 0, 0, 0, 0, 0, 1, 0, 0, 0, 0, 0, 1, 1, 0, 1, 1, 0, 0, 1, 0, 0,\n",
       "       0, 0, 1, 0, 1, 0, 0, 0, 1, 0, 1, 0, 0, 0, 0, 1, 0, 1, 0, 1, 0, 1,\n",
       "       0, 0, 0, 0, 1, 1, 1, 0, 0, 0, 1, 0, 1, 0, 1, 0, 0, 0, 0, 0, 0, 1,\n",
       "       0, 0, 0, 0, 0, 0, 1, 0, 0, 1, 0, 0, 0, 0, 0, 0, 0, 1, 0, 0, 1, 1,\n",
       "       1, 0, 0, 0, 1, 0, 0, 1, 0, 0, 0, 1, 1, 0, 0, 0, 1, 0, 1, 0, 1, 0,\n",
       "       0, 0, 0, 1, 1, 0, 0, 1, 1, 0, 0, 0, 1, 0, 0, 0, 1, 0, 0, 0, 0, 0,\n",
       "       1, 1, 1, 0, 1, 1, 0, 1, 0, 0, 0, 0, 1, 1, 1, 1, 1, 0, 0, 0, 0, 0,\n",
       "       0, 1, 0, 0, 1, 0, 0, 0, 0, 1, 1, 0, 0, 0, 0, 0, 0, 0, 1, 0, 1, 0,\n",
       "       0, 1, 0, 1, 0, 0, 0, 1, 1, 0, 0, 0, 0, 1])"
      ]
     },
     "execution_count": 52,
     "metadata": {},
     "output_type": "execute_result"
    }
   ],
   "source": [
    "model2.predict(X_train)"
   ]
  },
  {
   "cell_type": "code",
   "execution_count": 53,
   "id": "d1a44f72-514f-40d0-b923-df2718d59848",
   "metadata": {},
   "outputs": [
    {
     "name": "stdout",
     "output_type": "stream",
     "text": [
      "              precision    recall  f1-score   support\n",
      "\n",
      "           0       0.80      0.88      0.84       307\n",
      "           1       0.77      0.65      0.71       191\n",
      "\n",
      "    accuracy                           0.79       498\n",
      "   macro avg       0.79      0.77      0.77       498\n",
      "weighted avg       0.79      0.79      0.79       498\n",
      "\n"
     ]
    }
   ],
   "source": [
    "print(classification_report(y_train, model2.predict(X_train)))"
   ]
  },
  {
   "cell_type": "markdown",
   "id": "78921ecc-c448-4ee9-bd03-1fea0eaa9be7",
   "metadata": {},
   "source": [
    "## 5\n",
    "\n",
    "> Run through setps 1-3 setting k to 20"
   ]
  },
  {
   "cell_type": "code",
   "execution_count": 54,
   "id": "4209165a-f78a-46b6-a7cc-acef19424d23",
   "metadata": {},
   "outputs": [
    {
     "data": {
      "text/plain": [
       "KNeighborsClassifier(n_neighbors=20)"
      ]
     },
     "execution_count": 54,
     "metadata": {},
     "output_type": "execute_result"
    }
   ],
   "source": [
    "model3 = KNeighborsClassifier(n_neighbors = 20, weights = 'uniform')\n",
    "model3.fit(X_train, y_train)"
   ]
  },
  {
   "cell_type": "code",
   "execution_count": 55,
   "id": "52002cb8-4ddf-4d48-b76c-e8bc788e4498",
   "metadata": {},
   "outputs": [
    {
     "data": {
      "text/plain": [
       "array([0, 0, 0, 0, 0, 0, 1, 0, 1, 0, 0, 1, 1, 0, 0, 0, 0, 0, 0, 0, 1, 0,\n",
       "       0, 1, 0, 0, 0, 0, 0, 1, 0, 1, 0, 0, 0, 1, 0, 0, 0, 1, 1, 1, 0, 0,\n",
       "       1, 1, 0, 0, 0, 0, 0, 0, 1, 0, 0, 1, 0, 0, 0, 1, 0, 0, 0, 0, 0, 0,\n",
       "       0, 1, 0, 1, 0, 0, 1, 0, 0, 1, 0, 0, 0, 1, 0, 0, 0, 1, 0, 0, 0, 0,\n",
       "       0, 0, 0, 1, 0, 0, 1, 0, 0, 1, 0, 1, 0, 1, 0, 0, 0, 1, 0, 0, 1, 0,\n",
       "       0, 0, 0, 0, 1, 0, 0, 0, 0, 0, 0, 1, 0, 1, 0, 0, 0, 0, 0, 1, 1, 0,\n",
       "       0, 0, 0, 0, 0, 0, 0, 1, 0, 0, 1, 1, 0, 0, 1, 0, 0, 0, 1, 0, 0, 0,\n",
       "       0, 0, 0, 0, 0, 1, 0, 0, 1, 0, 0, 0, 1, 0, 0, 0, 1, 0, 0, 1, 0, 0,\n",
       "       0, 1, 1, 0, 0, 0, 0, 0, 0, 0, 0, 0, 0, 0, 0, 0, 0, 1, 0, 0, 1, 1,\n",
       "       0, 1, 0, 0, 1, 0, 1, 0, 0, 1, 1, 0, 1, 1, 0, 0, 0, 1, 0, 0, 0, 0,\n",
       "       0, 0, 1, 0, 0, 1, 1, 0, 0, 1, 0, 0, 0, 0, 0, 1, 0, 0, 0, 0, 0, 0,\n",
       "       0, 0, 0, 1, 1, 0, 0, 1, 0, 0, 0, 0, 0, 1, 1, 0, 1, 0, 0, 0, 0, 1,\n",
       "       0, 0, 1, 0, 0, 1, 1, 0, 0, 0, 0, 0, 0, 0, 0, 0, 0, 1, 0, 0, 0, 0,\n",
       "       0, 0, 1, 0, 0, 0, 0, 0, 0, 1, 1, 1, 1, 0, 1, 0, 1, 1, 0, 0, 0, 0,\n",
       "       1, 0, 0, 1, 0, 1, 0, 0, 0, 0, 0, 0, 1, 1, 0, 1, 1, 0, 0, 1, 0, 0,\n",
       "       0, 0, 1, 0, 1, 0, 0, 0, 1, 0, 1, 0, 0, 0, 0, 1, 0, 0, 0, 0, 0, 1,\n",
       "       1, 0, 0, 0, 1, 1, 1, 0, 0, 0, 0, 0, 0, 0, 1, 0, 0, 0, 0, 1, 0, 1,\n",
       "       0, 0, 0, 0, 0, 0, 1, 0, 0, 1, 0, 0, 0, 0, 0, 0, 0, 1, 1, 0, 1, 1,\n",
       "       1, 0, 0, 0, 0, 0, 0, 1, 0, 0, 0, 0, 0, 0, 1, 0, 1, 1, 1, 0, 1, 0,\n",
       "       0, 0, 0, 0, 1, 0, 0, 1, 1, 0, 0, 0, 0, 0, 1, 0, 1, 1, 0, 0, 1, 0,\n",
       "       1, 1, 0, 0, 1, 1, 0, 1, 0, 0, 0, 0, 0, 1, 1, 1, 1, 1, 0, 0, 0, 0,\n",
       "       0, 1, 0, 0, 0, 0, 1, 0, 0, 1, 1, 0, 0, 0, 0, 0, 0, 0, 1, 0, 0, 0,\n",
       "       0, 0, 0, 1, 0, 0, 0, 0, 0, 1, 0, 0, 0, 0])"
      ]
     },
     "execution_count": 55,
     "metadata": {},
     "output_type": "execute_result"
    }
   ],
   "source": [
    "model3.predict(X_train)"
   ]
  },
  {
   "cell_type": "code",
   "execution_count": 56,
   "id": "b4789b30-185f-4679-9e93-cf70d65849a7",
   "metadata": {},
   "outputs": [
    {
     "name": "stdout",
     "output_type": "stream",
     "text": [
      "              precision    recall  f1-score   support\n",
      "\n",
      "           0       0.73      0.86      0.79       307\n",
      "           1       0.69      0.50      0.58       191\n",
      "\n",
      "    accuracy                           0.72       498\n",
      "   macro avg       0.71      0.68      0.69       498\n",
      "weighted avg       0.72      0.72      0.71       498\n",
      "\n"
     ]
    }
   ],
   "source": [
    "print(classification_report(y_train, model3.predict(X_train)))"
   ]
  },
  {
   "cell_type": "markdown",
   "id": "95d9dd42-d4fb-4336-8b88-6e39f49915c6",
   "metadata": {},
   "source": [
    "## 6\n",
    "\n",
    "> What are the differences in the evaluation metrics? Which performs better on your in-sample data? Why?"
   ]
  },
  {
   "cell_type": "markdown",
   "id": "954a8cfc-e0f0-4d0d-b0dd-50f1e710bdd4",
   "metadata": {},
   "source": [
    "Model 2 and 3 have the same performance and both perform better than model 1 in terms of accuracy and recall, but model 1 has better precision."
   ]
  },
  {
   "cell_type": "markdown",
   "id": "088680e0-7601-45ff-85f5-20f6c8bfe3a5",
   "metadata": {},
   "source": [
    "## 7\n",
    "\n",
    "> Which model performs best on our out-of-sample data from validate?"
   ]
  },
  {
   "cell_type": "code",
   "execution_count": 57,
   "id": "d340ed00-85f3-4342-9829-7cf29510664a",
   "metadata": {},
   "outputs": [
    {
     "name": "stdout",
     "output_type": "stream",
     "text": [
      "Model 1\n",
      "              precision    recall  f1-score   support\n",
      "\n",
      "           0       0.75      0.93      0.83       132\n",
      "           1       0.82      0.49      0.61        82\n",
      "\n",
      "    accuracy                           0.76       214\n",
      "   macro avg       0.78      0.71      0.72       214\n",
      "weighted avg       0.77      0.76      0.74       214\n",
      "\n",
      "Model 2\n",
      "              precision    recall  f1-score   support\n",
      "\n",
      "           0       0.76      0.86      0.81       132\n",
      "           1       0.72      0.56      0.63        82\n",
      "\n",
      "    accuracy                           0.75       214\n",
      "   macro avg       0.74      0.71      0.72       214\n",
      "weighted avg       0.74      0.75      0.74       214\n",
      "\n",
      "Model 3\n",
      "              precision    recall  f1-score   support\n",
      "\n",
      "           0       0.70      0.87      0.78       132\n",
      "           1       0.66      0.40      0.50        82\n",
      "\n",
      "    accuracy                           0.69       214\n",
      "   macro avg       0.68      0.64      0.64       214\n",
      "weighted avg       0.69      0.69      0.67       214\n",
      "\n"
     ]
    }
   ],
   "source": [
    "models = [model1, model2, model3]\n",
    "\n",
    "for index, model in enumerate(models):\n",
    "    print(f'Model {index + 1}')\n",
    "    print(classification_report(y_validate, model.predict(X_validate)))"
   ]
  },
  {
   "cell_type": "markdown",
   "id": "c7f4d383-fe6e-46c0-992f-2218bd3ef731",
   "metadata": {},
   "source": [
    "Overall as k is increased the performance of the model decreases with the model having k = 2 with the best performance. This is likely due to a larger value of k resulting in new data points being essentially dragged in too many directions and thus being more likely to be misclassified."
   ]
  },
  {
   "cell_type": "markdown",
   "id": "0f944eda-47be-485b-a47f-a60397a5c598",
   "metadata": {},
   "source": [
    "# Logistic Regression Exercises"
   ]
  },
  {
   "cell_type": "markdown",
   "id": "b060f65a-204b-4474-a7cd-57d51c573924",
   "metadata": {},
   "source": [
    "## 1\n",
    "\n",
    "> Create a model that includes age in addition to fare and pclass. Does this model perform better than your baseline?"
   ]
  },
  {
   "cell_type": "code",
   "execution_count": null,
   "id": "b3f0a6c2-42ea-4647-bdf6-05b66e97eadd",
   "metadata": {},
   "outputs": [],
   "source": []
  }
 ],
 "metadata": {
  "kernelspec": {
   "display_name": "Python 3 (ipykernel)",
   "language": "python",
   "name": "python3"
  },
  "language_info": {
   "codemirror_mode": {
    "name": "ipython",
    "version": 3
   },
   "file_extension": ".py",
   "mimetype": "text/x-python",
   "name": "python",
   "nbconvert_exporter": "python",
   "pygments_lexer": "ipython3",
   "version": "3.9.7"
  }
 },
 "nbformat": 4,
 "nbformat_minor": 5
}
