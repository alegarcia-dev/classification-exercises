{
 "cells": [
  {
   "cell_type": "code",
   "execution_count": 1,
   "id": "69c19598-ef0c-4f29-8886-eeb7d26f639a",
   "metadata": {},
   "outputs": [],
   "source": [
    "import numpy as np\n",
    "import pandas as pd\n",
    "\n",
    "from sklearn.tree import DecisionTreeClassifier, plot_tree\n",
    "from sklearn.ensemble import RandomForestClassifier\n",
    "from sklearn.neighbors import KNeighborsClassifier\n",
    "from sklearn.linear_model import LogisticRegression\n",
    "from sklearn.metrics import classification_report, precision_score, recall_score\n",
    "from sklearn.metrics import confusion_matrix\n",
    "\n",
    "import matplotlib.pyplot as plt\n",
    "import seaborn as sns\n",
    "\n",
    "from acquire import *\n",
    "from prepare import *"
   ]
  },
  {
   "cell_type": "code",
   "execution_count": 2,
   "id": "85da0049-7b04-47cf-88b5-5849cf11ca95",
   "metadata": {},
   "outputs": [
    {
     "data": {
      "text/plain": [
       "((498, 11), (214, 11), (179, 11))"
      ]
     },
     "execution_count": 2,
     "metadata": {},
     "output_type": "execute_result"
    }
   ],
   "source": [
    "titanic = get_titanic_data()\n",
    "titanic = prep_titanic_data(titanic)\n",
    "train, validate, test = split_data(titanic, 'survived')\n",
    "train.shape, validate.shape, test.shape"
   ]
  },
  {
   "cell_type": "code",
   "execution_count": 3,
   "id": "db29e56c-9ca9-48e0-a503-9bdcd1fa583f",
   "metadata": {},
   "outputs": [],
   "source": [
    "columns = ['pclass', 'sex_male', 'alone']\n",
    "\n",
    "X_train = train[columns]\n",
    "y_train = train.survived\n",
    "\n",
    "X_validate = validate[columns]\n",
    "y_validate = validate.survived\n",
    "\n",
    "X_test = test[columns]\n",
    "y_test = test.survived"
   ]
  },
  {
   "cell_type": "markdown",
   "id": "1711ab2c-cbf7-4427-8fe7-86f69b9126c0",
   "metadata": {},
   "source": [
    "# Decision Tree Exercises"
   ]
  },
  {
   "cell_type": "markdown",
   "id": "b29aa588-78e4-4f8e-b843-58caf055bd2b",
   "metadata": {},
   "source": [
    "## Titanic Dataset"
   ]
  },
  {
   "cell_type": "markdown",
   "id": "2308768e-8181-4eea-aa44-b1836840c1e5",
   "metadata": {},
   "source": [
    "### 1. \n",
    "\n",
    "What is your baseline prediction? What is your baseline accuracy? remember: your baseline prediction for a classification problem is predicting the most prevelant class in the training dataset (the mode). When you make those predictions, what is your accuracy? This is your baseline accuracy."
   ]
  },
  {
   "cell_type": "code",
   "execution_count": 4,
   "id": "17755f8d-b5f6-40c6-8be0-9d646da82a7a",
   "metadata": {},
   "outputs": [
    {
     "data": {
      "text/plain": [
       "0    0.616466\n",
       "1    0.383534\n",
       "Name: survived, dtype: float64"
      ]
     },
     "execution_count": 4,
     "metadata": {},
     "output_type": "execute_result"
    }
   ],
   "source": [
    "train.survived.value_counts(normalize = True)"
   ]
  },
  {
   "cell_type": "markdown",
   "id": "5043debc-1693-4908-ad90-07b74271b5a9",
   "metadata": {},
   "source": [
    "Our baseline model would be predicting the most common target value, which is did not survive. Given a baseline model that always predicts did not survive the accuracy of this model would be ~62%."
   ]
  },
  {
   "cell_type": "markdown",
   "id": "ef8d1c26-bc2f-43de-b0cd-cd232265ec6d",
   "metadata": {},
   "source": [
    "### 2.\n",
    "\n",
    "Fit the decision tree classifier to your training sample and transform (i.e. make predictions on the training sample)"
   ]
  },
  {
   "cell_type": "code",
   "execution_count": 5,
   "id": "647669e4-de69-4b5b-9195-8350b5504c41",
   "metadata": {},
   "outputs": [],
   "source": [
    "model1 = DecisionTreeClassifier(max_depth = 2)"
   ]
  },
  {
   "cell_type": "code",
   "execution_count": 6,
   "id": "0abea884-ad13-4b94-92a0-df1b6c275a48",
   "metadata": {},
   "outputs": [
    {
     "data": {
      "text/plain": [
       "DecisionTreeClassifier(max_depth=2)"
      ]
     },
     "execution_count": 6,
     "metadata": {},
     "output_type": "execute_result"
    }
   ],
   "source": [
    "model1.fit(X_train, y_train)"
   ]
  },
  {
   "cell_type": "code",
   "execution_count": 7,
   "id": "c8ced740-434e-4c27-ac78-ff05f9f313e4",
   "metadata": {},
   "outputs": [
    {
     "data": {
      "text/plain": [
       "array([0, 0, 0, 0, 0, 0, 0, 0, 0, 0, 0, 1, 1, 0, 0, 0, 0, 0, 0, 0, 0, 0,\n",
       "       0, 1, 0, 0, 0, 0, 0, 1, 0, 1, 0, 0, 0, 0, 0, 0, 0, 0, 0, 1, 0, 0,\n",
       "       0, 1, 1, 0, 0, 0, 0, 1, 0, 0, 0, 1, 0, 0, 0, 1, 1, 0, 0, 0, 0, 0,\n",
       "       0, 0, 1, 0, 0, 0, 0, 0, 0, 0, 0, 0, 0, 1, 0, 0, 0, 1, 0, 0, 0, 0,\n",
       "       0, 0, 0, 1, 0, 0, 1, 0, 0, 0, 1, 0, 0, 1, 0, 0, 0, 0, 0, 0, 1, 0,\n",
       "       0, 1, 1, 1, 0, 0, 0, 0, 0, 0, 0, 1, 0, 1, 0, 0, 0, 0, 0, 0, 0, 0,\n",
       "       0, 0, 0, 0, 0, 0, 0, 0, 0, 0, 1, 1, 0, 0, 1, 0, 0, 0, 0, 0, 0, 0,\n",
       "       0, 0, 0, 0, 0, 0, 0, 0, 0, 0, 0, 0, 0, 1, 0, 0, 0, 0, 0, 0, 0, 0,\n",
       "       0, 0, 1, 0, 0, 0, 0, 0, 0, 0, 0, 0, 0, 0, 0, 0, 0, 0, 0, 0, 0, 0,\n",
       "       0, 0, 1, 0, 1, 0, 0, 0, 0, 0, 1, 0, 0, 0, 0, 1, 0, 0, 0, 0, 0, 0,\n",
       "       0, 0, 0, 1, 0, 1, 0, 0, 0, 1, 0, 0, 0, 0, 0, 1, 0, 1, 0, 0, 0, 0,\n",
       "       0, 0, 1, 0, 0, 0, 0, 0, 0, 0, 1, 0, 1, 0, 1, 0, 0, 0, 0, 1, 0, 0,\n",
       "       0, 0, 1, 0, 0, 0, 1, 0, 0, 1, 0, 0, 0, 1, 0, 1, 0, 0, 0, 0, 0, 0,\n",
       "       0, 0, 1, 0, 0, 0, 0, 1, 0, 1, 1, 0, 0, 0, 1, 0, 1, 1, 0, 0, 0, 0,\n",
       "       0, 0, 0, 1, 0, 0, 1, 0, 0, 0, 0, 0, 1, 0, 0, 1, 0, 0, 0, 0, 0, 0,\n",
       "       0, 0, 0, 0, 1, 0, 0, 0, 1, 0, 0, 0, 0, 0, 0, 0, 0, 0, 0, 0, 0, 0,\n",
       "       0, 0, 0, 0, 0, 0, 0, 0, 0, 0, 1, 0, 1, 0, 1, 0, 0, 0, 0, 1, 1, 0,\n",
       "       0, 0, 0, 0, 0, 0, 0, 0, 1, 1, 0, 0, 0, 0, 0, 0, 0, 1, 0, 0, 0, 0,\n",
       "       0, 1, 0, 0, 0, 0, 0, 1, 0, 0, 0, 1, 1, 0, 0, 0, 1, 1, 0, 0, 0, 0,\n",
       "       0, 0, 0, 0, 1, 1, 0, 0, 0, 0, 0, 0, 0, 0, 0, 0, 0, 0, 0, 0, 0, 0,\n",
       "       0, 0, 1, 0, 0, 0, 0, 1, 0, 0, 0, 0, 0, 0, 0, 1, 1, 0, 0, 0, 0, 0,\n",
       "       1, 1, 0, 0, 1, 0, 1, 0, 0, 0, 1, 0, 0, 0, 0, 0, 0, 0, 0, 0, 1, 0,\n",
       "       0, 1, 0, 1, 0, 0, 0, 0, 1, 0, 0, 0, 0, 0])"
      ]
     },
     "execution_count": 7,
     "metadata": {},
     "output_type": "execute_result"
    }
   ],
   "source": [
    "y_pred = model1.predict(X_train)\n",
    "y_pred"
   ]
  },
  {
   "cell_type": "markdown",
   "id": "8dfb9017-0873-4a12-82c3-dc4eaadd6335",
   "metadata": {},
   "source": [
    "### 3\n",
    "\n",
    "Evaluate your in-sample results using the model score, confusion matrix, and classification report."
   ]
  },
  {
   "cell_type": "code",
   "execution_count": 8,
   "id": "641927fb-4a03-434c-b5e3-282c5746f26e",
   "metadata": {},
   "outputs": [
    {
     "data": {
      "text/plain": [
       "0.7831325301204819"
      ]
     },
     "execution_count": 8,
     "metadata": {},
     "output_type": "execute_result"
    }
   ],
   "source": [
    "model1.score(X_train, y_train)"
   ]
  },
  {
   "cell_type": "code",
   "execution_count": 9,
   "id": "d85e8ff6-193d-4356-895d-9a9d855cee42",
   "metadata": {},
   "outputs": [
    {
     "data": {
      "text/html": [
       "<div>\n",
       "<style scoped>\n",
       "    .dataframe tbody tr th:only-of-type {\n",
       "        vertical-align: middle;\n",
       "    }\n",
       "\n",
       "    .dataframe tbody tr th {\n",
       "        vertical-align: top;\n",
       "    }\n",
       "\n",
       "    .dataframe thead th {\n",
       "        text-align: right;\n",
       "    }\n",
       "</style>\n",
       "<table border=\"1\" class=\"dataframe\">\n",
       "  <thead>\n",
       "    <tr style=\"text-align: right;\">\n",
       "      <th></th>\n",
       "      <th>Predicted Did Not Survive</th>\n",
       "      <th>Predicted Survived</th>\n",
       "    </tr>\n",
       "  </thead>\n",
       "  <tbody>\n",
       "    <tr>\n",
       "      <th>Actual Did Not Survive</th>\n",
       "      <td>303</td>\n",
       "      <td>4</td>\n",
       "    </tr>\n",
       "    <tr>\n",
       "      <th>Actual Survived</th>\n",
       "      <td>104</td>\n",
       "      <td>87</td>\n",
       "    </tr>\n",
       "  </tbody>\n",
       "</table>\n",
       "</div>"
      ],
      "text/plain": [
       "                        Predicted Did Not Survive  Predicted Survived\n",
       "Actual Did Not Survive                        303                   4\n",
       "Actual Survived                               104                  87"
      ]
     },
     "execution_count": 9,
     "metadata": {},
     "output_type": "execute_result"
    }
   ],
   "source": [
    "index_labels = ['Actual Did Not Survive', 'Actual Survived']\n",
    "column_labels = ['Predicted Did Not Survive', 'Predicted Survived']\n",
    "pd.DataFrame(confusion_matrix(y_train, y_pred, labels = [0, 1]), index = index_labels, columns = column_labels)"
   ]
  },
  {
   "cell_type": "code",
   "execution_count": 10,
   "id": "04d3eeee-2ef0-4085-bfc4-4872f51c056f",
   "metadata": {},
   "outputs": [
    {
     "name": "stdout",
     "output_type": "stream",
     "text": [
      "              precision    recall  f1-score   support\n",
      "\n",
      "           0       0.74      0.99      0.85       307\n",
      "           1       0.96      0.46      0.62       191\n",
      "\n",
      "    accuracy                           0.78       498\n",
      "   macro avg       0.85      0.72      0.73       498\n",
      "weighted avg       0.83      0.78      0.76       498\n",
      "\n"
     ]
    }
   ],
   "source": [
    "print(classification_report(y_train, y_pred))"
   ]
  },
  {
   "cell_type": "markdown",
   "id": "f8f5de4a-2728-44aa-9b6d-74ac24e974d7",
   "metadata": {},
   "source": [
    "### 4\n",
    "\n",
    "Compute: Accuracy, true positive rate, false positive rate, true negative rate, false negative rate, precision, recall, f1-score, and support."
   ]
  },
  {
   "cell_type": "markdown",
   "id": "f7bd7bcb-feb6-4f42-aa72-4f9b5aa87629",
   "metadata": {},
   "source": [
    "> Accuracy:            0.78\n",
    "<br>\n",
    "> True Positive Rate:  0.17\n",
    "<br>\n",
    "> False Positive Rate: 0.008\n",
    "<br>\n",
    "> True Negative Rate:  0.61\n",
    "<br>\n",
    "> False Negative rate: 0.21\n",
    "<br>\n",
    "> Precision:           0.96, 0.74\n",
    "<br>\n",
    "> Recall:              0.46, 0.99\n",
    "<br>\n",
    "> f1-score:            0.62, 0.85\n",
    "<br>\n",
    "> Support:             498"
   ]
  },
  {
   "cell_type": "markdown",
   "id": "0f5435ce-1596-47e6-a839-3920b3c85808",
   "metadata": {},
   "source": [
    "### 5\n",
    "\n",
    "Run through steps 2-4 using a different max_depth value."
   ]
  },
  {
   "cell_type": "code",
   "execution_count": 11,
   "id": "779112c5-6d2d-44f2-8022-1553e4c8ec72",
   "metadata": {},
   "outputs": [
    {
     "data": {
      "text/plain": [
       "array([0, 0, 0, 0, 0, 0, 0, 0, 1, 0, 0, 1, 1, 0, 0, 0, 0, 0, 0, 0, 1, 0,\n",
       "       0, 1, 1, 0, 0, 0, 0, 1, 0, 1, 0, 0, 0, 0, 1, 1, 0, 0, 0, 1, 0, 0,\n",
       "       0, 1, 1, 0, 0, 0, 0, 1, 0, 0, 0, 1, 0, 0, 0, 1, 1, 0, 0, 0, 0, 0,\n",
       "       0, 0, 1, 1, 0, 0, 0, 0, 0, 0, 0, 0, 0, 1, 0, 0, 0, 1, 0, 0, 0, 0,\n",
       "       0, 0, 0, 1, 0, 0, 1, 0, 0, 1, 1, 1, 0, 1, 0, 0, 0, 0, 0, 0, 1, 0,\n",
       "       0, 1, 1, 1, 0, 0, 0, 0, 0, 0, 0, 1, 0, 1, 0, 0, 0, 0, 0, 0, 0, 0,\n",
       "       0, 1, 0, 0, 0, 0, 1, 0, 0, 0, 1, 1, 0, 0, 1, 0, 0, 0, 0, 0, 0, 0,\n",
       "       0, 1, 0, 0, 0, 1, 0, 0, 1, 0, 0, 0, 0, 1, 0, 0, 0, 0, 0, 1, 0, 0,\n",
       "       0, 0, 1, 0, 0, 0, 0, 0, 0, 1, 0, 0, 0, 0, 0, 0, 0, 0, 0, 0, 0, 1,\n",
       "       0, 0, 1, 0, 1, 0, 1, 0, 0, 0, 1, 0, 0, 0, 0, 1, 0, 0, 0, 0, 0, 0,\n",
       "       0, 0, 1, 1, 0, 1, 0, 0, 0, 1, 0, 0, 0, 0, 0, 1, 1, 1, 0, 0, 0, 0,\n",
       "       0, 0, 1, 0, 0, 0, 0, 0, 0, 0, 1, 0, 1, 1, 1, 0, 0, 0, 0, 1, 0, 0,\n",
       "       0, 0, 1, 0, 0, 0, 1, 0, 0, 1, 0, 0, 0, 1, 0, 1, 0, 1, 0, 0, 0, 0,\n",
       "       0, 0, 1, 0, 0, 0, 0, 1, 0, 1, 1, 0, 0, 0, 1, 0, 1, 1, 0, 0, 0, 0,\n",
       "       1, 0, 0, 1, 0, 1, 1, 0, 0, 0, 0, 0, 1, 1, 0, 1, 0, 0, 0, 1, 0, 0,\n",
       "       0, 0, 0, 0, 1, 0, 0, 0, 1, 0, 1, 0, 0, 0, 0, 1, 0, 0, 0, 0, 0, 1,\n",
       "       0, 0, 0, 0, 0, 1, 0, 0, 0, 0, 1, 0, 1, 0, 1, 0, 0, 0, 0, 1, 1, 0,\n",
       "       0, 0, 0, 0, 0, 0, 0, 1, 1, 1, 0, 0, 0, 0, 0, 0, 0, 1, 0, 0, 0, 0,\n",
       "       0, 1, 0, 0, 0, 0, 0, 1, 0, 0, 0, 1, 1, 0, 1, 0, 1, 1, 0, 0, 0, 0,\n",
       "       0, 0, 0, 0, 1, 1, 0, 1, 1, 0, 0, 0, 0, 0, 1, 0, 0, 0, 0, 0, 0, 0,\n",
       "       1, 0, 1, 0, 1, 0, 0, 1, 0, 0, 0, 0, 0, 0, 1, 1, 1, 1, 0, 0, 0, 0,\n",
       "       1, 1, 0, 0, 1, 0, 1, 0, 0, 0, 1, 0, 0, 0, 0, 0, 0, 0, 1, 0, 1, 0,\n",
       "       1, 1, 0, 1, 0, 0, 0, 0, 1, 0, 0, 0, 0, 0])"
      ]
     },
     "execution_count": 11,
     "metadata": {},
     "output_type": "execute_result"
    }
   ],
   "source": [
    "model2 = DecisionTreeClassifier(max_depth = 4)\n",
    "model2.fit(X_train, y_train)\n",
    "y_pred = model2.predict(X_train)\n",
    "y_pred"
   ]
  },
  {
   "cell_type": "code",
   "execution_count": 12,
   "id": "8ca5046f-e3b4-4cd3-8040-cbbf50931961",
   "metadata": {},
   "outputs": [
    {
     "data": {
      "text/plain": [
       "0.7951807228915663"
      ]
     },
     "execution_count": 12,
     "metadata": {},
     "output_type": "execute_result"
    }
   ],
   "source": [
    "model2.score(X_train, y_train)"
   ]
  },
  {
   "cell_type": "code",
   "execution_count": 13,
   "id": "36075002-e09c-4d30-9f9f-f369f609099e",
   "metadata": {},
   "outputs": [
    {
     "data": {
      "text/html": [
       "<div>\n",
       "<style scoped>\n",
       "    .dataframe tbody tr th:only-of-type {\n",
       "        vertical-align: middle;\n",
       "    }\n",
       "\n",
       "    .dataframe tbody tr th {\n",
       "        vertical-align: top;\n",
       "    }\n",
       "\n",
       "    .dataframe thead th {\n",
       "        text-align: right;\n",
       "    }\n",
       "</style>\n",
       "<table border=\"1\" class=\"dataframe\">\n",
       "  <thead>\n",
       "    <tr style=\"text-align: right;\">\n",
       "      <th></th>\n",
       "      <th>Predicted Did Not Survive</th>\n",
       "      <th>Predicted Survived</th>\n",
       "    </tr>\n",
       "  </thead>\n",
       "  <tbody>\n",
       "    <tr>\n",
       "      <th>Actual Did Not Survive</th>\n",
       "      <td>286</td>\n",
       "      <td>21</td>\n",
       "    </tr>\n",
       "    <tr>\n",
       "      <th>Actual Survived</th>\n",
       "      <td>81</td>\n",
       "      <td>110</td>\n",
       "    </tr>\n",
       "  </tbody>\n",
       "</table>\n",
       "</div>"
      ],
      "text/plain": [
       "                        Predicted Did Not Survive  Predicted Survived\n",
       "Actual Did Not Survive                        286                  21\n",
       "Actual Survived                                81                 110"
      ]
     },
     "execution_count": 13,
     "metadata": {},
     "output_type": "execute_result"
    }
   ],
   "source": [
    "pd.DataFrame(confusion_matrix(y_train, y_pred, labels = [0, 1]), index = index_labels, columns = column_labels)"
   ]
  },
  {
   "cell_type": "code",
   "execution_count": 14,
   "id": "0f094f5b-9d73-446a-a525-fecb4b1848ae",
   "metadata": {},
   "outputs": [
    {
     "name": "stdout",
     "output_type": "stream",
     "text": [
      "              precision    recall  f1-score   support\n",
      "\n",
      "           0       0.78      0.93      0.85       307\n",
      "           1       0.84      0.58      0.68       191\n",
      "\n",
      "    accuracy                           0.80       498\n",
      "   macro avg       0.81      0.75      0.77       498\n",
      "weighted avg       0.80      0.80      0.79       498\n",
      "\n"
     ]
    }
   ],
   "source": [
    "print(classification_report(y_train, y_pred))"
   ]
  },
  {
   "cell_type": "markdown",
   "id": "fbfcdd38-6fac-4e4c-b7c4-a12ae56d2813",
   "metadata": {},
   "source": [
    "### 6\n",
    "\n",
    "Which model performs better on your in-sample data?"
   ]
  },
  {
   "cell_type": "markdown",
   "id": "7e51b080-2b3f-4c55-973c-392f7a84a8ae",
   "metadata": {},
   "source": [
    "> In terms of accuracy model 2 performed better, but only slightly better."
   ]
  },
  {
   "cell_type": "markdown",
   "id": "376be61d-c7a3-4eda-8f94-5482b48250ac",
   "metadata": {},
   "source": [
    "### 7\n",
    "\n",
    "Which model performs best on your out-of-sample data, the validate set?"
   ]
  },
  {
   "cell_type": "code",
   "execution_count": 15,
   "id": "df493b36-a433-4ff4-a838-bb213ac548b4",
   "metadata": {},
   "outputs": [
    {
     "data": {
      "text/plain": [
       "(0.7897196261682243, 0.794392523364486)"
      ]
     },
     "execution_count": 15,
     "metadata": {},
     "output_type": "execute_result"
    }
   ],
   "source": [
    "model1.score(X_validate, y_validate), model2.score(X_validate, y_validate)"
   ]
  },
  {
   "cell_type": "markdown",
   "id": "f03dc409",
   "metadata": {},
   "source": [
    "Model 2 again performs slightly better on the validate set. Compared to the baseline which had an accuracy of 0.62 both models have better performance."
   ]
  },
  {
   "cell_type": "markdown",
   "id": "3abc00d2",
   "metadata": {},
   "source": [
    "## Telco Dataset"
   ]
  },
  {
   "cell_type": "markdown",
   "id": "36824a3c-254b-4d54-887e-e54374596b21",
   "metadata": {},
   "source": [
    "### Acquire Data"
   ]
  },
  {
   "cell_type": "code",
   "execution_count": 16,
   "id": "b1266b23-e907-4f67-a202-28dc2118c668",
   "metadata": {},
   "outputs": [
    {
     "data": {
      "text/plain": [
       "((3937, 47), (1688, 47), (1407, 47))"
      ]
     },
     "execution_count": 16,
     "metadata": {},
     "output_type": "execute_result"
    }
   ],
   "source": [
    "telco = get_telco_data()\n",
    "telco = prep_telco_data(telco)\n",
    "train, validate, test = split_data(telco, 'churn')\n",
    "train.shape, validate.shape, test.shape"
   ]
  },
  {
   "cell_type": "code",
   "execution_count": 17,
   "id": "069d03dd-bd16-4d61-af7d-aee51f164493",
   "metadata": {},
   "outputs": [
    {
     "name": "stdout",
     "output_type": "stream",
     "text": [
      "<class 'pandas.core.frame.DataFrame'>\n",
      "Int64Index: 3937 entries, 5467 to 2212\n",
      "Data columns (total 47 columns):\n",
      " #   Column                                 Non-Null Count  Dtype  \n",
      "---  ------                                 --------------  -----  \n",
      " 0   gender                                 3937 non-null   object \n",
      " 1   senior_citizen                         3937 non-null   int64  \n",
      " 2   partner                                3937 non-null   object \n",
      " 3   dependents                             3937 non-null   object \n",
      " 4   tenure                                 3937 non-null   int64  \n",
      " 5   phone_service                          3937 non-null   object \n",
      " 6   multiple_lines                         3937 non-null   object \n",
      " 7   online_security                        3937 non-null   object \n",
      " 8   online_backup                          3937 non-null   object \n",
      " 9   device_protection                      3937 non-null   object \n",
      " 10  tech_support                           3937 non-null   object \n",
      " 11  streaming_tv                           3937 non-null   object \n",
      " 12  streaming_movies                       3937 non-null   object \n",
      " 13  paperless_billing                      3937 non-null   object \n",
      " 14  monthly_charges                        3937 non-null   float64\n",
      " 15  total_charges                          3937 non-null   object \n",
      " 16  churn                                  3937 non-null   object \n",
      " 17  payment_type                           3937 non-null   object \n",
      " 18  internet_service_type                  3937 non-null   object \n",
      " 19  contract_type                          3937 non-null   object \n",
      " 20  gender_Male                            3937 non-null   uint8  \n",
      " 21  partner_Yes                            3937 non-null   uint8  \n",
      " 22  dependents_Yes                         3937 non-null   uint8  \n",
      " 23  phone_service_Yes                      3937 non-null   uint8  \n",
      " 24  multiple_lines_No phone service        3937 non-null   uint8  \n",
      " 25  multiple_lines_Yes                     3937 non-null   uint8  \n",
      " 26  online_security_No internet service    3937 non-null   uint8  \n",
      " 27  online_security_Yes                    3937 non-null   uint8  \n",
      " 28  online_backup_No internet service      3937 non-null   uint8  \n",
      " 29  online_backup_Yes                      3937 non-null   uint8  \n",
      " 30  device_protection_No internet service  3937 non-null   uint8  \n",
      " 31  device_protection_Yes                  3937 non-null   uint8  \n",
      " 32  tech_support_No internet service       3937 non-null   uint8  \n",
      " 33  tech_support_Yes                       3937 non-null   uint8  \n",
      " 34  streaming_tv_No internet service       3937 non-null   uint8  \n",
      " 35  streaming_tv_Yes                       3937 non-null   uint8  \n",
      " 36  streaming_movies_No internet service   3937 non-null   uint8  \n",
      " 37  streaming_movies_Yes                   3937 non-null   uint8  \n",
      " 38  paperless_billing_Yes                  3937 non-null   uint8  \n",
      " 39  churn_Yes                              3937 non-null   uint8  \n",
      " 40  payment_type_Credit card (automatic)   3937 non-null   uint8  \n",
      " 41  payment_type_Electronic check          3937 non-null   uint8  \n",
      " 42  payment_type_Mailed check              3937 non-null   uint8  \n",
      " 43  internet_service_type_Fiber optic      3937 non-null   uint8  \n",
      " 44  internet_service_type_None             3937 non-null   uint8  \n",
      " 45  contract_type_One year                 3937 non-null   uint8  \n",
      " 46  contract_type_Two year                 3937 non-null   uint8  \n",
      "dtypes: float64(1), int64(2), object(17), uint8(27)\n",
      "memory usage: 749.7+ KB\n"
     ]
    }
   ],
   "source": [
    "train.info()"
   ]
  },
  {
   "cell_type": "markdown",
   "id": "192607b3-f4d5-4086-81d3-66a8fd1d80af",
   "metadata": {},
   "source": [
    "### Establish Baseline"
   ]
  },
  {
   "cell_type": "code",
   "execution_count": 18,
   "id": "092e90ee-6986-4bad-852b-89ed33c74b3e",
   "metadata": {},
   "outputs": [
    {
     "data": {
      "text/plain": [
       "No     0.734315\n",
       "Yes    0.265685\n",
       "Name: churn, dtype: float64"
      ]
     },
     "execution_count": 18,
     "metadata": {},
     "output_type": "execute_result"
    }
   ],
   "source": [
    "train.churn.value_counts(normalize = True)"
   ]
  },
  {
   "cell_type": "markdown",
   "id": "45843875-bad7-4c28-9a7e-dfd45faca9bc",
   "metadata": {},
   "source": [
    "Our baseline model will be always predicting a customer does not churn which will have an accuracy of 0.73."
   ]
  },
  {
   "cell_type": "markdown",
   "id": "1c80cb36-5d21-44ae-ab66-d9ad2d8428c3",
   "metadata": {},
   "source": [
    "### Create Model"
   ]
  },
  {
   "cell_type": "markdown",
   "id": "fea62033-849e-4cc1-b537-9e4c2a804572",
   "metadata": {},
   "source": [
    "> We'll look at a model utilizing the internet_service_type_Fiber optic, internet_service_type_None, tenure, and monthly_charges columns."
   ]
  },
  {
   "cell_type": "code",
   "execution_count": 19,
   "id": "62159b01-d40d-4b4a-a113-8bf94d47e0e2",
   "metadata": {},
   "outputs": [],
   "source": [
    "columns = ['internet_service_type_Fiber optic', 'internet_service_type_None', 'tenure', 'monthly_charges']\n",
    "\n",
    "X_train = train[columns]\n",
    "y_train = train.churn\n",
    "\n",
    "X_validate = validate[columns]\n",
    "y_validate = validate.churn\n",
    "\n",
    "X_test = test[columns]\n",
    "y_test = test.churn"
   ]
  },
  {
   "cell_type": "code",
   "execution_count": 20,
   "id": "b6deb1d6-3248-40b1-ab31-636e86d372cd",
   "metadata": {},
   "outputs": [
    {
     "data": {
      "text/plain": [
       "DecisionTreeClassifier(max_depth=3, random_state=24)"
      ]
     },
     "execution_count": 20,
     "metadata": {},
     "output_type": "execute_result"
    }
   ],
   "source": [
    "model1 = DecisionTreeClassifier(max_depth = 3, random_state = 24)\n",
    "model1.fit(X_train, y_train)"
   ]
  },
  {
   "cell_type": "code",
   "execution_count": 21,
   "id": "7282b1c8-410e-43a1-8ed7-c6b7b9ae4eda",
   "metadata": {},
   "outputs": [
    {
     "data": {
      "text/plain": [
       "0.7866395732791466"
      ]
     },
     "execution_count": 21,
     "metadata": {},
     "output_type": "execute_result"
    }
   ],
   "source": [
    "model1.score(X_train, y_train)"
   ]
  },
  {
   "cell_type": "code",
   "execution_count": 22,
   "id": "2fa4bfff-6dce-413e-aaa1-46e84417a0f9",
   "metadata": {},
   "outputs": [
    {
     "name": "stdout",
     "output_type": "stream",
     "text": [
      "              precision    recall  f1-score   support\n",
      "\n",
      "          No       0.81      0.93      0.86      2891\n",
      "         Yes       0.66      0.40      0.50      1046\n",
      "\n",
      "    accuracy                           0.79      3937\n",
      "   macro avg       0.74      0.66      0.68      3937\n",
      "weighted avg       0.77      0.79      0.77      3937\n",
      "\n"
     ]
    }
   ],
   "source": [
    "print(classification_report(y_train, model1.predict(X_train)))"
   ]
  },
  {
   "cell_type": "markdown",
   "id": "9d4f0903-053d-486c-a2c3-b00c3c774695",
   "metadata": {},
   "source": [
    "### A Model With Different max_depth"
   ]
  },
  {
   "cell_type": "code",
   "execution_count": 23,
   "id": "331dd9a8-2563-458b-b613-c7b23d6ba65d",
   "metadata": {},
   "outputs": [
    {
     "data": {
      "text/plain": [
       "DecisionTreeClassifier(max_depth=9, random_state=24)"
      ]
     },
     "execution_count": 23,
     "metadata": {},
     "output_type": "execute_result"
    }
   ],
   "source": [
    "model2 = DecisionTreeClassifier(max_depth = 9, random_state = 24)\n",
    "model2.fit(X_train, y_train)"
   ]
  },
  {
   "cell_type": "code",
   "execution_count": 24,
   "id": "76e8bb8f-fa7c-4e65-8939-b9669f92002d",
   "metadata": {},
   "outputs": [
    {
     "data": {
      "text/plain": [
       "0.8432816865633731"
      ]
     },
     "execution_count": 24,
     "metadata": {},
     "output_type": "execute_result"
    }
   ],
   "source": [
    "model2.score(X_train, y_train)"
   ]
  },
  {
   "cell_type": "code",
   "execution_count": 25,
   "id": "fadc80a9-5356-4b20-a79f-851d28d67fa3",
   "metadata": {},
   "outputs": [
    {
     "name": "stdout",
     "output_type": "stream",
     "text": [
      "              precision    recall  f1-score   support\n",
      "\n",
      "          No       0.87      0.92      0.90      2891\n",
      "         Yes       0.74      0.64      0.68      1046\n",
      "\n",
      "    accuracy                           0.84      3937\n",
      "   macro avg       0.81      0.78      0.79      3937\n",
      "weighted avg       0.84      0.84      0.84      3937\n",
      "\n"
     ]
    }
   ],
   "source": [
    "print(classification_report(y_train, model2.predict(X_train)))"
   ]
  },
  {
   "cell_type": "code",
   "execution_count": 26,
   "id": "78b4ac0c-750c-43b9-a258-cd00ba4caa3c",
   "metadata": {},
   "outputs": [
    {
     "data": {
      "text/plain": [
       "(0.7932464454976303, 0.7648104265402843)"
      ]
     },
     "execution_count": 26,
     "metadata": {},
     "output_type": "execute_result"
    }
   ],
   "source": [
    "model1.score(X_validate, y_validate), model2.score(X_validate, y_validate)"
   ]
  },
  {
   "cell_type": "markdown",
   "id": "7779e26a-75d0-4aaf-bf0f-9bafbe7d965f",
   "metadata": {},
   "source": [
    "### A Model Using Different Features\n",
    "\n",
    "> Here we will use tenure, payment_type, and contract_type"
   ]
  },
  {
   "cell_type": "code",
   "execution_count": 27,
   "id": "4be084cc-c0c9-4940-a1ee-52ea07e6fe85",
   "metadata": {},
   "outputs": [],
   "source": [
    "columns = [\n",
    "    'payment_type_Credit card (automatic)',\n",
    "    'payment_type_Electronic check',\n",
    "    'payment_type_Mailed check',\n",
    "    'contract_type_One year',\n",
    "    'contract_type_Two year',\n",
    "    'tenure'\n",
    "]\n",
    "\n",
    "X_train = train[columns]\n",
    "y_train = train.churn\n",
    "\n",
    "X_validate = validate[columns]\n",
    "y_validate = validate.churn\n",
    "\n",
    "X_test = test[columns]\n",
    "y_test = test.churn"
   ]
  },
  {
   "cell_type": "code",
   "execution_count": 28,
   "id": "edbaa2c5-5f18-4a78-b9ca-67b05358c084",
   "metadata": {},
   "outputs": [
    {
     "data": {
      "text/plain": [
       "DecisionTreeClassifier(max_depth=9, random_state=24)"
      ]
     },
     "execution_count": 28,
     "metadata": {},
     "output_type": "execute_result"
    }
   ],
   "source": [
    "model3 = DecisionTreeClassifier(max_depth = 9, random_state = 24)\n",
    "model3.fit(X_train, y_train)"
   ]
  },
  {
   "cell_type": "code",
   "execution_count": 29,
   "id": "6ba64c91-eb57-409e-a43e-b694ee027652",
   "metadata": {},
   "outputs": [
    {
     "data": {
      "text/plain": [
       "0.7858775717551435"
      ]
     },
     "execution_count": 29,
     "metadata": {},
     "output_type": "execute_result"
    }
   ],
   "source": [
    "model3.score(X_train, y_train)"
   ]
  },
  {
   "cell_type": "code",
   "execution_count": 30,
   "id": "b3192c56-2045-4b86-b5f7-39844f6090fe",
   "metadata": {},
   "outputs": [
    {
     "name": "stdout",
     "output_type": "stream",
     "text": [
      "              precision    recall  f1-score   support\n",
      "\n",
      "          No       0.82      0.90      0.86      2891\n",
      "         Yes       0.63      0.46      0.54      1046\n",
      "\n",
      "    accuracy                           0.79      3937\n",
      "   macro avg       0.73      0.68      0.70      3937\n",
      "weighted avg       0.77      0.79      0.77      3937\n",
      "\n"
     ]
    }
   ],
   "source": [
    "print(classification_report(y_train, model3.predict(X_train)))"
   ]
  },
  {
   "cell_type": "markdown",
   "id": "347d8704-e011-440c-bdd4-1b6bda3e0dcf",
   "metadata": {},
   "source": [
    "> Let's try again with a different max_depth"
   ]
  },
  {
   "cell_type": "code",
   "execution_count": 31,
   "id": "5029d4d0-4b74-4f7e-8ff4-cd4c7a34a1b0",
   "metadata": {},
   "outputs": [
    {
     "data": {
      "text/plain": [
       "DecisionTreeClassifier(max_depth=15, random_state=24)"
      ]
     },
     "execution_count": 31,
     "metadata": {},
     "output_type": "execute_result"
    }
   ],
   "source": [
    "model4 = DecisionTreeClassifier(max_depth = 15, random_state = 24)\n",
    "model4.fit(X_train, y_train)"
   ]
  },
  {
   "cell_type": "code",
   "execution_count": 32,
   "id": "301fc923-a054-49c6-a990-b118213a2eac",
   "metadata": {},
   "outputs": [
    {
     "data": {
      "text/plain": [
       "0.7899415798831597"
      ]
     },
     "execution_count": 32,
     "metadata": {},
     "output_type": "execute_result"
    }
   ],
   "source": [
    "model4.score(X_train, y_train)"
   ]
  },
  {
   "cell_type": "code",
   "execution_count": 33,
   "id": "552bf474-b8be-4ab2-90dc-545f28a70159",
   "metadata": {},
   "outputs": [
    {
     "data": {
      "text/plain": [
       "(0.7618483412322274, 0.7541469194312796)"
      ]
     },
     "execution_count": 33,
     "metadata": {},
     "output_type": "execute_result"
    }
   ],
   "source": [
    "model3.score(X_validate, y_validate), model4.score(X_validate, y_validate)"
   ]
  },
  {
   "cell_type": "markdown",
   "id": "920ac603-2c78-4683-ae3f-5e62dc27c691",
   "metadata": {},
   "source": [
    "### Takeaways"
   ]
  },
  {
   "cell_type": "markdown",
   "id": "8b07c9c3-47eb-4771-b363-3bcb9a32c35e",
   "metadata": {},
   "source": [
    "Model 1 has consistent performance in predicting customer churn even with out of sample data. Compared to the baseline which had an accuracy of 73% model 1 does perform better."
   ]
  },
  {
   "cell_type": "markdown",
   "id": "7225218a-45fc-4fb7-a128-78ff0a9f3d19",
   "metadata": {},
   "source": [
    "# Random Forest Exercises"
   ]
  },
  {
   "cell_type": "markdown",
   "id": "1abc7edc-766c-43a0-b821-563ab1a75d89",
   "metadata": {},
   "source": [
    "## 1\n",
    "\n",
    ">Fit the Random Forest classifier to your training sample and transform (i.e. make predictions on the training sample) setting the random_state accordingly and setting min_samples_leaf = 1 and max_depth = 10."
   ]
  },
  {
   "cell_type": "code",
   "execution_count": 34,
   "id": "7f9782c3-b893-4fee-8628-a785ed144da4",
   "metadata": {},
   "outputs": [
    {
     "data": {
      "text/html": [
       "<div>\n",
       "<style scoped>\n",
       "    .dataframe tbody tr th:only-of-type {\n",
       "        vertical-align: middle;\n",
       "    }\n",
       "\n",
       "    .dataframe tbody tr th {\n",
       "        vertical-align: top;\n",
       "    }\n",
       "\n",
       "    .dataframe thead th {\n",
       "        text-align: right;\n",
       "    }\n",
       "</style>\n",
       "<table border=\"1\" class=\"dataframe\">\n",
       "  <thead>\n",
       "    <tr style=\"text-align: right;\">\n",
       "      <th></th>\n",
       "      <th>survived</th>\n",
       "      <th>pclass</th>\n",
       "      <th>sex</th>\n",
       "      <th>sibsp</th>\n",
       "      <th>parch</th>\n",
       "      <th>fare</th>\n",
       "      <th>embark_town</th>\n",
       "      <th>alone</th>\n",
       "      <th>sex_male</th>\n",
       "      <th>embark_town_Queenstown</th>\n",
       "      <th>embark_town_Southampton</th>\n",
       "    </tr>\n",
       "  </thead>\n",
       "  <tbody>\n",
       "    <tr>\n",
       "      <th>0</th>\n",
       "      <td>0</td>\n",
       "      <td>3</td>\n",
       "      <td>male</td>\n",
       "      <td>1</td>\n",
       "      <td>0</td>\n",
       "      <td>7.2500</td>\n",
       "      <td>Southampton</td>\n",
       "      <td>0</td>\n",
       "      <td>1</td>\n",
       "      <td>0</td>\n",
       "      <td>1</td>\n",
       "    </tr>\n",
       "    <tr>\n",
       "      <th>1</th>\n",
       "      <td>1</td>\n",
       "      <td>1</td>\n",
       "      <td>female</td>\n",
       "      <td>1</td>\n",
       "      <td>0</td>\n",
       "      <td>71.2833</td>\n",
       "      <td>Cherbourg</td>\n",
       "      <td>0</td>\n",
       "      <td>0</td>\n",
       "      <td>0</td>\n",
       "      <td>0</td>\n",
       "    </tr>\n",
       "    <tr>\n",
       "      <th>2</th>\n",
       "      <td>1</td>\n",
       "      <td>3</td>\n",
       "      <td>female</td>\n",
       "      <td>0</td>\n",
       "      <td>0</td>\n",
       "      <td>7.9250</td>\n",
       "      <td>Southampton</td>\n",
       "      <td>1</td>\n",
       "      <td>0</td>\n",
       "      <td>0</td>\n",
       "      <td>1</td>\n",
       "    </tr>\n",
       "    <tr>\n",
       "      <th>3</th>\n",
       "      <td>1</td>\n",
       "      <td>1</td>\n",
       "      <td>female</td>\n",
       "      <td>1</td>\n",
       "      <td>0</td>\n",
       "      <td>53.1000</td>\n",
       "      <td>Southampton</td>\n",
       "      <td>0</td>\n",
       "      <td>0</td>\n",
       "      <td>0</td>\n",
       "      <td>1</td>\n",
       "    </tr>\n",
       "    <tr>\n",
       "      <th>4</th>\n",
       "      <td>0</td>\n",
       "      <td>3</td>\n",
       "      <td>male</td>\n",
       "      <td>0</td>\n",
       "      <td>0</td>\n",
       "      <td>8.0500</td>\n",
       "      <td>Southampton</td>\n",
       "      <td>1</td>\n",
       "      <td>1</td>\n",
       "      <td>0</td>\n",
       "      <td>1</td>\n",
       "    </tr>\n",
       "  </tbody>\n",
       "</table>\n",
       "</div>"
      ],
      "text/plain": [
       "   survived  pclass     sex  sibsp  parch     fare  embark_town  alone  \\\n",
       "0         0       3    male      1      0   7.2500  Southampton      0   \n",
       "1         1       1  female      1      0  71.2833    Cherbourg      0   \n",
       "2         1       3  female      0      0   7.9250  Southampton      1   \n",
       "3         1       1  female      1      0  53.1000  Southampton      0   \n",
       "4         0       3    male      0      0   8.0500  Southampton      1   \n",
       "\n",
       "   sex_male  embark_town_Queenstown  embark_town_Southampton  \n",
       "0         1                       0                        1  \n",
       "1         0                       0                        0  \n",
       "2         0                       0                        1  \n",
       "3         0                       0                        1  \n",
       "4         1                       0                        1  "
      ]
     },
     "execution_count": 34,
     "metadata": {},
     "output_type": "execute_result"
    }
   ],
   "source": [
    "titanic.head()"
   ]
  },
  {
   "cell_type": "code",
   "execution_count": 35,
   "id": "28e12b87-8987-4d8c-8885-62ab1e436f0a",
   "metadata": {},
   "outputs": [],
   "source": [
    "train, validate, test = split_data(titanic, 'survived')"
   ]
  },
  {
   "cell_type": "code",
   "execution_count": 36,
   "id": "b528ee77-874b-4e71-92fd-ea4041512ffb",
   "metadata": {},
   "outputs": [],
   "source": [
    "features = ['pclass', 'alone', 'sex_male', 'sibsp', 'fare']\n",
    "\n",
    "X_train = train[features]\n",
    "y_train = train.survived\n",
    "\n",
    "X_validate = validate[features]\n",
    "y_validate = validate.survived\n",
    "\n",
    "X_test = test[features]\n",
    "y_test = test.survived"
   ]
  },
  {
   "cell_type": "code",
   "execution_count": 37,
   "id": "f50846d4-e726-4c14-9663-e2ed4f0dc867",
   "metadata": {},
   "outputs": [
    {
     "data": {
      "text/plain": [
       "RandomForestClassifier(max_depth=10)"
      ]
     },
     "execution_count": 37,
     "metadata": {},
     "output_type": "execute_result"
    }
   ],
   "source": [
    "model1 = RandomForestClassifier(min_samples_leaf = 1, max_depth = 10)\n",
    "model1.fit(X_train, y_train)"
   ]
  },
  {
   "cell_type": "code",
   "execution_count": 38,
   "id": "35747b29-979b-4a20-8067-83b9816ff7e1",
   "metadata": {},
   "outputs": [
    {
     "data": {
      "text/plain": [
       "array([0, 0, 0, 0, 0, 0, 0, 0, 1, 0, 1, 1, 1, 0, 0, 0, 1, 0, 0, 1, 1, 0,\n",
       "       0, 1, 1, 0, 0, 0, 0, 1, 0, 1, 0, 0, 0, 1, 1, 0, 0, 0, 0, 1, 0, 0,\n",
       "       1, 1, 1, 0, 0, 0, 0, 1, 1, 0, 0, 1, 0, 0, 0, 1, 1, 0, 0, 0, 1, 0,\n",
       "       0, 0, 1, 1, 0, 0, 0, 0, 0, 1, 0, 1, 0, 1, 0, 0, 1, 1, 0, 0, 0, 0,\n",
       "       1, 0, 0, 1, 0, 0, 1, 0, 0, 0, 1, 1, 0, 1, 0, 0, 0, 0, 0, 0, 1, 0,\n",
       "       0, 1, 1, 1, 0, 0, 0, 0, 0, 0, 0, 1, 0, 1, 0, 0, 0, 0, 0, 1, 0, 0,\n",
       "       1, 0, 0, 0, 1, 0, 0, 0, 0, 0, 1, 1, 0, 0, 1, 0, 0, 1, 1, 0, 0, 0,\n",
       "       0, 0, 0, 0, 0, 1, 0, 0, 1, 0, 1, 0, 0, 1, 0, 0, 0, 0, 0, 1, 0, 1,\n",
       "       0, 1, 1, 0, 0, 0, 0, 0, 0, 0, 0, 0, 0, 0, 1, 0, 0, 0, 0, 0, 0, 1,\n",
       "       0, 1, 1, 0, 1, 0, 1, 0, 0, 0, 1, 0, 0, 1, 0, 1, 0, 1, 0, 0, 1, 0,\n",
       "       0, 0, 1, 1, 0, 1, 1, 0, 1, 1, 0, 0, 0, 0, 0, 1, 0, 1, 0, 0, 0, 1,\n",
       "       0, 0, 1, 1, 0, 0, 0, 1, 0, 0, 1, 0, 1, 0, 1, 0, 0, 1, 0, 1, 0, 0,\n",
       "       0, 0, 1, 0, 1, 1, 1, 0, 0, 1, 0, 0, 0, 1, 0, 1, 1, 1, 1, 0, 0, 1,\n",
       "       0, 0, 1, 0, 0, 0, 0, 1, 1, 1, 1, 0, 0, 0, 0, 1, 1, 1, 0, 0, 0, 0,\n",
       "       1, 0, 0, 1, 0, 1, 1, 0, 1, 0, 0, 0, 1, 1, 0, 1, 1, 0, 0, 0, 0, 0,\n",
       "       0, 0, 1, 0, 1, 0, 0, 0, 1, 0, 0, 0, 0, 0, 1, 1, 0, 0, 0, 0, 0, 1,\n",
       "       0, 0, 0, 0, 0, 1, 1, 0, 0, 0, 1, 0, 1, 0, 1, 0, 0, 0, 0, 1, 0, 1,\n",
       "       0, 0, 0, 0, 0, 0, 1, 0, 1, 1, 0, 0, 0, 0, 0, 0, 0, 1, 0, 0, 0, 1,\n",
       "       1, 1, 0, 0, 0, 0, 0, 1, 0, 0, 0, 1, 1, 0, 0, 0, 1, 1, 1, 0, 1, 1,\n",
       "       0, 0, 0, 1, 1, 1, 0, 1, 1, 0, 0, 0, 0, 0, 0, 1, 0, 0, 0, 0, 0, 0,\n",
       "       1, 1, 1, 0, 1, 1, 0, 1, 0, 0, 0, 0, 0, 1, 1, 1, 1, 0, 0, 0, 0, 0,\n",
       "       1, 1, 0, 0, 1, 0, 1, 0, 0, 0, 1, 0, 1, 0, 0, 0, 0, 0, 1, 0, 1, 0,\n",
       "       0, 1, 0, 1, 0, 0, 0, 1, 1, 0, 0, 0, 1, 1])"
      ]
     },
     "execution_count": 38,
     "metadata": {},
     "output_type": "execute_result"
    }
   ],
   "source": [
    "model1.predict(X_train)"
   ]
  },
  {
   "cell_type": "markdown",
   "id": "8e03a1de-2b76-433a-b8cb-cc72b651f901",
   "metadata": {},
   "source": [
    "## 2\n",
    "\n",
    "> Evaluate your results using the model score, confusion matrix, and classification report."
   ]
  },
  {
   "cell_type": "code",
   "execution_count": 39,
   "id": "ca737e1e-6f33-4ea9-ab9a-8993af70f4ac",
   "metadata": {},
   "outputs": [
    {
     "data": {
      "text/plain": [
       "0.9136546184738956"
      ]
     },
     "execution_count": 39,
     "metadata": {},
     "output_type": "execute_result"
    }
   ],
   "source": [
    "model1.score(X_train, y_train)"
   ]
  },
  {
   "cell_type": "code",
   "execution_count": 40,
   "id": "528574fc-142d-426e-aceb-dc3279bf991f",
   "metadata": {},
   "outputs": [
    {
     "data": {
      "text/html": [
       "<div>\n",
       "<style scoped>\n",
       "    .dataframe tbody tr th:only-of-type {\n",
       "        vertical-align: middle;\n",
       "    }\n",
       "\n",
       "    .dataframe tbody tr th {\n",
       "        vertical-align: top;\n",
       "    }\n",
       "\n",
       "    .dataframe thead th {\n",
       "        text-align: right;\n",
       "    }\n",
       "</style>\n",
       "<table border=\"1\" class=\"dataframe\">\n",
       "  <thead>\n",
       "    <tr style=\"text-align: right;\">\n",
       "      <th></th>\n",
       "      <th>Predicted Did Not Survive</th>\n",
       "      <th>Predicted Survived</th>\n",
       "    </tr>\n",
       "  </thead>\n",
       "  <tbody>\n",
       "    <tr>\n",
       "      <th>Actual Did Not Survive</th>\n",
       "      <td>295</td>\n",
       "      <td>12</td>\n",
       "    </tr>\n",
       "    <tr>\n",
       "      <th>Actual Survived</th>\n",
       "      <td>31</td>\n",
       "      <td>160</td>\n",
       "    </tr>\n",
       "  </tbody>\n",
       "</table>\n",
       "</div>"
      ],
      "text/plain": [
       "                        Predicted Did Not Survive  Predicted Survived\n",
       "Actual Did Not Survive                        295                  12\n",
       "Actual Survived                                31                 160"
      ]
     },
     "execution_count": 40,
     "metadata": {},
     "output_type": "execute_result"
    }
   ],
   "source": [
    "index_labels = ['Actual Did Not Survive', 'Actual Survived']\n",
    "column_labels = ['Predicted Did Not Survive', 'Predicted Survived']\n",
    "pd.DataFrame(confusion_matrix(y_train, model1.predict(X_train), labels = [0, 1]), index = index_labels, columns = column_labels)"
   ]
  },
  {
   "cell_type": "code",
   "execution_count": 41,
   "id": "097a6f32-3470-41a1-a8d6-ff279bee518e",
   "metadata": {},
   "outputs": [
    {
     "name": "stdout",
     "output_type": "stream",
     "text": [
      "              precision    recall  f1-score   support\n",
      "\n",
      "           0       0.90      0.96      0.93       307\n",
      "           1       0.93      0.84      0.88       191\n",
      "\n",
      "    accuracy                           0.91       498\n",
      "   macro avg       0.92      0.90      0.91       498\n",
      "weighted avg       0.91      0.91      0.91       498\n",
      "\n"
     ]
    }
   ],
   "source": [
    "print(classification_report(y_train, model1.predict(X_train)))"
   ]
  },
  {
   "cell_type": "markdown",
   "id": "ee06c584-5817-4328-8cef-9e0667144fbf",
   "metadata": {},
   "source": [
    "## 3\n",
    "\n",
    "> Print and clearly label the following: Accuracy, true positive rate, false positive rate, true negative rate, false negative rate, precision, recall, f1-score, and support."
   ]
  },
  {
   "cell_type": "markdown",
   "id": "412fc31b-3bb7-4650-b13e-1340c1356ef8",
   "metadata": {},
   "source": [
    "- Accuracy:            0.91\n",
    "- True Positive Rate:  0.33\n",
    "- False Positive Rate: 0.03\n",
    "- True Negative Rate:  0.58\n",
    "- False Negative Rate: 0.05\n",
    "- Precision:\n",
    "--    Survived:        0.91\n",
    "--    Did Not Survive: 0.92\n",
    "- Recall:\n",
    "--    Survived:        0.86\n",
    "--    Did Not Survive: 0.95\n",
    "- f1-score:\n",
    "--    Survived:        0.88\n",
    "--    Did Not Survive: 0.93\n",
    "- Support:             498"
   ]
  },
  {
   "cell_type": "markdown",
   "id": "4ccf3b8d-b6e7-4f31-b3cc-b6d362ff833a",
   "metadata": {},
   "source": [
    "## 4\n",
    "\n",
    "> Run through steps increasing your min_samples_leaf and decreasing your max_depth."
   ]
  },
  {
   "cell_type": "code",
   "execution_count": 42,
   "id": "ddf0fdbd-c4d7-4272-a814-2438f20d2344",
   "metadata": {},
   "outputs": [
    {
     "name": "stdout",
     "output_type": "stream",
     "text": [
      "              precision    recall  f1-score   support\n",
      "\n",
      "           0       0.84      0.94      0.89       307\n",
      "           1       0.88      0.71      0.78       191\n",
      "\n",
      "    accuracy                           0.85       498\n",
      "   macro avg       0.86      0.82      0.84       498\n",
      "weighted avg       0.85      0.85      0.85       498\n",
      "\n",
      "              precision    recall  f1-score   support\n",
      "\n",
      "           0       0.84      0.94      0.89       307\n",
      "           1       0.89      0.70      0.78       191\n",
      "\n",
      "    accuracy                           0.85       498\n",
      "   macro avg       0.86      0.82      0.84       498\n",
      "weighted avg       0.86      0.85      0.85       498\n",
      "\n",
      "              precision    recall  f1-score   support\n",
      "\n",
      "           0       0.83      0.94      0.88       307\n",
      "           1       0.87      0.69      0.77       191\n",
      "\n",
      "    accuracy                           0.84       498\n",
      "   macro avg       0.85      0.81      0.82       498\n",
      "weighted avg       0.85      0.84      0.84       498\n",
      "\n",
      "              precision    recall  f1-score   support\n",
      "\n",
      "           0       0.82      0.93      0.87       307\n",
      "           1       0.86      0.67      0.75       191\n",
      "\n",
      "    accuracy                           0.83       498\n",
      "   macro avg       0.84      0.80      0.81       498\n",
      "weighted avg       0.83      0.83      0.83       498\n",
      "\n",
      "              precision    recall  f1-score   support\n",
      "\n",
      "           0       0.80      0.96      0.87       307\n",
      "           1       0.90      0.61      0.73       191\n",
      "\n",
      "    accuracy                           0.83       498\n",
      "   macro avg       0.85      0.79      0.80       498\n",
      "weighted avg       0.84      0.83      0.82       498\n",
      "\n",
      "              precision    recall  f1-score   support\n",
      "\n",
      "           0       0.81      0.90      0.85       307\n",
      "           1       0.81      0.66      0.73       191\n",
      "\n",
      "    accuracy                           0.81       498\n",
      "   macro avg       0.81      0.78      0.79       498\n",
      "weighted avg       0.81      0.81      0.81       498\n",
      "\n",
      "              precision    recall  f1-score   support\n",
      "\n",
      "           0       0.75      0.98      0.85       307\n",
      "           1       0.94      0.49      0.64       191\n",
      "\n",
      "    accuracy                           0.79       498\n",
      "   macro avg       0.85      0.73      0.75       498\n",
      "weighted avg       0.83      0.79      0.77       498\n",
      "\n",
      "              precision    recall  f1-score   support\n",
      "\n",
      "           0       0.76      0.94      0.84       307\n",
      "           1       0.84      0.51      0.64       191\n",
      "\n",
      "    accuracy                           0.78       498\n",
      "   macro avg       0.80      0.73      0.74       498\n",
      "weighted avg       0.79      0.78      0.76       498\n",
      "\n",
      "              precision    recall  f1-score   support\n",
      "\n",
      "           0       0.75      0.92      0.82       307\n",
      "           1       0.79      0.50      0.62       191\n",
      "\n",
      "    accuracy                           0.76       498\n",
      "   macro avg       0.77      0.71      0.72       498\n",
      "weighted avg       0.77      0.76      0.74       498\n",
      "\n"
     ]
    }
   ],
   "source": [
    "models = [model1]\n",
    "start = 2\n",
    "stop = 11\n",
    "\n",
    "for i in range(start, stop):\n",
    "    clf = RandomForestClassifier(min_samples_leaf = i, max_depth = stop - i)\n",
    "    clf.fit(X_train, y_train)\n",
    "    print(classification_report(y_train, clf.predict(X_train)))\n",
    "    \n",
    "    models.append(clf)"
   ]
  },
  {
   "cell_type": "markdown",
   "id": "20a2c41a-7b12-4e28-9e41-14510ec0c1d5",
   "metadata": {},
   "source": [
    "## 5\n",
    "\n",
    "> What are the differences in the evaluation metrics? Which performs better on your in-sample data? Why?"
   ]
  },
  {
   "cell_type": "markdown",
   "id": "e8e7cba9-9521-46c3-9161-e3cf44b4c908",
   "metadata": {},
   "source": [
    "As min_samples_leaf is increased and max_depth is decreased the performance of the model overall decreases with min_samples_leaf at 1 and max_depth at 10 providing the best performance overall. This is likely because the decision trees generated by the random forest provide better predictions given they have a greater max_depth."
   ]
  },
  {
   "cell_type": "markdown",
   "id": "e9afb14a-4e41-4470-ac0b-592650b4b710",
   "metadata": {},
   "source": [
    "## *\n",
    "\n",
    "> After making a few models, which one has the best performance (or closest metrics) on both train and validate?"
   ]
  },
  {
   "cell_type": "code",
   "execution_count": 43,
   "id": "86633d9d-9fc5-4cc8-ae11-81be93a0a30d",
   "metadata": {},
   "outputs": [
    {
     "name": "stdout",
     "output_type": "stream",
     "text": [
      "Train score for model 1: 0.9136546184738956\n",
      "Validate score for model 1: 0.8084112149532711\n",
      "Validate precision for model 1: 0.8095238095238095\n",
      "Validate recall for model 1: 0.9015151515151515\n",
      "-------------------------\n",
      "Train score for model 2: 0.8514056224899599\n",
      "Validate score for model 2: 0.7990654205607477\n",
      "Validate precision for model 2: 0.7908496732026143\n",
      "Validate recall for model 2: 0.9166666666666666\n",
      "-------------------------\n",
      "Train score for model 3: 0.8514056224899599\n",
      "Validate score for model 3: 0.7990654205607477\n",
      "Validate precision for model 3: 0.7834394904458599\n",
      "Validate recall for model 3: 0.9318181818181818\n",
      "-------------------------\n",
      "Train score for model 4: 0.8413654618473896\n",
      "Validate score for model 4: 0.8084112149532711\n",
      "Validate precision for model 4: 0.7898089171974523\n",
      "Validate recall for model 4: 0.9393939393939394\n",
      "-------------------------\n",
      "Train score for model 5: 0.8313253012048193\n",
      "Validate score for model 5: 0.8037383177570093\n",
      "Validate precision for model 5: 0.7848101265822784\n",
      "Validate recall for model 5: 0.9393939393939394\n",
      "-------------------------\n",
      "Train score for model 6: 0.8253012048192772\n",
      "Validate score for model 6: 0.8037383177570093\n",
      "Validate precision for model 6: 0.7777777777777778\n",
      "Validate recall for model 6: 0.9545454545454546\n",
      "-------------------------\n",
      "Train score for model 7: 0.8112449799196787\n",
      "Validate score for model 7: 0.8130841121495327\n",
      "Validate precision for model 7: 0.815068493150685\n",
      "Validate recall for model 7: 0.9015151515151515\n",
      "-------------------------\n",
      "Train score for model 8: 0.7911646586345381\n",
      "Validate score for model 8: 0.7897196261682243\n",
      "Validate precision for model 8: 0.7543859649122807\n",
      "Validate recall for model 8: 0.9772727272727273\n",
      "-------------------------\n",
      "Train score for model 9: 0.7751004016064257\n",
      "Validate score for model 9: 0.8084112149532711\n",
      "Validate precision for model 9: 0.782608695652174\n",
      "Validate recall for model 9: 0.9545454545454546\n",
      "-------------------------\n",
      "Train score for model 10: 0.7590361445783133\n",
      "Validate score for model 10: 0.8037383177570093\n",
      "Validate precision for model 10: 0.7777777777777778\n",
      "Validate recall for model 10: 0.9545454545454546\n",
      "-------------------------\n"
     ]
    }
   ],
   "source": [
    "for index, model in enumerate(models):\n",
    "    print(f'Train score for model {index + 1}: {model.score(X_train, y_train)}')\n",
    "    print(f'Validate score for model {index + 1}: {model.score(X_validate, y_validate)}')\n",
    "    print(f'Validate precision for model {index + 1}: {precision_score(y_validate, model.predict(X_validate), pos_label = 0)}')\n",
    "    print(f'Validate recall for model {index + 1}: {recall_score(y_validate, model.predict(X_validate), pos_label = 0)}')\n",
    "    print('-------------------------')"
   ]
  },
  {
   "cell_type": "markdown",
   "id": "9feb321a-9b65-44a5-be3c-30418d1817fc",
   "metadata": {},
   "source": [
    "When testing the models on the validate set all models have similar accuracy, precision and recall with some variety of scores for each."
   ]
  },
  {
   "cell_type": "markdown",
   "id": "3cbfcf32-f67a-4c17-a4ae-f1380882008e",
   "metadata": {},
   "source": [
    "# KNN Exericses"
   ]
  },
  {
   "cell_type": "code",
   "execution_count": 44,
   "id": "aac5e447-4746-4d3c-bab0-ede5256fc648",
   "metadata": {},
   "outputs": [
    {
     "data": {
      "text/html": [
       "<div>\n",
       "<style scoped>\n",
       "    .dataframe tbody tr th:only-of-type {\n",
       "        vertical-align: middle;\n",
       "    }\n",
       "\n",
       "    .dataframe tbody tr th {\n",
       "        vertical-align: top;\n",
       "    }\n",
       "\n",
       "    .dataframe thead th {\n",
       "        text-align: right;\n",
       "    }\n",
       "</style>\n",
       "<table border=\"1\" class=\"dataframe\">\n",
       "  <thead>\n",
       "    <tr style=\"text-align: right;\">\n",
       "      <th></th>\n",
       "      <th>survived</th>\n",
       "      <th>pclass</th>\n",
       "      <th>sex</th>\n",
       "      <th>sibsp</th>\n",
       "      <th>parch</th>\n",
       "      <th>fare</th>\n",
       "      <th>embark_town</th>\n",
       "      <th>alone</th>\n",
       "      <th>sex_male</th>\n",
       "      <th>embark_town_Queenstown</th>\n",
       "      <th>embark_town_Southampton</th>\n",
       "    </tr>\n",
       "  </thead>\n",
       "  <tbody>\n",
       "    <tr>\n",
       "      <th>0</th>\n",
       "      <td>0</td>\n",
       "      <td>3</td>\n",
       "      <td>male</td>\n",
       "      <td>1</td>\n",
       "      <td>0</td>\n",
       "      <td>7.2500</td>\n",
       "      <td>Southampton</td>\n",
       "      <td>0</td>\n",
       "      <td>1</td>\n",
       "      <td>0</td>\n",
       "      <td>1</td>\n",
       "    </tr>\n",
       "    <tr>\n",
       "      <th>1</th>\n",
       "      <td>1</td>\n",
       "      <td>1</td>\n",
       "      <td>female</td>\n",
       "      <td>1</td>\n",
       "      <td>0</td>\n",
       "      <td>71.2833</td>\n",
       "      <td>Cherbourg</td>\n",
       "      <td>0</td>\n",
       "      <td>0</td>\n",
       "      <td>0</td>\n",
       "      <td>0</td>\n",
       "    </tr>\n",
       "    <tr>\n",
       "      <th>2</th>\n",
       "      <td>1</td>\n",
       "      <td>3</td>\n",
       "      <td>female</td>\n",
       "      <td>0</td>\n",
       "      <td>0</td>\n",
       "      <td>7.9250</td>\n",
       "      <td>Southampton</td>\n",
       "      <td>1</td>\n",
       "      <td>0</td>\n",
       "      <td>0</td>\n",
       "      <td>1</td>\n",
       "    </tr>\n",
       "    <tr>\n",
       "      <th>3</th>\n",
       "      <td>1</td>\n",
       "      <td>1</td>\n",
       "      <td>female</td>\n",
       "      <td>1</td>\n",
       "      <td>0</td>\n",
       "      <td>53.1000</td>\n",
       "      <td>Southampton</td>\n",
       "      <td>0</td>\n",
       "      <td>0</td>\n",
       "      <td>0</td>\n",
       "      <td>1</td>\n",
       "    </tr>\n",
       "    <tr>\n",
       "      <th>4</th>\n",
       "      <td>0</td>\n",
       "      <td>3</td>\n",
       "      <td>male</td>\n",
       "      <td>0</td>\n",
       "      <td>0</td>\n",
       "      <td>8.0500</td>\n",
       "      <td>Southampton</td>\n",
       "      <td>1</td>\n",
       "      <td>1</td>\n",
       "      <td>0</td>\n",
       "      <td>1</td>\n",
       "    </tr>\n",
       "  </tbody>\n",
       "</table>\n",
       "</div>"
      ],
      "text/plain": [
       "   survived  pclass     sex  sibsp  parch     fare  embark_town  alone  \\\n",
       "0         0       3    male      1      0   7.2500  Southampton      0   \n",
       "1         1       1  female      1      0  71.2833    Cherbourg      0   \n",
       "2         1       3  female      0      0   7.9250  Southampton      1   \n",
       "3         1       1  female      1      0  53.1000  Southampton      0   \n",
       "4         0       3    male      0      0   8.0500  Southampton      1   \n",
       "\n",
       "   sex_male  embark_town_Queenstown  embark_town_Southampton  \n",
       "0         1                       0                        1  \n",
       "1         0                       0                        0  \n",
       "2         0                       0                        1  \n",
       "3         0                       0                        1  \n",
       "4         1                       0                        1  "
      ]
     },
     "execution_count": 44,
     "metadata": {},
     "output_type": "execute_result"
    }
   ],
   "source": [
    "titanic.head()"
   ]
  },
  {
   "cell_type": "code",
   "execution_count": 45,
   "id": "0b34b90d-b071-4bd6-b913-5155c1267bc4",
   "metadata": {},
   "outputs": [
    {
     "data": {
      "text/plain": [
       "((498, 11), (214, 11), (179, 11))"
      ]
     },
     "execution_count": 45,
     "metadata": {},
     "output_type": "execute_result"
    }
   ],
   "source": [
    "train.shape, validate.shape, test.shape"
   ]
  },
  {
   "cell_type": "markdown",
   "id": "df3490ab-1d6b-459a-9c84-0c2edfa40984",
   "metadata": {},
   "source": [
    "## 1\n",
    "\n",
    "> Fit a K-Nearest Neighbors classifier to your training sample and transform (i.e. make predictions on the training sample)"
   ]
  },
  {
   "cell_type": "code",
   "execution_count": 46,
   "id": "ef1e5989-b666-46c4-be71-2f75e934a28f",
   "metadata": {},
   "outputs": [
    {
     "data": {
      "text/plain": [
       "KNeighborsClassifier(n_neighbors=2)"
      ]
     },
     "execution_count": 46,
     "metadata": {},
     "output_type": "execute_result"
    }
   ],
   "source": [
    "model1 = KNeighborsClassifier(n_neighbors = 2, weights = 'uniform')\n",
    "model1.fit(X_train, y_train)"
   ]
  },
  {
   "cell_type": "code",
   "execution_count": 47,
   "id": "ac05aba5-aab4-4690-9337-8e9b3fcea341",
   "metadata": {},
   "outputs": [
    {
     "data": {
      "text/plain": [
       "array([0, 0, 0, 0, 0, 0, 0, 0, 1, 0, 1, 1, 1, 0, 0, 0, 0, 0, 0, 0, 0, 0,\n",
       "       0, 1, 0, 0, 0, 0, 0, 1, 0, 1, 0, 0, 0, 0, 0, 0, 0, 0, 0, 1, 0, 0,\n",
       "       1, 1, 0, 0, 0, 0, 0, 0, 1, 0, 0, 1, 0, 0, 0, 1, 1, 0, 0, 0, 1, 0,\n",
       "       0, 0, 0, 1, 0, 0, 0, 0, 0, 1, 0, 0, 0, 1, 0, 0, 0, 1, 0, 0, 0, 0,\n",
       "       0, 0, 0, 0, 0, 0, 0, 0, 0, 0, 1, 0, 0, 1, 0, 0, 0, 0, 0, 0, 0, 0,\n",
       "       0, 1, 1, 1, 0, 0, 0, 0, 0, 0, 0, 1, 0, 1, 0, 0, 0, 0, 0, 1, 0, 0,\n",
       "       0, 0, 0, 0, 0, 0, 0, 0, 0, 0, 1, 1, 0, 0, 1, 0, 0, 0, 1, 0, 0, 0,\n",
       "       0, 0, 0, 0, 0, 0, 0, 0, 0, 0, 0, 0, 0, 1, 0, 0, 0, 0, 0, 1, 0, 0,\n",
       "       0, 0, 1, 0, 0, 0, 0, 0, 0, 0, 0, 0, 0, 0, 1, 0, 0, 0, 0, 0, 0, 0,\n",
       "       0, 1, 1, 0, 1, 0, 0, 0, 0, 0, 1, 0, 0, 0, 0, 1, 0, 0, 0, 0, 1, 0,\n",
       "       0, 0, 0, 1, 0, 1, 0, 0, 1, 1, 0, 0, 0, 0, 0, 1, 0, 1, 0, 0, 0, 0,\n",
       "       0, 0, 1, 0, 0, 0, 0, 0, 0, 0, 0, 0, 1, 0, 1, 0, 0, 0, 0, 1, 0, 0,\n",
       "       0, 0, 1, 0, 0, 0, 1, 0, 0, 1, 0, 0, 0, 1, 0, 1, 0, 1, 1, 0, 0, 1,\n",
       "       0, 0, 1, 0, 0, 0, 0, 1, 1, 0, 1, 0, 0, 0, 0, 1, 1, 1, 0, 0, 0, 0,\n",
       "       1, 0, 0, 0, 0, 0, 1, 0, 0, 0, 0, 0, 1, 0, 0, 1, 0, 0, 0, 0, 0, 0,\n",
       "       0, 0, 1, 0, 1, 0, 0, 0, 1, 0, 0, 0, 0, 0, 0, 0, 0, 0, 0, 0, 0, 1,\n",
       "       0, 0, 0, 0, 0, 0, 0, 0, 0, 0, 1, 0, 1, 0, 1, 0, 0, 0, 0, 1, 0, 1,\n",
       "       0, 0, 0, 0, 0, 0, 1, 0, 0, 1, 0, 0, 0, 0, 0, 0, 0, 1, 0, 0, 0, 0,\n",
       "       1, 1, 0, 0, 0, 0, 0, 1, 0, 0, 0, 1, 1, 0, 0, 0, 1, 0, 0, 0, 1, 1,\n",
       "       0, 0, 0, 1, 0, 0, 0, 0, 1, 0, 0, 0, 0, 0, 0, 0, 0, 0, 0, 0, 0, 0,\n",
       "       1, 0, 1, 0, 1, 0, 0, 1, 0, 0, 0, 0, 0, 0, 0, 1, 1, 0, 0, 0, 0, 0,\n",
       "       1, 1, 0, 0, 1, 0, 0, 0, 0, 0, 1, 0, 1, 0, 0, 0, 0, 0, 0, 0, 1, 0,\n",
       "       0, 1, 0, 1, 0, 0, 0, 0, 1, 0, 0, 0, 1, 1])"
      ]
     },
     "execution_count": 47,
     "metadata": {},
     "output_type": "execute_result"
    }
   ],
   "source": [
    "model1.predict(X_train)"
   ]
  },
  {
   "cell_type": "markdown",
   "id": "074f0105-29ed-4b29-a723-f09992c80a64",
   "metadata": {},
   "source": [
    "## 2\n",
    "\n",
    "> Evaluate your results using the model score, confusion matrix, and classification report."
   ]
  },
  {
   "cell_type": "code",
   "execution_count": 48,
   "id": "3321640c-9671-4cdd-b58b-3ff8fedd373e",
   "metadata": {},
   "outputs": [
    {
     "data": {
      "text/plain": [
       "0.8232931726907631"
      ]
     },
     "execution_count": 48,
     "metadata": {},
     "output_type": "execute_result"
    }
   ],
   "source": [
    "model1.score(X_train, y_train)"
   ]
  },
  {
   "cell_type": "code",
   "execution_count": 49,
   "id": "4c71b82d-86f1-451a-abec-896f593cd624",
   "metadata": {},
   "outputs": [
    {
     "data": {
      "text/html": [
       "<div>\n",
       "<style scoped>\n",
       "    .dataframe tbody tr th:only-of-type {\n",
       "        vertical-align: middle;\n",
       "    }\n",
       "\n",
       "    .dataframe tbody tr th {\n",
       "        vertical-align: top;\n",
       "    }\n",
       "\n",
       "    .dataframe thead th {\n",
       "        text-align: right;\n",
       "    }\n",
       "</style>\n",
       "<table border=\"1\" class=\"dataframe\">\n",
       "  <thead>\n",
       "    <tr style=\"text-align: right;\">\n",
       "      <th></th>\n",
       "      <th>Predicted Did Not Survive</th>\n",
       "      <th>Predicted Survived</th>\n",
       "    </tr>\n",
       "  </thead>\n",
       "  <tbody>\n",
       "    <tr>\n",
       "      <th>Actual Did Not Survive</th>\n",
       "      <td>304</td>\n",
       "      <td>3</td>\n",
       "    </tr>\n",
       "    <tr>\n",
       "      <th>Actual Survived</th>\n",
       "      <td>85</td>\n",
       "      <td>106</td>\n",
       "    </tr>\n",
       "  </tbody>\n",
       "</table>\n",
       "</div>"
      ],
      "text/plain": [
       "                        Predicted Did Not Survive  Predicted Survived\n",
       "Actual Did Not Survive                        304                   3\n",
       "Actual Survived                                85                 106"
      ]
     },
     "execution_count": 49,
     "metadata": {},
     "output_type": "execute_result"
    }
   ],
   "source": [
    "index_labels = ['Actual Did Not Survive', 'Actual Survived']\n",
    "column_labels = ['Predicted Did Not Survive', 'Predicted Survived']\n",
    "pd.DataFrame(confusion_matrix(y_train, model1.predict(X_train), labels = [0, 1]), index = index_labels, columns = column_labels)"
   ]
  },
  {
   "cell_type": "code",
   "execution_count": 50,
   "id": "1a9d5c34-43a9-48aa-a523-7b0af02ff6c9",
   "metadata": {},
   "outputs": [
    {
     "name": "stdout",
     "output_type": "stream",
     "text": [
      "              precision    recall  f1-score   support\n",
      "\n",
      "           0       0.78      0.99      0.87       307\n",
      "           1       0.97      0.55      0.71       191\n",
      "\n",
      "    accuracy                           0.82       498\n",
      "   macro avg       0.88      0.77      0.79       498\n",
      "weighted avg       0.85      0.82      0.81       498\n",
      "\n"
     ]
    }
   ],
   "source": [
    "print(classification_report(y_train, model1.predict(X_train)))"
   ]
  },
  {
   "cell_type": "markdown",
   "id": "416cfda3-5d73-4b6a-9a3a-46423e90118c",
   "metadata": {},
   "source": [
    "## 3\n",
    "\n",
    "> Print and clearly label the following: Accuracy, true positive rate, false positive rate, true negative rate, false negative rate, precision, recall, f1-score, and support."
   ]
  },
  {
   "cell_type": "markdown",
   "id": "024e362b-f9df-47bf-9622-fdc195de132d",
   "metadata": {},
   "source": [
    "- Accuracy:            0.82\n",
    "- True Positive Rate:  0.21\n",
    "- False Positive Rate: 0.01\n",
    "- True Negative Rate:  0.61\n",
    "- False Negative Rate: 0.17\n",
    "- Precision:\n",
    "--    Survived:        0.97\n",
    "--    Did Not Survive: 0.78\n",
    "- Recall:\n",
    "--    Survived:        0.55\n",
    "--    Did Not Survive: 0.99\n",
    "- f1-score:\n",
    "--    Survived:        0.71\n",
    "--    Did Not Survive: 0.87\n",
    "- Support:             498"
   ]
  },
  {
   "cell_type": "markdown",
   "id": "b8961384-9137-4d23-92cd-5ae52b4dd8ec",
   "metadata": {},
   "source": [
    "## 4\n",
    "\n",
    "> Run through steps 1-3 setting k to 10"
   ]
  },
  {
   "cell_type": "code",
   "execution_count": 51,
   "id": "54fa7731-144f-456b-9186-15f5ba1423ac",
   "metadata": {},
   "outputs": [
    {
     "data": {
      "text/plain": [
       "KNeighborsClassifier(n_neighbors=10)"
      ]
     },
     "execution_count": 51,
     "metadata": {},
     "output_type": "execute_result"
    }
   ],
   "source": [
    "model2 = KNeighborsClassifier(n_neighbors = 10, weights = 'uniform')\n",
    "model2.fit(X_train, y_train)"
   ]
  },
  {
   "cell_type": "code",
   "execution_count": 52,
   "id": "23c4ccad-2301-498b-9811-2b542daf0813",
   "metadata": {},
   "outputs": [
    {
     "data": {
      "text/plain": [
       "array([0, 0, 1, 0, 0, 0, 0, 0, 1, 0, 1, 1, 1, 0, 0, 0, 0, 0, 0, 0, 1, 0,\n",
       "       0, 1, 0, 0, 0, 0, 0, 1, 0, 1, 0, 0, 0, 1, 0, 0, 0, 0, 0, 1, 0, 1,\n",
       "       1, 1, 0, 0, 0, 0, 0, 1, 1, 0, 0, 1, 0, 0, 0, 1, 1, 0, 0, 0, 0, 0,\n",
       "       0, 0, 0, 1, 0, 0, 0, 0, 0, 1, 0, 1, 0, 1, 0, 0, 0, 1, 0, 0, 0, 0,\n",
       "       0, 0, 0, 0, 0, 0, 1, 0, 0, 1, 1, 0, 0, 1, 0, 0, 0, 0, 0, 0, 1, 1,\n",
       "       0, 1, 1, 0, 0, 0, 0, 0, 0, 0, 0, 1, 0, 1, 0, 0, 0, 0, 0, 1, 1, 1,\n",
       "       0, 0, 0, 0, 0, 0, 0, 1, 0, 0, 1, 1, 0, 0, 1, 0, 0, 0, 1, 0, 0, 0,\n",
       "       0, 0, 0, 0, 0, 1, 0, 0, 0, 0, 1, 0, 1, 1, 0, 0, 1, 0, 0, 1, 0, 1,\n",
       "       0, 0, 1, 0, 0, 0, 0, 0, 0, 1, 0, 0, 1, 1, 1, 0, 0, 1, 0, 0, 1, 1,\n",
       "       0, 1, 1, 0, 1, 0, 1, 0, 1, 1, 1, 0, 0, 1, 0, 0, 0, 1, 0, 0, 1, 0,\n",
       "       0, 0, 1, 1, 0, 1, 1, 0, 1, 1, 0, 0, 0, 0, 0, 1, 0, 0, 1, 0, 0, 1,\n",
       "       0, 0, 1, 1, 1, 0, 0, 1, 0, 0, 0, 0, 1, 1, 0, 0, 0, 0, 0, 1, 0, 0,\n",
       "       0, 0, 1, 0, 0, 1, 1, 0, 0, 1, 0, 0, 0, 0, 0, 1, 0, 1, 1, 0, 0, 0,\n",
       "       0, 0, 1, 0, 1, 0, 0, 1, 0, 1, 0, 0, 1, 0, 1, 1, 1, 1, 0, 0, 0, 0,\n",
       "       1, 0, 0, 0, 0, 0, 1, 0, 0, 0, 0, 0, 1, 1, 0, 1, 1, 0, 0, 1, 0, 0,\n",
       "       0, 0, 1, 0, 1, 0, 0, 0, 1, 0, 1, 0, 0, 0, 0, 1, 0, 1, 0, 1, 0, 1,\n",
       "       0, 0, 0, 0, 1, 1, 1, 0, 0, 0, 1, 0, 1, 0, 1, 0, 0, 0, 0, 0, 0, 1,\n",
       "       0, 0, 0, 0, 0, 0, 1, 0, 0, 1, 0, 0, 0, 0, 0, 0, 0, 1, 0, 0, 1, 1,\n",
       "       1, 0, 0, 0, 1, 0, 0, 1, 0, 0, 0, 1, 1, 0, 0, 0, 1, 0, 1, 0, 1, 0,\n",
       "       0, 0, 0, 1, 1, 0, 0, 1, 1, 0, 0, 0, 1, 0, 0, 0, 1, 0, 0, 0, 0, 0,\n",
       "       1, 1, 1, 0, 1, 1, 0, 1, 0, 0, 0, 0, 1, 1, 1, 1, 1, 0, 0, 0, 0, 0,\n",
       "       0, 1, 0, 0, 1, 0, 0, 0, 0, 1, 1, 0, 0, 0, 0, 0, 0, 0, 1, 0, 1, 0,\n",
       "       0, 1, 0, 1, 0, 0, 0, 1, 1, 0, 0, 0, 0, 1])"
      ]
     },
     "execution_count": 52,
     "metadata": {},
     "output_type": "execute_result"
    }
   ],
   "source": [
    "model2.predict(X_train)"
   ]
  },
  {
   "cell_type": "code",
   "execution_count": 53,
   "id": "d1a44f72-514f-40d0-b923-df2718d59848",
   "metadata": {},
   "outputs": [
    {
     "name": "stdout",
     "output_type": "stream",
     "text": [
      "              precision    recall  f1-score   support\n",
      "\n",
      "           0       0.80      0.88      0.84       307\n",
      "           1       0.77      0.65      0.71       191\n",
      "\n",
      "    accuracy                           0.79       498\n",
      "   macro avg       0.79      0.77      0.77       498\n",
      "weighted avg       0.79      0.79      0.79       498\n",
      "\n"
     ]
    }
   ],
   "source": [
    "print(classification_report(y_train, model2.predict(X_train)))"
   ]
  },
  {
   "cell_type": "markdown",
   "id": "78921ecc-c448-4ee9-bd03-1fea0eaa9be7",
   "metadata": {},
   "source": [
    "## 5\n",
    "\n",
    "> Run through setps 1-3 setting k to 20"
   ]
  },
  {
   "cell_type": "code",
   "execution_count": 54,
   "id": "4209165a-f78a-46b6-a7cc-acef19424d23",
   "metadata": {},
   "outputs": [
    {
     "data": {
      "text/plain": [
       "KNeighborsClassifier(n_neighbors=20)"
      ]
     },
     "execution_count": 54,
     "metadata": {},
     "output_type": "execute_result"
    }
   ],
   "source": [
    "model3 = KNeighborsClassifier(n_neighbors = 20, weights = 'uniform')\n",
    "model3.fit(X_train, y_train)"
   ]
  },
  {
   "cell_type": "code",
   "execution_count": 55,
   "id": "52002cb8-4ddf-4d48-b76c-e8bc788e4498",
   "metadata": {},
   "outputs": [
    {
     "data": {
      "text/plain": [
       "array([0, 0, 0, 0, 0, 0, 1, 0, 1, 0, 0, 1, 1, 0, 0, 0, 0, 0, 0, 0, 1, 0,\n",
       "       0, 1, 0, 0, 0, 0, 0, 1, 0, 1, 0, 0, 0, 1, 0, 0, 0, 1, 1, 1, 0, 0,\n",
       "       1, 1, 0, 0, 0, 0, 0, 0, 1, 0, 0, 1, 0, 0, 0, 1, 0, 0, 0, 0, 0, 0,\n",
       "       0, 1, 0, 1, 0, 0, 1, 0, 0, 1, 0, 0, 0, 1, 0, 0, 0, 1, 0, 0, 0, 0,\n",
       "       0, 0, 0, 1, 0, 0, 1, 0, 0, 1, 0, 1, 0, 1, 0, 0, 0, 1, 0, 0, 1, 0,\n",
       "       0, 0, 0, 0, 1, 0, 0, 0, 0, 0, 0, 1, 0, 1, 0, 0, 0, 0, 0, 1, 1, 0,\n",
       "       0, 0, 0, 0, 0, 0, 0, 1, 0, 0, 1, 1, 0, 0, 1, 0, 0, 0, 1, 0, 0, 0,\n",
       "       0, 0, 0, 0, 0, 1, 0, 0, 1, 0, 0, 0, 1, 0, 0, 0, 1, 0, 0, 1, 0, 0,\n",
       "       0, 1, 1, 0, 0, 0, 0, 0, 0, 0, 0, 0, 0, 0, 0, 0, 0, 1, 0, 0, 1, 1,\n",
       "       0, 1, 0, 0, 1, 0, 1, 0, 0, 1, 1, 0, 1, 1, 0, 0, 0, 1, 0, 0, 0, 0,\n",
       "       0, 0, 1, 0, 0, 1, 1, 0, 0, 1, 0, 0, 0, 0, 0, 1, 0, 0, 0, 0, 0, 0,\n",
       "       0, 0, 0, 1, 1, 0, 0, 1, 0, 0, 0, 0, 0, 1, 1, 0, 1, 0, 0, 0, 0, 1,\n",
       "       0, 0, 1, 0, 0, 1, 1, 0, 0, 0, 0, 0, 0, 0, 0, 0, 0, 1, 0, 0, 0, 0,\n",
       "       0, 0, 1, 0, 0, 0, 0, 0, 0, 1, 1, 1, 1, 0, 1, 0, 1, 1, 0, 0, 0, 0,\n",
       "       1, 0, 0, 1, 0, 1, 0, 0, 0, 0, 0, 0, 1, 1, 0, 1, 1, 0, 0, 1, 0, 0,\n",
       "       0, 0, 1, 0, 1, 0, 0, 0, 1, 0, 1, 0, 0, 0, 0, 1, 0, 0, 0, 0, 0, 1,\n",
       "       1, 0, 0, 0, 1, 1, 1, 0, 0, 0, 0, 0, 0, 0, 1, 0, 0, 0, 0, 1, 0, 1,\n",
       "       0, 0, 0, 0, 0, 0, 1, 0, 0, 1, 0, 0, 0, 0, 0, 0, 0, 1, 1, 0, 1, 1,\n",
       "       1, 0, 0, 0, 0, 0, 0, 1, 0, 0, 0, 0, 0, 0, 1, 0, 1, 1, 1, 0, 1, 0,\n",
       "       0, 0, 0, 0, 1, 0, 0, 1, 1, 0, 0, 0, 0, 0, 1, 0, 1, 1, 0, 0, 1, 0,\n",
       "       1, 1, 0, 0, 1, 1, 0, 1, 0, 0, 0, 0, 0, 1, 1, 1, 1, 1, 0, 0, 0, 0,\n",
       "       0, 1, 0, 0, 0, 0, 1, 0, 0, 1, 1, 0, 0, 0, 0, 0, 0, 0, 1, 0, 0, 0,\n",
       "       0, 0, 0, 1, 0, 0, 0, 0, 0, 1, 0, 0, 0, 0])"
      ]
     },
     "execution_count": 55,
     "metadata": {},
     "output_type": "execute_result"
    }
   ],
   "source": [
    "model3.predict(X_train)"
   ]
  },
  {
   "cell_type": "code",
   "execution_count": 56,
   "id": "b4789b30-185f-4679-9e93-cf70d65849a7",
   "metadata": {},
   "outputs": [
    {
     "name": "stdout",
     "output_type": "stream",
     "text": [
      "              precision    recall  f1-score   support\n",
      "\n",
      "           0       0.73      0.86      0.79       307\n",
      "           1       0.69      0.50      0.58       191\n",
      "\n",
      "    accuracy                           0.72       498\n",
      "   macro avg       0.71      0.68      0.69       498\n",
      "weighted avg       0.72      0.72      0.71       498\n",
      "\n"
     ]
    }
   ],
   "source": [
    "print(classification_report(y_train, model3.predict(X_train)))"
   ]
  },
  {
   "cell_type": "markdown",
   "id": "95d9dd42-d4fb-4336-8b88-6e39f49915c6",
   "metadata": {},
   "source": [
    "## 6\n",
    "\n",
    "> What are the differences in the evaluation metrics? Which performs better on your in-sample data? Why?"
   ]
  },
  {
   "cell_type": "markdown",
   "id": "954a8cfc-e0f0-4d0d-b0dd-50f1e710bdd4",
   "metadata": {},
   "source": [
    "Model 2 and 3 have the same performance and both perform better than model 1 in terms of accuracy and recall, but model 1 has better precision."
   ]
  },
  {
   "cell_type": "markdown",
   "id": "088680e0-7601-45ff-85f5-20f6c8bfe3a5",
   "metadata": {},
   "source": [
    "## 7\n",
    "\n",
    "> Which model performs best on our out-of-sample data from validate?"
   ]
  },
  {
   "cell_type": "code",
   "execution_count": 57,
   "id": "d340ed00-85f3-4342-9829-7cf29510664a",
   "metadata": {},
   "outputs": [
    {
     "name": "stdout",
     "output_type": "stream",
     "text": [
      "Model 1\n",
      "              precision    recall  f1-score   support\n",
      "\n",
      "           0       0.75      0.93      0.83       132\n",
      "           1       0.82      0.49      0.61        82\n",
      "\n",
      "    accuracy                           0.76       214\n",
      "   macro avg       0.78      0.71      0.72       214\n",
      "weighted avg       0.77      0.76      0.74       214\n",
      "\n",
      "Model 2\n",
      "              precision    recall  f1-score   support\n",
      "\n",
      "           0       0.76      0.86      0.81       132\n",
      "           1       0.72      0.56      0.63        82\n",
      "\n",
      "    accuracy                           0.75       214\n",
      "   macro avg       0.74      0.71      0.72       214\n",
      "weighted avg       0.74      0.75      0.74       214\n",
      "\n",
      "Model 3\n",
      "              precision    recall  f1-score   support\n",
      "\n",
      "           0       0.70      0.87      0.78       132\n",
      "           1       0.66      0.40      0.50        82\n",
      "\n",
      "    accuracy                           0.69       214\n",
      "   macro avg       0.68      0.64      0.64       214\n",
      "weighted avg       0.69      0.69      0.67       214\n",
      "\n"
     ]
    }
   ],
   "source": [
    "models = [model1, model2, model3]\n",
    "\n",
    "for index, model in enumerate(models):\n",
    "    print(f'Model {index + 1}')\n",
    "    print(classification_report(y_validate, model.predict(X_validate)))"
   ]
  },
  {
   "cell_type": "markdown",
   "id": "c7f4d383-fe6e-46c0-992f-2218bd3ef731",
   "metadata": {},
   "source": [
    "Overall as k is increased the performance of the model decreases with the model having k = 2 with the best performance. This is likely due to a larger value of k resulting in new data points being essentially dragged in too many directions and thus being more likely to be misclassified."
   ]
  },
  {
   "cell_type": "markdown",
   "id": "0f944eda-47be-485b-a47f-a60397a5c598",
   "metadata": {},
   "source": [
    "# Logistic Regression Exercises"
   ]
  },
  {
   "cell_type": "code",
   "execution_count": 58,
   "id": "3552641e-7f47-4dbc-b585-8afe710afbe2",
   "metadata": {},
   "outputs": [
    {
     "data": {
      "text/plain": [
       "891"
      ]
     },
     "execution_count": 58,
     "metadata": {},
     "output_type": "execute_result"
    }
   ],
   "source": [
    "titanic = get_titanic_data()\n",
    "titanic.shape[0]"
   ]
  },
  {
   "cell_type": "markdown",
   "id": "e794babe-6784-4bb8-ac2e-5cc5050cee7d",
   "metadata": {},
   "source": [
    "> The prep_titanic_data() function removes the age column so to keep the previous exercise results from changing we'll create a separate prep function for these exercises."
   ]
  },
  {
   "cell_type": "code",
   "execution_count": 59,
   "id": "f97efc96-0699-4a98-9a08-c7aa5485225d",
   "metadata": {},
   "outputs": [],
   "source": [
    "def prep_titanic_data_alt(df):\n",
    "    df = df.drop_duplicates()\n",
    "\n",
    "    cols_to_drop = ['passenger_id', 'deck', 'embarked', 'class']\n",
    "    df = df.drop(columns=cols_to_drop)\n",
    "\n",
    "    df['embark_town'] = df.embark_town.fillna(value='Southampton')\n",
    "    \n",
    "    df = df.dropna()\n",
    "\n",
    "    dummy_df = pd.get_dummies(df[['sex','embark_town']], dummy_na=False, drop_first=[True, True])\n",
    "    df = pd.concat([df, dummy_df], axis=1)\n",
    "    \n",
    "    return df"
   ]
  },
  {
   "cell_type": "code",
   "execution_count": 60,
   "id": "5adb5df4-5506-4b5a-b144-d36fb04a1700",
   "metadata": {},
   "outputs": [
    {
     "data": {
      "text/plain": [
       "714"
      ]
     },
     "execution_count": 60,
     "metadata": {},
     "output_type": "execute_result"
    }
   ],
   "source": [
    "titanic = prep_titanic_data_alt(titanic)\n",
    "titanic.shape[0]"
   ]
  },
  {
   "cell_type": "code",
   "execution_count": 61,
   "id": "d5cec3e9-eb05-428b-beff-7c5262c3cfe6",
   "metadata": {},
   "outputs": [
    {
     "name": "stdout",
     "output_type": "stream",
     "text": [
      "<class 'pandas.core.frame.DataFrame'>\n",
      "Int64Index: 714 entries, 0 to 890\n",
      "Data columns (total 12 columns):\n",
      " #   Column                   Non-Null Count  Dtype  \n",
      "---  ------                   --------------  -----  \n",
      " 0   survived                 714 non-null    int64  \n",
      " 1   pclass                   714 non-null    int64  \n",
      " 2   sex                      714 non-null    object \n",
      " 3   age                      714 non-null    float64\n",
      " 4   sibsp                    714 non-null    int64  \n",
      " 5   parch                    714 non-null    int64  \n",
      " 6   fare                     714 non-null    float64\n",
      " 7   embark_town              714 non-null    object \n",
      " 8   alone                    714 non-null    int64  \n",
      " 9   sex_male                 714 non-null    uint8  \n",
      " 10  embark_town_Queenstown   714 non-null    uint8  \n",
      " 11  embark_town_Southampton  714 non-null    uint8  \n",
      "dtypes: float64(2), int64(5), object(2), uint8(3)\n",
      "memory usage: 57.9+ KB\n"
     ]
    }
   ],
   "source": [
    "titanic.info()"
   ]
  },
  {
   "cell_type": "code",
   "execution_count": 62,
   "id": "61c5db33-ed94-4d64-9fb1-b154c6ed59ca",
   "metadata": {},
   "outputs": [
    {
     "data": {
      "text/plain": [
       "((399, 12), (172, 12), (143, 12))"
      ]
     },
     "execution_count": 62,
     "metadata": {},
     "output_type": "execute_result"
    }
   ],
   "source": [
    "train, validate, test = split_data(titanic, 'survived')\n",
    "train.shape, validate.shape, test.shape"
   ]
  },
  {
   "cell_type": "code",
   "execution_count": 63,
   "id": "4ad94d59-dee7-4620-9cf5-a10a30483700",
   "metadata": {},
   "outputs": [
    {
     "data": {
      "text/plain": [
       "0    0.593985\n",
       "1    0.406015\n",
       "Name: survived, dtype: float64"
      ]
     },
     "execution_count": 63,
     "metadata": {},
     "output_type": "execute_result"
    }
   ],
   "source": [
    "train.survived.value_counts(normalize = True)"
   ]
  },
  {
   "cell_type": "markdown",
   "id": "3f7275fc-5810-4005-a558-dd9a1bae5abc",
   "metadata": {},
   "source": [
    "> Our baseline here is predicting all did not survive which has an accuracy of 0.59."
   ]
  },
  {
   "cell_type": "code",
   "execution_count": 64,
   "id": "f70049d0-156b-4256-9ad3-f0fd929864d2",
   "metadata": {},
   "outputs": [
    {
     "data": {
      "text/plain": [
       "0    0\n",
       "1    0\n",
       "dtype: int64"
      ]
     },
     "execution_count": 64,
     "metadata": {},
     "output_type": "execute_result"
    }
   ],
   "source": [
    "baseline = pd.Series([0] * train.shape[0])\n",
    "baseline.head(2)"
   ]
  },
  {
   "cell_type": "markdown",
   "id": "b060f65a-204b-4474-a7cd-57d51c573924",
   "metadata": {},
   "source": [
    "## 1\n",
    "\n",
    "> Create a model that includes age in addition to fare and pclass. Does this model perform better than your baseline?"
   ]
  },
  {
   "cell_type": "code",
   "execution_count": 65,
   "id": "b3f0a6c2-42ea-4647-bdf6-05b66e97eadd",
   "metadata": {},
   "outputs": [],
   "source": [
    "features_model_1 = ['age', 'fare', 'pclass']"
   ]
  },
  {
   "cell_type": "code",
   "execution_count": 66,
   "id": "160b7a71-38ce-4d2d-9e0e-9c6f3044b7f9",
   "metadata": {},
   "outputs": [
    {
     "data": {
      "text/plain": [
       "LogisticRegression(random_state=24)"
      ]
     },
     "execution_count": 66,
     "metadata": {},
     "output_type": "execute_result"
    }
   ],
   "source": [
    "X_train = train[features_model_1]\n",
    "y_train = train.survived\n",
    "\n",
    "model1 = LogisticRegression(random_state = 24)\n",
    "model1.fit(X_train, y_train)"
   ]
  },
  {
   "cell_type": "code",
   "execution_count": 67,
   "id": "06cf267f-5b39-4ea6-9d37-89c74150e65b",
   "metadata": {},
   "outputs": [
    {
     "data": {
      "text/plain": [
       "0.6992481203007519"
      ]
     },
     "execution_count": 67,
     "metadata": {},
     "output_type": "execute_result"
    }
   ],
   "source": [
    "model1.score(X_train, y_train)"
   ]
  },
  {
   "cell_type": "code",
   "execution_count": 68,
   "id": "594cc49d-fbda-48d6-9a28-e52c88ce17ed",
   "metadata": {},
   "outputs": [
    {
     "name": "stdout",
     "output_type": "stream",
     "text": [
      "              precision    recall  f1-score   support\n",
      "\n",
      "           0       0.71      0.84      0.77       237\n",
      "           1       0.68      0.49      0.57       162\n",
      "\n",
      "    accuracy                           0.70       399\n",
      "   macro avg       0.69      0.67      0.67       399\n",
      "weighted avg       0.70      0.70      0.69       399\n",
      "\n"
     ]
    }
   ],
   "source": [
    "# Model Performance\n",
    "print(classification_report(y_train, model1.predict(X_train)))"
   ]
  },
  {
   "cell_type": "code",
   "execution_count": 69,
   "id": "155f9a11-0e21-4ae2-871a-8e2a3bc471a8",
   "metadata": {},
   "outputs": [
    {
     "name": "stdout",
     "output_type": "stream",
     "text": [
      "              precision    recall  f1-score   support\n",
      "\n",
      "           0       0.59      1.00      0.75       237\n",
      "           1       0.00      0.00      0.00       162\n",
      "\n",
      "    accuracy                           0.59       399\n",
      "   macro avg       0.30      0.50      0.37       399\n",
      "weighted avg       0.35      0.59      0.44       399\n",
      "\n"
     ]
    }
   ],
   "source": [
    "# Baseline Performance\n",
    "print(classification_report(y_train, baseline, zero_division = 0))"
   ]
  },
  {
   "cell_type": "markdown",
   "id": "5f7d82e2-b01a-4734-afaa-9d8be8a27b9b",
   "metadata": {},
   "source": [
    "> Our model performs better than the baseline model."
   ]
  },
  {
   "cell_type": "markdown",
   "id": "61b7223b-e585-46e7-859e-a97ca06fa09f",
   "metadata": {},
   "source": [
    "## 2\n",
    "\n",
    "> Include sex in your model as well. Note that you'll need to encode or create a dummy variable of this feature before including it in a model."
   ]
  },
  {
   "cell_type": "code",
   "execution_count": 70,
   "id": "a5eb7d43-abc1-477b-996a-4c3213ebd7a0",
   "metadata": {},
   "outputs": [],
   "source": [
    "features_model_2 = ['age', 'fare', 'pclass', 'sex_male']"
   ]
  },
  {
   "cell_type": "code",
   "execution_count": 71,
   "id": "f1bf8ea8-00b3-4cbf-905b-dd475cd1626a",
   "metadata": {},
   "outputs": [
    {
     "data": {
      "text/plain": [
       "LogisticRegression(random_state=24)"
      ]
     },
     "execution_count": 71,
     "metadata": {},
     "output_type": "execute_result"
    }
   ],
   "source": [
    "X_train = train[features_model_2]\n",
    "y_train = train.survived\n",
    "\n",
    "model2 = LogisticRegression(random_state = 24)\n",
    "model2.fit(X_train, y_train)"
   ]
  },
  {
   "cell_type": "code",
   "execution_count": 72,
   "id": "f0b90d7e-b2c3-47a4-8389-51d476a44abe",
   "metadata": {},
   "outputs": [
    {
     "data": {
      "text/plain": [
       "0.8170426065162907"
      ]
     },
     "execution_count": 72,
     "metadata": {},
     "output_type": "execute_result"
    }
   ],
   "source": [
    "model2.score(X_train, y_train)"
   ]
  },
  {
   "cell_type": "code",
   "execution_count": 73,
   "id": "57887520-4ff5-4924-a35f-040782168d92",
   "metadata": {},
   "outputs": [
    {
     "name": "stdout",
     "output_type": "stream",
     "text": [
      "              precision    recall  f1-score   support\n",
      "\n",
      "           0       0.84      0.86      0.85       237\n",
      "           1       0.78      0.76      0.77       162\n",
      "\n",
      "    accuracy                           0.82       399\n",
      "   macro avg       0.81      0.81      0.81       399\n",
      "weighted avg       0.82      0.82      0.82       399\n",
      "\n"
     ]
    }
   ],
   "source": [
    "print(classification_report(y_train, model2.predict(X_train)))"
   ]
  },
  {
   "cell_type": "markdown",
   "id": "76d63a0a-747b-4c01-a304-5fccc492476c",
   "metadata": {},
   "source": [
    "> Model 2 performs better in all metrics compared to model 1."
   ]
  },
  {
   "cell_type": "markdown",
   "id": "cfc1bc93-9390-42a2-a8d1-8f392c1d0732",
   "metadata": {},
   "source": [
    "## 3\n",
    "\n",
    "> Try out other combinations of features and models."
   ]
  },
  {
   "cell_type": "code",
   "execution_count": 74,
   "id": "132e936b-9e93-4de6-882f-77be583620a7",
   "metadata": {},
   "outputs": [],
   "source": [
    "features_model_3 = ['sex_male', 'age', 'pclass', 'alone']"
   ]
  },
  {
   "cell_type": "code",
   "execution_count": 75,
   "id": "13f8c408-6b5f-4e5e-b5d7-f1424b505456",
   "metadata": {},
   "outputs": [
    {
     "data": {
      "text/plain": [
       "LogisticRegression(random_state=24)"
      ]
     },
     "execution_count": 75,
     "metadata": {},
     "output_type": "execute_result"
    }
   ],
   "source": [
    "X_train = train[features_model_3]\n",
    "y_train = train.survived\n",
    "\n",
    "model3 = LogisticRegression(random_state = 24)\n",
    "model3.fit(X_train, y_train)"
   ]
  },
  {
   "cell_type": "code",
   "execution_count": 76,
   "id": "47d49dc3-22b4-42be-ab0b-d5e437cd0c92",
   "metadata": {},
   "outputs": [
    {
     "data": {
      "text/plain": [
       "0.8070175438596491"
      ]
     },
     "execution_count": 76,
     "metadata": {},
     "output_type": "execute_result"
    }
   ],
   "source": [
    "model3.score(X_train, y_train)"
   ]
  },
  {
   "cell_type": "code",
   "execution_count": 77,
   "id": "8ae79462-d1f6-4ff8-b634-88542faed5c5",
   "metadata": {},
   "outputs": [
    {
     "name": "stdout",
     "output_type": "stream",
     "text": [
      "              precision    recall  f1-score   support\n",
      "\n",
      "           0       0.83      0.85      0.84       237\n",
      "           1       0.77      0.75      0.76       162\n",
      "\n",
      "    accuracy                           0.81       399\n",
      "   macro avg       0.80      0.80      0.80       399\n",
      "weighted avg       0.81      0.81      0.81       399\n",
      "\n"
     ]
    }
   ],
   "source": [
    "print(classification_report(y_train, model3.predict(X_train)))"
   ]
  },
  {
   "cell_type": "markdown",
   "id": "f74a3bd6-4bf0-4759-97b4-f9b14697b921",
   "metadata": {},
   "source": [
    "---"
   ]
  },
  {
   "cell_type": "code",
   "execution_count": 78,
   "id": "145ad00b-6339-410f-a162-9e0f0bc1bd96",
   "metadata": {},
   "outputs": [],
   "source": [
    "features_model_4 = ['fare', 'parch', 'embark_town_Queenstown', 'embark_town_Southampton']"
   ]
  },
  {
   "cell_type": "code",
   "execution_count": 79,
   "id": "2d8f6f8a-d4b9-49d5-9edc-28541e394765",
   "metadata": {},
   "outputs": [
    {
     "data": {
      "text/plain": [
       "LogisticRegression(random_state=24)"
      ]
     },
     "execution_count": 79,
     "metadata": {},
     "output_type": "execute_result"
    }
   ],
   "source": [
    "X_train = train[features_model_4]\n",
    "y_train = train.survived\n",
    "\n",
    "model4 = LogisticRegression(random_state = 24)\n",
    "model4.fit(X_train, y_train)"
   ]
  },
  {
   "cell_type": "code",
   "execution_count": 80,
   "id": "d56d7151-7acf-4b79-ad5c-e18adf56265c",
   "metadata": {},
   "outputs": [
    {
     "data": {
      "text/plain": [
       "0.6516290726817042"
      ]
     },
     "execution_count": 80,
     "metadata": {},
     "output_type": "execute_result"
    }
   ],
   "source": [
    "model4.score(X_train, y_train)"
   ]
  },
  {
   "cell_type": "code",
   "execution_count": 81,
   "id": "818fe198-dbd5-4d86-97ec-0b8db4adfdc4",
   "metadata": {},
   "outputs": [
    {
     "name": "stdout",
     "output_type": "stream",
     "text": [
      "              precision    recall  f1-score   support\n",
      "\n",
      "           0       0.64      0.94      0.76       237\n",
      "           1       0.72      0.23      0.35       162\n",
      "\n",
      "    accuracy                           0.65       399\n",
      "   macro avg       0.68      0.59      0.56       399\n",
      "weighted avg       0.67      0.65      0.60       399\n",
      "\n"
     ]
    }
   ],
   "source": [
    "print(classification_report(y_train, model4.predict(X_train)))"
   ]
  },
  {
   "cell_type": "markdown",
   "id": "06374b34-2396-4e04-9334-4db9b4198edc",
   "metadata": {},
   "source": [
    "---"
   ]
  },
  {
   "cell_type": "code",
   "execution_count": 82,
   "id": "b5a4b74f-dab9-49ed-b65d-6cf9c444c31e",
   "metadata": {},
   "outputs": [],
   "source": [
    "features_model_5 = ['sex_male', 'age', 'sibsp', 'alone']"
   ]
  },
  {
   "cell_type": "code",
   "execution_count": 83,
   "id": "e3a0be56-3e5a-482f-89ac-11d98eabc3c5",
   "metadata": {},
   "outputs": [
    {
     "data": {
      "text/plain": [
       "LogisticRegression(random_state=24)"
      ]
     },
     "execution_count": 83,
     "metadata": {},
     "output_type": "execute_result"
    }
   ],
   "source": [
    "X_train = train[features_model_5]\n",
    "y_train = train.survived\n",
    "\n",
    "model5 = LogisticRegression(random_state = 24)\n",
    "model5.fit(X_train, y_train)"
   ]
  },
  {
   "cell_type": "code",
   "execution_count": 84,
   "id": "8a373019-66be-494d-86cf-dc6659df8f71",
   "metadata": {},
   "outputs": [
    {
     "data": {
      "text/plain": [
       "0.7819548872180451"
      ]
     },
     "execution_count": 84,
     "metadata": {},
     "output_type": "execute_result"
    }
   ],
   "source": [
    "model5.score(X_train, y_train)"
   ]
  },
  {
   "cell_type": "code",
   "execution_count": 85,
   "id": "f8c853d7-43d3-4f8c-bc82-5fd6de17d9ee",
   "metadata": {},
   "outputs": [
    {
     "name": "stdout",
     "output_type": "stream",
     "text": [
      "              precision    recall  f1-score   support\n",
      "\n",
      "           0       0.79      0.86      0.82       237\n",
      "           1       0.76      0.67      0.71       162\n",
      "\n",
      "    accuracy                           0.78       399\n",
      "   macro avg       0.78      0.76      0.77       399\n",
      "weighted avg       0.78      0.78      0.78       399\n",
      "\n"
     ]
    }
   ],
   "source": [
    "print(classification_report(y_train, model5.predict(X_train)))"
   ]
  },
  {
   "cell_type": "markdown",
   "id": "971f1976-ee34-494c-b76a-597888b4e609",
   "metadata": {},
   "source": [
    "---"
   ]
  },
  {
   "cell_type": "code",
   "execution_count": 86,
   "id": "1406021a-4cc1-4805-9a73-b3675ef76faa",
   "metadata": {},
   "outputs": [
    {
     "data": {
      "text/plain": [
       "LogisticRegression(class_weight='balanced', random_state=24)"
      ]
     },
     "execution_count": 86,
     "metadata": {},
     "output_type": "execute_result"
    }
   ],
   "source": [
    "X_train = train[features_model_2]\n",
    "y_train = train.survived\n",
    "\n",
    "model6 = LogisticRegression(class_weight = 'balanced', random_state = 24)\n",
    "model6.fit(X_train, y_train)"
   ]
  },
  {
   "cell_type": "code",
   "execution_count": 87,
   "id": "ce99a12f-c431-4bd9-9c16-c74810457f0a",
   "metadata": {},
   "outputs": [
    {
     "data": {
      "text/plain": [
       "0.8145363408521303"
      ]
     },
     "execution_count": 87,
     "metadata": {},
     "output_type": "execute_result"
    }
   ],
   "source": [
    "model6.score(X_train, y_train)"
   ]
  },
  {
   "cell_type": "code",
   "execution_count": 88,
   "id": "148805da-6a16-4f26-82f9-6839f96de845",
   "metadata": {},
   "outputs": [
    {
     "name": "stdout",
     "output_type": "stream",
     "text": [
      "              precision    recall  f1-score   support\n",
      "\n",
      "           0       0.85      0.84      0.84       237\n",
      "           1       0.77      0.78      0.77       162\n",
      "\n",
      "    accuracy                           0.81       399\n",
      "   macro avg       0.81      0.81      0.81       399\n",
      "weighted avg       0.82      0.81      0.81       399\n",
      "\n"
     ]
    }
   ],
   "source": [
    "print(classification_report(y_train, model6.predict(X_train)))"
   ]
  },
  {
   "cell_type": "markdown",
   "id": "1b2beb41-cf3f-4063-a746-e81c3d1feb39",
   "metadata": {},
   "source": [
    "## 4\n",
    "\n",
    "> Use your best 3 models to predict and evaluate on your validate sample."
   ]
  },
  {
   "cell_type": "markdown",
   "id": "4a7e0b37-db77-40ba-916a-2a146093ba46",
   "metadata": {},
   "source": [
    "Models 2, 3 and 5 had the best performance on the train dataset."
   ]
  },
  {
   "cell_type": "code",
   "execution_count": 90,
   "id": "b96585fc-4b5b-44d0-9668-87349cdc2cab",
   "metadata": {},
   "outputs": [
    {
     "data": {
      "text/html": [
       "<div>\n",
       "<style scoped>\n",
       "    .dataframe tbody tr th:only-of-type {\n",
       "        vertical-align: middle;\n",
       "    }\n",
       "\n",
       "    .dataframe tbody tr th {\n",
       "        vertical-align: top;\n",
       "    }\n",
       "\n",
       "    .dataframe thead th {\n",
       "        text-align: right;\n",
       "    }\n",
       "</style>\n",
       "<table border=\"1\" class=\"dataframe\">\n",
       "  <thead>\n",
       "    <tr style=\"text-align: right;\">\n",
       "      <th></th>\n",
       "      <th>Model</th>\n",
       "      <th>Train_Accuracy</th>\n",
       "      <th>Validate_Accuracy</th>\n",
       "      <th>Validate_Precision</th>\n",
       "      <th>Validate_Recall</th>\n",
       "    </tr>\n",
       "  </thead>\n",
       "  <tbody>\n",
       "    <tr>\n",
       "      <th>0</th>\n",
       "      <td>2</td>\n",
       "      <td>0.817043</td>\n",
       "      <td>0.813953</td>\n",
       "      <td>0.836538</td>\n",
       "      <td>0.852941</td>\n",
       "    </tr>\n",
       "    <tr>\n",
       "      <th>1</th>\n",
       "      <td>3</td>\n",
       "      <td>0.807018</td>\n",
       "      <td>0.813953</td>\n",
       "      <td>0.836538</td>\n",
       "      <td>0.852941</td>\n",
       "    </tr>\n",
       "    <tr>\n",
       "      <th>2</th>\n",
       "      <td>6</td>\n",
       "      <td>0.814536</td>\n",
       "      <td>0.825581</td>\n",
       "      <td>0.860000</td>\n",
       "      <td>0.843137</td>\n",
       "    </tr>\n",
       "  </tbody>\n",
       "</table>\n",
       "</div>"
      ],
      "text/plain": [
       "   Model  Train_Accuracy  Validate_Accuracy  Validate_Precision  \\\n",
       "0      2        0.817043           0.813953            0.836538   \n",
       "1      3        0.807018           0.813953            0.836538   \n",
       "2      6        0.814536           0.825581            0.860000   \n",
       "\n",
       "   Validate_Recall  \n",
       "0         0.852941  \n",
       "1         0.852941  \n",
       "2         0.843137  "
      ]
     },
     "execution_count": 90,
     "metadata": {},
     "output_type": "execute_result"
    }
   ],
   "source": [
    "models = [model2, model3, model6]\n",
    "features = [\n",
    "    features_model_2,\n",
    "    features_model_3,\n",
    "    features_model_2\n",
    "]\n",
    "model_numbers = [2, 3, 6]\n",
    "\n",
    "scores = []\n",
    "\n",
    "for index, model in enumerate(models):\n",
    "    score = {\n",
    "        'Model' : model_numbers[index],\n",
    "        'Train_Accuracy' : model.score(train[features[index]], train.survived),\n",
    "        'Validate_Accuracy' : model.score(validate[features[index]], validate.survived),\n",
    "        'Validate_Precision' : precision_score(validate.survived, model.predict(validate[features[index]]), pos_label = 0),\n",
    "        'Validate_Recall' : recall_score(validate.survived, model.predict(validate[features[index]]), pos_label = 0)\n",
    "    }\n",
    "    scores.append(score)\n",
    "    \n",
    "pd.DataFrame(scores)"
   ]
  },
  {
   "cell_type": "markdown",
   "id": "5931baa0-9f38-4b23-bc2c-f522d74dbeb3",
   "metadata": {},
   "source": [
    "> Model 6 has the best performance overall on the validate dataset."
   ]
  },
  {
   "cell_type": "markdown",
   "id": "34845650-6790-4fe9-9755-d3ffd3aee7f9",
   "metadata": {},
   "source": [
    "## 5\n",
    "\n",
    "> Choose your best model from the validation performance, and evaluate it on the test dataset. How do the performance metrics compare to validate? to train?"
   ]
  },
  {
   "cell_type": "markdown",
   "id": "58e9b3e8-5c46-4849-91db-1b75058f2b23",
   "metadata": {},
   "source": [
    "We'll use model 6."
   ]
  },
  {
   "cell_type": "code",
   "execution_count": 91,
   "id": "bce650ea-6961-4c1f-986d-2a6709f7f764",
   "metadata": {},
   "outputs": [
    {
     "name": "stdout",
     "output_type": "stream",
     "text": [
      "              precision    recall  f1-score   support\n",
      "\n",
      "           0       0.80      0.82      0.81        85\n",
      "           1       0.73      0.69      0.71        58\n",
      "\n",
      "    accuracy                           0.77       143\n",
      "   macro avg       0.76      0.76      0.76       143\n",
      "weighted avg       0.77      0.77      0.77       143\n",
      "\n"
     ]
    }
   ],
   "source": [
    "print(classification_report(test.survived, model6.predict(test[features_model_2])))"
   ]
  },
  {
   "cell_type": "markdown",
   "id": "a6c356f4-d615-4fb5-a8ec-c0e96afe32ce",
   "metadata": {},
   "source": [
    "> There is a slight drop off in performance compared to the model's performance on train and validate, with the exception of the recall score which remained somewhat consistent by comparison."
   ]
  },
  {
   "cell_type": "markdown",
   "id": "365b7e0c-3cfa-4343-9e9b-880d24c9f6cb",
   "metadata": {},
   "source": [
    "## Bonus 1\n",
    "\n",
    "> How do different strategies for handling the missing values in the age column affect model performance?"
   ]
  },
  {
   "cell_type": "code",
   "execution_count": 92,
   "id": "acf3c35c-61b6-49b3-8943-4ae0bfbc311d",
   "metadata": {},
   "outputs": [
    {
     "name": "stdout",
     "output_type": "stream",
     "text": [
      "              precision    recall  f1-score   support\n",
      "\n",
      "           0       0.84      0.86      0.85       237\n",
      "           1       0.78      0.76      0.77       162\n",
      "\n",
      "    accuracy                           0.82       399\n",
      "   macro avg       0.81      0.81      0.81       399\n",
      "weighted avg       0.82      0.82      0.82       399\n",
      "\n"
     ]
    }
   ],
   "source": [
    "# Rows with missing values in age column are removed\n",
    "\n",
    "print(classification_report(train.survived, model2.predict(train[features_model_2])))"
   ]
  },
  {
   "cell_type": "markdown",
   "id": "70ec9d98-27c7-4b9e-b41d-f4ffa4ca77e6",
   "metadata": {},
   "source": [
    "---"
   ]
  },
  {
   "cell_type": "code",
   "execution_count": 93,
   "id": "573fadd0-a728-4e9d-ac6e-ef8f2279b8c4",
   "metadata": {},
   "outputs": [],
   "source": [
    "# Fill missing values with fillna\n",
    "\n",
    "def prep_titanic_data_alt2(df):\n",
    "    df = df.drop_duplicates()\n",
    "\n",
    "    cols_to_drop = ['passenger_id', 'deck', 'embarked', 'class']\n",
    "    df = df.drop(columns=cols_to_drop)\n",
    "\n",
    "    df['embark_town'] = df.embark_town.fillna(value='Southampton')\n",
    "    \n",
    "    avg = titanic.age.mean()\n",
    "    df = df.fillna(value = avg, axis = 0)\n",
    "\n",
    "    dummy_df = pd.get_dummies(df[['sex','embark_town']], dummy_na=False, drop_first=[True, True])\n",
    "    df = pd.concat([df, dummy_df], axis=1)\n",
    "    \n",
    "    return df"
   ]
  },
  {
   "cell_type": "code",
   "execution_count": 94,
   "id": "50cde255-dbe1-4d13-9ae0-5bd64e0adc18",
   "metadata": {},
   "outputs": [],
   "source": [
    "titanic = get_titanic_data()\n",
    "titanic = prep_titanic_data_alt2(titanic)\n",
    "train2, validate2, test2 = split_data(titanic, 'survived')"
   ]
  },
  {
   "cell_type": "code",
   "execution_count": 95,
   "id": "ba4d6c76-beb5-4690-9a2c-36020272ee3e",
   "metadata": {},
   "outputs": [
    {
     "data": {
      "text/plain": [
       "LogisticRegression(random_state=24)"
      ]
     },
     "execution_count": 95,
     "metadata": {},
     "output_type": "execute_result"
    }
   ],
   "source": [
    "X_train = train[features_model_2]\n",
    "y_train = train.survived\n",
    "\n",
    "model6 = LogisticRegression(random_state = 24)\n",
    "model6.fit(X_train, y_train)"
   ]
  },
  {
   "cell_type": "code",
   "execution_count": 96,
   "id": "d6a39fe1-759d-44fd-9162-e95ed1e61b7f",
   "metadata": {},
   "outputs": [
    {
     "name": "stdout",
     "output_type": "stream",
     "text": [
      "              precision    recall  f1-score   support\n",
      "\n",
      "           0       0.84      0.86      0.85       237\n",
      "           1       0.78      0.76      0.77       162\n",
      "\n",
      "    accuracy                           0.82       399\n",
      "   macro avg       0.81      0.81      0.81       399\n",
      "weighted avg       0.82      0.82      0.82       399\n",
      "\n"
     ]
    }
   ],
   "source": [
    "print(classification_report(y_train, model6.predict(X_train)))"
   ]
  },
  {
   "cell_type": "markdown",
   "id": "03444016-745f-454f-92c6-0fad9d1ee8c2",
   "metadata": {},
   "source": [
    "---"
   ]
  },
  {
   "cell_type": "code",
   "execution_count": 97,
   "id": "b61ed1f9-6abe-4191-9ea7-f950e4fa65de",
   "metadata": {},
   "outputs": [],
   "source": [
    "# Use SimpleImputer to fill missing values\n",
    "\n",
    "from sklearn.impute import SimpleImputer\n",
    "\n",
    "def impute(train, validate, test):\n",
    "    feature = ['age']\n",
    "    \n",
    "    imputer = SimpleImputer(missing_values=np.nan)\n",
    "    train[feature] = imputer.fit_transform(train[feature])\n",
    "    validate[feature] = imputer.transform(validate[feature])\n",
    "    test[feature] = imputer.transform(test[feature])\n",
    "    return train, validate, test"
   ]
  },
  {
   "cell_type": "code",
   "execution_count": 98,
   "id": "921ea54b-989c-44c7-8694-b94c9d08ba71",
   "metadata": {},
   "outputs": [],
   "source": [
    "def prep_titanic_data_alt3(df):\n",
    "    df = df.drop_duplicates()\n",
    "\n",
    "    cols_to_drop = ['passenger_id', 'deck', 'embarked', 'class']\n",
    "    df = df.drop(columns=cols_to_drop)\n",
    "\n",
    "    df['embark_town'] = df.embark_town.fillna(value='Southampton')\n",
    "\n",
    "    dummy_df = pd.get_dummies(df[['sex','embark_town']], dummy_na=False, drop_first=[True, True])\n",
    "    df = pd.concat([df, dummy_df], axis=1)\n",
    "    \n",
    "    return df"
   ]
  },
  {
   "cell_type": "code",
   "execution_count": 99,
   "id": "7a6d36cb-cc48-4237-b1fd-4e83231872b5",
   "metadata": {},
   "outputs": [
    {
     "name": "stderr",
     "output_type": "stream",
     "text": [
      "/opt/homebrew/anaconda3/lib/python3.9/site-packages/pandas/core/frame.py:3678: SettingWithCopyWarning: \n",
      "A value is trying to be set on a copy of a slice from a DataFrame.\n",
      "Try using .loc[row_indexer,col_indexer] = value instead\n",
      "\n",
      "See the caveats in the documentation: https://pandas.pydata.org/pandas-docs/stable/user_guide/indexing.html#returning-a-view-versus-a-copy\n",
      "  self[col] = igetitem(value, i)\n"
     ]
    }
   ],
   "source": [
    "titanic = get_titanic_data()\n",
    "titanic = prep_titanic_data_alt3(titanic)\n",
    "train3, validate3, test3 = split_data(titanic, 'survived')\n",
    "train3, validate3, test3 = impute(train3, validate3, test3)"
   ]
  },
  {
   "cell_type": "code",
   "execution_count": 100,
   "id": "b466d96c-b0e0-4e7b-80ce-8882c9ce4f82",
   "metadata": {},
   "outputs": [
    {
     "data": {
      "text/plain": [
       "LogisticRegression(random_state=24)"
      ]
     },
     "execution_count": 100,
     "metadata": {},
     "output_type": "execute_result"
    }
   ],
   "source": [
    "X_train = train[features_model_2]\n",
    "y_train = train.survived\n",
    "\n",
    "model7 = LogisticRegression(random_state = 24)\n",
    "model7.fit(X_train, y_train)"
   ]
  },
  {
   "cell_type": "code",
   "execution_count": 101,
   "id": "e14edc7d-9329-4c22-aba1-cfa48b04988f",
   "metadata": {},
   "outputs": [
    {
     "name": "stdout",
     "output_type": "stream",
     "text": [
      "              precision    recall  f1-score   support\n",
      "\n",
      "           0       0.84      0.86      0.85       237\n",
      "           1       0.78      0.76      0.77       162\n",
      "\n",
      "    accuracy                           0.82       399\n",
      "   macro avg       0.81      0.81      0.81       399\n",
      "weighted avg       0.82      0.82      0.82       399\n",
      "\n"
     ]
    }
   ],
   "source": [
    "print(classification_report(y_train, model7.predict(X_train)))"
   ]
  },
  {
   "cell_type": "markdown",
   "id": "093c6358-176f-426b-9d18-cbac8510d390",
   "metadata": {},
   "source": [
    "> The various methods for handling the missing values in age do not seem to have much effect over the performance of the model."
   ]
  },
  {
   "cell_type": "markdown",
   "id": "411590a3-02d7-478a-84c6-b7b9756af6c6",
   "metadata": {},
   "source": [
    "## Bonus 2\n",
    "\n",
    "> How do different strategies for encoding sex affect model performance?"
   ]
  },
  {
   "cell_type": "markdown",
   "id": "bdd6a2ac-6ecf-425e-8263-ca608a373044",
   "metadata": {},
   "source": [
    "Since sex only has two possible values there aren't any other ways to encode the value that would seemingly affect the model performance."
   ]
  },
  {
   "cell_type": "markdown",
   "id": "555facf7-ad9e-4bd9-8143-1724993bc2c6",
   "metadata": {},
   "source": [
    "## Bonus 3\n",
    "\n",
    "> Try out the following values for C and note how the coefficients and the model's performance on both the dataset it was trained on and on the validate split are affected.\n",
    "> C = .01, .1, 1, 10, 100, 1000"
   ]
  },
  {
   "cell_type": "code",
   "execution_count": 102,
   "id": "240dcfed-87e7-4eb2-b451-9b2c26512314",
   "metadata": {},
   "outputs": [
    {
     "name": "stdout",
     "output_type": "stream",
     "text": [
      "LogisticRegression(C=0.01, random_state=24)\n",
      "Train\n",
      "              precision    recall  f1-score   support\n",
      "\n",
      "           0       0.70      0.90      0.79       237\n",
      "           1       0.75      0.44      0.56       162\n",
      "\n",
      "    accuracy                           0.71       399\n",
      "   macro avg       0.73      0.67      0.67       399\n",
      "weighted avg       0.72      0.71      0.70       399\n",
      "\n",
      "Validate\n",
      "              precision    recall  f1-score   support\n",
      "\n",
      "           0       0.68      0.87      0.77       102\n",
      "           1       0.69      0.41      0.52        70\n",
      "\n",
      "    accuracy                           0.69       172\n",
      "   macro avg       0.69      0.64      0.64       172\n",
      "weighted avg       0.69      0.69      0.67       172\n",
      "\n",
      "-----------------------\n",
      "LogisticRegression(C=0.1, random_state=24)\n",
      "Train\n",
      "              precision    recall  f1-score   support\n",
      "\n",
      "           0       0.80      0.88      0.84       237\n",
      "           1       0.79      0.68      0.73       162\n",
      "\n",
      "    accuracy                           0.80       399\n",
      "   macro avg       0.80      0.78      0.78       399\n",
      "weighted avg       0.80      0.80      0.79       399\n",
      "\n",
      "Validate\n",
      "              precision    recall  f1-score   support\n",
      "\n",
      "           0       0.81      0.89      0.85       102\n",
      "           1       0.82      0.70      0.75        70\n",
      "\n",
      "    accuracy                           0.81       172\n",
      "   macro avg       0.81      0.80      0.80       172\n",
      "weighted avg       0.81      0.81      0.81       172\n",
      "\n",
      "-----------------------\n",
      "LogisticRegression(C=1, random_state=24)\n",
      "Train\n",
      "              precision    recall  f1-score   support\n",
      "\n",
      "           0       0.84      0.86      0.85       237\n",
      "           1       0.78      0.75      0.77       162\n",
      "\n",
      "    accuracy                           0.81       399\n",
      "   macro avg       0.81      0.80      0.81       399\n",
      "weighted avg       0.81      0.81      0.81       399\n",
      "\n",
      "Validate\n",
      "              precision    recall  f1-score   support\n",
      "\n",
      "           0       0.84      0.86      0.85       102\n",
      "           1       0.79      0.76      0.77        70\n",
      "\n",
      "    accuracy                           0.82       172\n",
      "   macro avg       0.81      0.81      0.81       172\n",
      "weighted avg       0.82      0.82      0.82       172\n",
      "\n",
      "-----------------------\n",
      "LogisticRegression(C=10, random_state=24)\n",
      "Train\n",
      "              precision    recall  f1-score   support\n",
      "\n",
      "           0       0.84      0.85      0.85       237\n",
      "           1       0.78      0.76      0.77       162\n",
      "\n",
      "    accuracy                           0.81       399\n",
      "   macro avg       0.81      0.81      0.81       399\n",
      "weighted avg       0.81      0.81      0.81       399\n",
      "\n",
      "Validate\n",
      "              precision    recall  f1-score   support\n",
      "\n",
      "           0       0.84      0.86      0.85       102\n",
      "           1       0.79      0.76      0.77        70\n",
      "\n",
      "    accuracy                           0.82       172\n",
      "   macro avg       0.81      0.81      0.81       172\n",
      "weighted avg       0.82      0.82      0.82       172\n",
      "\n",
      "-----------------------\n",
      "LogisticRegression(C=100, random_state=24)\n",
      "Train\n",
      "              precision    recall  f1-score   support\n",
      "\n",
      "           0       0.84      0.85      0.85       237\n",
      "           1       0.78      0.76      0.77       162\n",
      "\n",
      "    accuracy                           0.81       399\n",
      "   macro avg       0.81      0.81      0.81       399\n",
      "weighted avg       0.81      0.81      0.81       399\n",
      "\n",
      "Validate\n",
      "              precision    recall  f1-score   support\n",
      "\n",
      "           0       0.84      0.86      0.85       102\n",
      "           1       0.79      0.76      0.77        70\n",
      "\n",
      "    accuracy                           0.82       172\n",
      "   macro avg       0.81      0.81      0.81       172\n",
      "weighted avg       0.82      0.82      0.82       172\n",
      "\n",
      "-----------------------\n",
      "LogisticRegression(C=1000, random_state=24)\n",
      "Train\n",
      "              precision    recall  f1-score   support\n",
      "\n",
      "           0       0.84      0.85      0.85       237\n",
      "           1       0.78      0.76      0.77       162\n",
      "\n",
      "    accuracy                           0.81       399\n",
      "   macro avg       0.81      0.81      0.81       399\n",
      "weighted avg       0.81      0.81      0.81       399\n",
      "\n",
      "Validate\n",
      "              precision    recall  f1-score   support\n",
      "\n",
      "           0       0.84      0.86      0.85       102\n",
      "           1       0.79      0.76      0.77        70\n",
      "\n",
      "    accuracy                           0.82       172\n",
      "   macro avg       0.81      0.81      0.81       172\n",
      "weighted avg       0.82      0.82      0.82       172\n",
      "\n",
      "-----------------------\n"
     ]
    }
   ],
   "source": [
    "C = [0.01, 0.1, 1, 10, 100, 1000]\n",
    "features = ['age', 'sex_male', 'pclass', 'fare', 'alone']\n",
    "\n",
    "X_train = train[features]\n",
    "y_train = train.survived\n",
    "\n",
    "X_validate = validate[features]\n",
    "y_validate = validate.survived\n",
    "\n",
    "for c in C:\n",
    "    model = LogisticRegression(C = c, random_state = 24)\n",
    "    model.fit(X_train, y_train)\n",
    "    print(model)\n",
    "    print('Train')\n",
    "    print(classification_report(y_train, model.predict(X_train)))\n",
    "    print('Validate')\n",
    "    print(classification_report(y_validate, model.predict(X_validate)))\n",
    "    print('-----------------------')"
   ]
  },
  {
   "cell_type": "code",
   "execution_count": null,
   "id": "81751797-a400-4c36-993a-4670ddeb92be",
   "metadata": {},
   "outputs": [],
   "source": []
  }
 ],
 "metadata": {
  "kernelspec": {
   "display_name": "Python 3 (ipykernel)",
   "language": "python",
   "name": "python3"
  },
  "language_info": {
   "codemirror_mode": {
    "name": "ipython",
    "version": 3
   },
   "file_extension": ".py",
   "mimetype": "text/x-python",
   "name": "python",
   "nbconvert_exporter": "python",
   "pygments_lexer": "ipython3",
   "version": "3.9.7"
  }
 },
 "nbformat": 4,
 "nbformat_minor": 5
}
