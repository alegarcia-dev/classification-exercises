{
 "cells": [
  {
   "cell_type": "code",
   "execution_count": 1,
   "id": "270f4fad-d06f-498e-a5fa-e65911b25e1c",
   "metadata": {},
   "outputs": [],
   "source": [
    "import pandas as pd\n",
    "import numpy as np\n",
    "import matplotlib.pyplot as plt\n",
    "import seaborn as sns\n",
    "from scipy import stats"
   ]
  },
  {
   "cell_type": "code",
   "execution_count": 2,
   "id": "94aa8d0e-b88c-4f86-a127-fb53c793155b",
   "metadata": {},
   "outputs": [],
   "source": [
    "import stats_util\n",
    "from acquire import *\n",
    "from prepare import *"
   ]
  },
  {
   "cell_type": "markdown",
   "id": "1c3b3e01-6a12-4db7-a7da-c1dbc4b334b3",
   "metadata": {},
   "source": [
    "# Data Acquisition Exercises"
   ]
  },
  {
   "cell_type": "markdown",
   "id": "d6281c0d-14cb-4f77-a277-12927b7f6521",
   "metadata": {},
   "source": [
    "## 4 Iris Seaborn\n",
    "\n",
    "Use a python module (pydata or seaborn datasets) containing datasets as a source from the iris data. Create a pandas dataframe, df_iris, from this data."
   ]
  },
  {
   "cell_type": "code",
   "execution_count": 3,
   "id": "8db98d50-0b5e-44c7-9306-4196d5f6f5ee",
   "metadata": {},
   "outputs": [],
   "source": [
    "df_iris = sns.load_dataset('iris')"
   ]
  },
  {
   "cell_type": "markdown",
   "id": "0c1c6a30-b000-42a4-9a05-f56ae409d61b",
   "metadata": {},
   "source": [
    "- print the first 3 rows"
   ]
  },
  {
   "cell_type": "code",
   "execution_count": 4,
   "id": "be64989a-61e7-448a-9b4d-b4d65de3c7c2",
   "metadata": {},
   "outputs": [
    {
     "data": {
      "text/html": [
       "<div>\n",
       "<style scoped>\n",
       "    .dataframe tbody tr th:only-of-type {\n",
       "        vertical-align: middle;\n",
       "    }\n",
       "\n",
       "    .dataframe tbody tr th {\n",
       "        vertical-align: top;\n",
       "    }\n",
       "\n",
       "    .dataframe thead th {\n",
       "        text-align: right;\n",
       "    }\n",
       "</style>\n",
       "<table border=\"1\" class=\"dataframe\">\n",
       "  <thead>\n",
       "    <tr style=\"text-align: right;\">\n",
       "      <th></th>\n",
       "      <th>sepal_length</th>\n",
       "      <th>sepal_width</th>\n",
       "      <th>petal_length</th>\n",
       "      <th>petal_width</th>\n",
       "      <th>species</th>\n",
       "    </tr>\n",
       "  </thead>\n",
       "  <tbody>\n",
       "    <tr>\n",
       "      <th>0</th>\n",
       "      <td>5.1</td>\n",
       "      <td>3.5</td>\n",
       "      <td>1.4</td>\n",
       "      <td>0.2</td>\n",
       "      <td>setosa</td>\n",
       "    </tr>\n",
       "    <tr>\n",
       "      <th>1</th>\n",
       "      <td>4.9</td>\n",
       "      <td>3.0</td>\n",
       "      <td>1.4</td>\n",
       "      <td>0.2</td>\n",
       "      <td>setosa</td>\n",
       "    </tr>\n",
       "    <tr>\n",
       "      <th>2</th>\n",
       "      <td>4.7</td>\n",
       "      <td>3.2</td>\n",
       "      <td>1.3</td>\n",
       "      <td>0.2</td>\n",
       "      <td>setosa</td>\n",
       "    </tr>\n",
       "  </tbody>\n",
       "</table>\n",
       "</div>"
      ],
      "text/plain": [
       "   sepal_length  sepal_width  petal_length  petal_width species\n",
       "0           5.1          3.5           1.4          0.2  setosa\n",
       "1           4.9          3.0           1.4          0.2  setosa\n",
       "2           4.7          3.2           1.3          0.2  setosa"
      ]
     },
     "execution_count": 4,
     "metadata": {},
     "output_type": "execute_result"
    }
   ],
   "source": [
    "df_iris.head(3)"
   ]
  },
  {
   "cell_type": "markdown",
   "id": "b4291cf6-eea2-4dae-98d3-ecd7d3f7aa1c",
   "metadata": {},
   "source": [
    "- print the number of rows and columns (shape)"
   ]
  },
  {
   "cell_type": "code",
   "execution_count": 5,
   "id": "14d3dc68-1ae3-41b9-9656-315ccfec5a36",
   "metadata": {},
   "outputs": [
    {
     "data": {
      "text/plain": [
       "(150, 5)"
      ]
     },
     "execution_count": 5,
     "metadata": {},
     "output_type": "execute_result"
    }
   ],
   "source": [
    "df_iris.shape"
   ]
  },
  {
   "cell_type": "markdown",
   "id": "a91d04f7-1ee2-42de-b54b-81e753e26291",
   "metadata": {},
   "source": [
    "- print the column names"
   ]
  },
  {
   "cell_type": "code",
   "execution_count": 6,
   "id": "0a221c7c-9d43-41bd-9c60-d233336d3a91",
   "metadata": {},
   "outputs": [
    {
     "data": {
      "text/plain": [
       "Index(['sepal_length', 'sepal_width', 'petal_length', 'petal_width',\n",
       "       'species'],\n",
       "      dtype='object')"
      ]
     },
     "execution_count": 6,
     "metadata": {},
     "output_type": "execute_result"
    }
   ],
   "source": [
    "df_iris.columns"
   ]
  },
  {
   "cell_type": "markdown",
   "id": "d4c94714-9f0b-44a7-ab09-143802d43c1b",
   "metadata": {},
   "source": [
    "- print the data type of each column"
   ]
  },
  {
   "cell_type": "code",
   "execution_count": 7,
   "id": "192f7605-2556-41b5-89e4-dc1e19f7ef45",
   "metadata": {},
   "outputs": [
    {
     "data": {
      "text/plain": [
       "sepal_length    float64\n",
       "sepal_width     float64\n",
       "petal_length    float64\n",
       "petal_width     float64\n",
       "species          object\n",
       "dtype: object"
      ]
     },
     "execution_count": 7,
     "metadata": {},
     "output_type": "execute_result"
    }
   ],
   "source": [
    "df_iris.dtypes"
   ]
  },
  {
   "cell_type": "markdown",
   "id": "46c17ec0-d2ab-4671-ad28-5717739ae3ff",
   "metadata": {},
   "source": [
    "- print the summary statistics for each of the numeric variables"
   ]
  },
  {
   "cell_type": "code",
   "execution_count": 8,
   "id": "0cf6e28e-bc52-4d7a-b229-97626cdb239b",
   "metadata": {},
   "outputs": [
    {
     "data": {
      "text/html": [
       "<div>\n",
       "<style scoped>\n",
       "    .dataframe tbody tr th:only-of-type {\n",
       "        vertical-align: middle;\n",
       "    }\n",
       "\n",
       "    .dataframe tbody tr th {\n",
       "        vertical-align: top;\n",
       "    }\n",
       "\n",
       "    .dataframe thead th {\n",
       "        text-align: right;\n",
       "    }\n",
       "</style>\n",
       "<table border=\"1\" class=\"dataframe\">\n",
       "  <thead>\n",
       "    <tr style=\"text-align: right;\">\n",
       "      <th></th>\n",
       "      <th>sepal_length</th>\n",
       "      <th>sepal_width</th>\n",
       "      <th>petal_length</th>\n",
       "      <th>petal_width</th>\n",
       "    </tr>\n",
       "  </thead>\n",
       "  <tbody>\n",
       "    <tr>\n",
       "      <th>count</th>\n",
       "      <td>150.000000</td>\n",
       "      <td>150.000000</td>\n",
       "      <td>150.000000</td>\n",
       "      <td>150.000000</td>\n",
       "    </tr>\n",
       "    <tr>\n",
       "      <th>mean</th>\n",
       "      <td>5.843333</td>\n",
       "      <td>3.057333</td>\n",
       "      <td>3.758000</td>\n",
       "      <td>1.199333</td>\n",
       "    </tr>\n",
       "    <tr>\n",
       "      <th>std</th>\n",
       "      <td>0.828066</td>\n",
       "      <td>0.435866</td>\n",
       "      <td>1.765298</td>\n",
       "      <td>0.762238</td>\n",
       "    </tr>\n",
       "    <tr>\n",
       "      <th>min</th>\n",
       "      <td>4.300000</td>\n",
       "      <td>2.000000</td>\n",
       "      <td>1.000000</td>\n",
       "      <td>0.100000</td>\n",
       "    </tr>\n",
       "    <tr>\n",
       "      <th>25%</th>\n",
       "      <td>5.100000</td>\n",
       "      <td>2.800000</td>\n",
       "      <td>1.600000</td>\n",
       "      <td>0.300000</td>\n",
       "    </tr>\n",
       "    <tr>\n",
       "      <th>50%</th>\n",
       "      <td>5.800000</td>\n",
       "      <td>3.000000</td>\n",
       "      <td>4.350000</td>\n",
       "      <td>1.300000</td>\n",
       "    </tr>\n",
       "    <tr>\n",
       "      <th>75%</th>\n",
       "      <td>6.400000</td>\n",
       "      <td>3.300000</td>\n",
       "      <td>5.100000</td>\n",
       "      <td>1.800000</td>\n",
       "    </tr>\n",
       "    <tr>\n",
       "      <th>max</th>\n",
       "      <td>7.900000</td>\n",
       "      <td>4.400000</td>\n",
       "      <td>6.900000</td>\n",
       "      <td>2.500000</td>\n",
       "    </tr>\n",
       "  </tbody>\n",
       "</table>\n",
       "</div>"
      ],
      "text/plain": [
       "       sepal_length  sepal_width  petal_length  petal_width\n",
       "count    150.000000   150.000000    150.000000   150.000000\n",
       "mean       5.843333     3.057333      3.758000     1.199333\n",
       "std        0.828066     0.435866      1.765298     0.762238\n",
       "min        4.300000     2.000000      1.000000     0.100000\n",
       "25%        5.100000     2.800000      1.600000     0.300000\n",
       "50%        5.800000     3.000000      4.350000     1.300000\n",
       "75%        6.400000     3.300000      5.100000     1.800000\n",
       "max        7.900000     4.400000      6.900000     2.500000"
      ]
     },
     "execution_count": 8,
     "metadata": {},
     "output_type": "execute_result"
    }
   ],
   "source": [
    "df_iris.describe()"
   ]
  },
  {
   "cell_type": "markdown",
   "id": "2f34ad49-84d0-462a-aece-2cdae8c7a8fe",
   "metadata": {},
   "source": [
    "## 5 Telco Google Sheet\n",
    "\n",
    "Read the Table1_CustDetails table from your spreadsheet exercises google sheet into a dataframe named df_google_sheets.\n",
    "\n",
    "Make sure that the spreadsheet is publicly visible under your sharing settings."
   ]
  },
  {
   "cell_type": "code",
   "execution_count": 9,
   "id": "d13d9aba-ce6d-4cf0-82b6-3348edb9ae7b",
   "metadata": {},
   "outputs": [
    {
     "data": {
      "text/html": [
       "<div>\n",
       "<style scoped>\n",
       "    .dataframe tbody tr th:only-of-type {\n",
       "        vertical-align: middle;\n",
       "    }\n",
       "\n",
       "    .dataframe tbody tr th {\n",
       "        vertical-align: top;\n",
       "    }\n",
       "\n",
       "    .dataframe thead th {\n",
       "        text-align: right;\n",
       "    }\n",
       "</style>\n",
       "<table border=\"1\" class=\"dataframe\">\n",
       "  <thead>\n",
       "    <tr style=\"text-align: right;\">\n",
       "      <th></th>\n",
       "      <th>customer_id</th>\n",
       "      <th>gender</th>\n",
       "      <th>is_senior_citizen</th>\n",
       "      <th>partner</th>\n",
       "      <th>dependents</th>\n",
       "      <th>phone_service</th>\n",
       "      <th>internet_service</th>\n",
       "      <th>contract_type</th>\n",
       "      <th>payment_type</th>\n",
       "      <th>monthly_charges</th>\n",
       "      <th>...</th>\n",
       "      <th>total_charges_clean</th>\n",
       "      <th>monthly_charges_bins</th>\n",
       "      <th>payment_type_automatic</th>\n",
       "      <th>services</th>\n",
       "      <th>payment_type_electronic</th>\n",
       "      <th>has_internet_service</th>\n",
       "      <th>tenure</th>\n",
       "      <th>tenure_bins</th>\n",
       "      <th>phone_with_internet</th>\n",
       "      <th>churn_retain</th>\n",
       "    </tr>\n",
       "  </thead>\n",
       "  <tbody>\n",
       "    <tr>\n",
       "      <th>0</th>\n",
       "      <td>1371-DWPAZ</td>\n",
       "      <td>Female</td>\n",
       "      <td>0</td>\n",
       "      <td>Yes</td>\n",
       "      <td>Yes</td>\n",
       "      <td>0</td>\n",
       "      <td>1</td>\n",
       "      <td>2</td>\n",
       "      <td>Credit card (automatic)</td>\n",
       "      <td>56.05</td>\n",
       "      <td>...</td>\n",
       "      <td>0.0</td>\n",
       "      <td>40 - 60</td>\n",
       "      <td>automatic</td>\n",
       "      <td>Phone or Internet</td>\n",
       "      <td>electronic</td>\n",
       "      <td>Internet</td>\n",
       "      <td>0</td>\n",
       "      <td>0 - 1 year</td>\n",
       "      <td>No Phone</td>\n",
       "      <td>Retained</td>\n",
       "    </tr>\n",
       "    <tr>\n",
       "      <th>1</th>\n",
       "      <td>2520-SGTTA</td>\n",
       "      <td>Female</td>\n",
       "      <td>0</td>\n",
       "      <td>Yes</td>\n",
       "      <td>Yes</td>\n",
       "      <td>1</td>\n",
       "      <td>0</td>\n",
       "      <td>2</td>\n",
       "      <td>Mailed check</td>\n",
       "      <td>20.00</td>\n",
       "      <td>...</td>\n",
       "      <td>0.0</td>\n",
       "      <td>0 - 20</td>\n",
       "      <td>non-automatic</td>\n",
       "      <td>Phone or Internet</td>\n",
       "      <td>non-electronic</td>\n",
       "      <td>No Internet</td>\n",
       "      <td>0</td>\n",
       "      <td>0 - 1 year</td>\n",
       "      <td>Phone and No Internet</td>\n",
       "      <td>Retained</td>\n",
       "    </tr>\n",
       "    <tr>\n",
       "      <th>2</th>\n",
       "      <td>2775-SEFEE</td>\n",
       "      <td>Male</td>\n",
       "      <td>0</td>\n",
       "      <td>No</td>\n",
       "      <td>Yes</td>\n",
       "      <td>2</td>\n",
       "      <td>1</td>\n",
       "      <td>2</td>\n",
       "      <td>Bank transfer (automatic)</td>\n",
       "      <td>61.90</td>\n",
       "      <td>...</td>\n",
       "      <td>0.0</td>\n",
       "      <td>60 - 80</td>\n",
       "      <td>automatic</td>\n",
       "      <td>Phone and Internet</td>\n",
       "      <td>electronic</td>\n",
       "      <td>Internet</td>\n",
       "      <td>0</td>\n",
       "      <td>0 - 1 year</td>\n",
       "      <td>Phone and Internet</td>\n",
       "      <td>Retained</td>\n",
       "    </tr>\n",
       "    <tr>\n",
       "      <th>3</th>\n",
       "      <td>2923-ARZLG</td>\n",
       "      <td>Male</td>\n",
       "      <td>0</td>\n",
       "      <td>Yes</td>\n",
       "      <td>Yes</td>\n",
       "      <td>1</td>\n",
       "      <td>0</td>\n",
       "      <td>1</td>\n",
       "      <td>Mailed check</td>\n",
       "      <td>19.70</td>\n",
       "      <td>...</td>\n",
       "      <td>0.0</td>\n",
       "      <td>0 - 20</td>\n",
       "      <td>non-automatic</td>\n",
       "      <td>Phone or Internet</td>\n",
       "      <td>non-electronic</td>\n",
       "      <td>No Internet</td>\n",
       "      <td>0</td>\n",
       "      <td>0 - 1 year</td>\n",
       "      <td>Phone and No Internet</td>\n",
       "      <td>Retained</td>\n",
       "    </tr>\n",
       "    <tr>\n",
       "      <th>4</th>\n",
       "      <td>3115-CZMZD</td>\n",
       "      <td>Male</td>\n",
       "      <td>0</td>\n",
       "      <td>No</td>\n",
       "      <td>Yes</td>\n",
       "      <td>1</td>\n",
       "      <td>0</td>\n",
       "      <td>2</td>\n",
       "      <td>Mailed check</td>\n",
       "      <td>20.25</td>\n",
       "      <td>...</td>\n",
       "      <td>0.0</td>\n",
       "      <td>20 - 40</td>\n",
       "      <td>non-automatic</td>\n",
       "      <td>Phone or Internet</td>\n",
       "      <td>non-electronic</td>\n",
       "      <td>No Internet</td>\n",
       "      <td>0</td>\n",
       "      <td>0 - 1 year</td>\n",
       "      <td>Phone and No Internet</td>\n",
       "      <td>Retained</td>\n",
       "    </tr>\n",
       "  </tbody>\n",
       "</table>\n",
       "<p>5 rows × 22 columns</p>\n",
       "</div>"
      ],
      "text/plain": [
       "  customer_id  gender  is_senior_citizen partner dependents  phone_service  \\\n",
       "0  1371-DWPAZ  Female                  0     Yes        Yes              0   \n",
       "1  2520-SGTTA  Female                  0     Yes        Yes              1   \n",
       "2  2775-SEFEE    Male                  0      No        Yes              2   \n",
       "3  2923-ARZLG    Male                  0     Yes        Yes              1   \n",
       "4  3115-CZMZD    Male                  0      No        Yes              1   \n",
       "\n",
       "   internet_service  contract_type               payment_type  \\\n",
       "0                 1              2    Credit card (automatic)   \n",
       "1                 0              2               Mailed check   \n",
       "2                 1              2  Bank transfer (automatic)   \n",
       "3                 0              1               Mailed check   \n",
       "4                 0              2               Mailed check   \n",
       "\n",
       "   monthly_charges  ...  total_charges_clean monthly_charges_bins  \\\n",
       "0            56.05  ...                  0.0              40 - 60   \n",
       "1            20.00  ...                  0.0               0 - 20   \n",
       "2            61.90  ...                  0.0              60 - 80   \n",
       "3            19.70  ...                  0.0               0 - 20   \n",
       "4            20.25  ...                  0.0              20 - 40   \n",
       "\n",
       "   payment_type_automatic            services payment_type_electronic  \\\n",
       "0               automatic   Phone or Internet              electronic   \n",
       "1           non-automatic   Phone or Internet          non-electronic   \n",
       "2               automatic  Phone and Internet              electronic   \n",
       "3           non-automatic   Phone or Internet          non-electronic   \n",
       "4           non-automatic   Phone or Internet          non-electronic   \n",
       "\n",
       "  has_internet_service tenure tenure_bins    phone_with_internet churn_retain  \n",
       "0             Internet      0  0 - 1 year               No Phone     Retained  \n",
       "1          No Internet      0  0 - 1 year  Phone and No Internet     Retained  \n",
       "2             Internet      0  0 - 1 year     Phone and Internet     Retained  \n",
       "3          No Internet      0  0 - 1 year  Phone and No Internet     Retained  \n",
       "4          No Internet      0  0 - 1 year  Phone and No Internet     Retained  \n",
       "\n",
       "[5 rows x 22 columns]"
      ]
     },
     "execution_count": 9,
     "metadata": {},
     "output_type": "execute_result"
    }
   ],
   "source": [
    "telco_churn_url = 'https://docs.google.com/spreadsheets/d/1enPPia450yfCCPnve1Dj77mWCBzq59mmJPLAvzPnmQo/edit#gid=1023018493'\n",
    "telco_churn_url = telco_churn_url.replace('/edit', '/export?format=csv')\n",
    "\n",
    "df_google_sheets = pd.read_csv(telco_churn_url)\n",
    "df_google_sheets.head()"
   ]
  },
  {
   "cell_type": "markdown",
   "id": "cbabfc87-2065-4e39-a4cc-cfb49037bef7",
   "metadata": {},
   "source": [
    "- assign the first 100 rows to a new dataframe, df_google_sheets_sample"
   ]
  },
  {
   "cell_type": "code",
   "execution_count": 10,
   "id": "e8cf0969-0b37-450f-85a6-25df484ee251",
   "metadata": {},
   "outputs": [],
   "source": [
    "df_google_sheets_sample = df_google_sheets.head(100)"
   ]
  },
  {
   "cell_type": "markdown",
   "id": "e222149f-60ed-46aa-b790-5e7278840f70",
   "metadata": {},
   "source": [
    "- print the number of rows of your original dataframe"
   ]
  },
  {
   "cell_type": "code",
   "execution_count": 11,
   "id": "584862f0-d6d1-4da4-85e2-b9aad813ab47",
   "metadata": {},
   "outputs": [
    {
     "data": {
      "text/plain": [
       "7049"
      ]
     },
     "execution_count": 11,
     "metadata": {},
     "output_type": "execute_result"
    }
   ],
   "source": [
    "df_google_sheets.shape[0]"
   ]
  },
  {
   "cell_type": "markdown",
   "id": "2039db18-64c4-4f4d-8ef6-5054a1e1db8e",
   "metadata": {},
   "source": [
    "- print the first 5 column names"
   ]
  },
  {
   "cell_type": "code",
   "execution_count": 12,
   "id": "48b1f22a-d983-476f-8982-fcf8760903b4",
   "metadata": {},
   "outputs": [
    {
     "data": {
      "text/plain": [
       "Index(['customer_id', 'gender', 'is_senior_citizen', 'partner', 'dependents'], dtype='object')"
      ]
     },
     "execution_count": 12,
     "metadata": {},
     "output_type": "execute_result"
    }
   ],
   "source": [
    "df_google_sheets.columns[ : 5]"
   ]
  },
  {
   "cell_type": "markdown",
   "id": "5ae62ed0-d760-4158-b888-54364058e6fc",
   "metadata": {},
   "source": [
    "- print the column names that have a data type of object"
   ]
  },
  {
   "cell_type": "code",
   "execution_count": 13,
   "id": "320ea804-23e2-4ed8-bf19-4c9945b6f7dd",
   "metadata": {},
   "outputs": [
    {
     "data": {
      "text/plain": [
       "customer_id                object\n",
       "gender                     object\n",
       "partner                    object\n",
       "dependents                 object\n",
       "payment_type               object\n",
       "churn                      object\n",
       "monthly_charges_bins       object\n",
       "payment_type_automatic     object\n",
       "services                   object\n",
       "payment_type_electronic    object\n",
       "has_internet_service       object\n",
       "tenure_bins                object\n",
       "phone_with_internet        object\n",
       "churn_retain               object\n",
       "dtype: object"
      ]
     },
     "execution_count": 13,
     "metadata": {},
     "output_type": "execute_result"
    }
   ],
   "source": [
    "# list(df_google_sheets.select_dtypes('object'))\n",
    "# will also get only object types and put them in a list\n",
    "\n",
    "df_google_sheets.dtypes[df_google_sheets.dtypes == 'object']"
   ]
  },
  {
   "cell_type": "markdown",
   "id": "c329e82e-3811-4cac-bb7a-025e8efdcdef",
   "metadata": {},
   "source": [
    "- compute the range for each of the numeric variables."
   ]
  },
  {
   "cell_type": "code",
   "execution_count": 14,
   "id": "28b449ff-b549-4c6a-8025-edaf9db05cf5",
   "metadata": {},
   "outputs": [
    {
     "data": {
      "text/plain": [
       "is_senior_citizen         1.0\n",
       "phone_service             2.0\n",
       "internet_service          2.0\n",
       "contract_type             2.0\n",
       "monthly_charges         100.5\n",
       "total_charges          8666.0\n",
       "total_charges_clean    8684.8\n",
       "tenure                   79.0\n",
       "dtype: float64"
      ]
     },
     "execution_count": 14,
     "metadata": {},
     "output_type": "execute_result"
    }
   ],
   "source": [
    "# df_google_sheets.select_dtypes('number').apply(...)\n",
    "# Using select_dtypes\n",
    "\n",
    "numeric_columns = df_google_sheets.dtypes[df_google_sheets.dtypes != 'object']\n",
    "df_google_sheets[numeric_columns.index].apply(lambda column: column.max() - column.min())"
   ]
  },
  {
   "cell_type": "markdown",
   "id": "b0a541ce-6b26-4fad-9421-21bbc9fcea0f",
   "metadata": {},
   "source": [
    "## 6 Telco Excel\n",
    "\n",
    "Download your spreadsheet exercises google sheet as an excel file (File → Download → Microsoft Excel). Read the Table1_CustDetails worksheet into a dataframe named df_excel."
   ]
  },
  {
   "cell_type": "code",
   "execution_count": 15,
   "id": "2e6390e9-1fbd-4705-9d3d-fee81829be0a",
   "metadata": {},
   "outputs": [
    {
     "data": {
      "text/html": [
       "<div>\n",
       "<style scoped>\n",
       "    .dataframe tbody tr th:only-of-type {\n",
       "        vertical-align: middle;\n",
       "    }\n",
       "\n",
       "    .dataframe tbody tr th {\n",
       "        vertical-align: top;\n",
       "    }\n",
       "\n",
       "    .dataframe thead th {\n",
       "        text-align: right;\n",
       "    }\n",
       "</style>\n",
       "<table border=\"1\" class=\"dataframe\">\n",
       "  <thead>\n",
       "    <tr style=\"text-align: right;\">\n",
       "      <th></th>\n",
       "      <th>customer_id</th>\n",
       "      <th>gender</th>\n",
       "      <th>is_senior_citizen</th>\n",
       "      <th>partner</th>\n",
       "      <th>dependents</th>\n",
       "      <th>phone_service</th>\n",
       "      <th>internet_service</th>\n",
       "      <th>contract_type</th>\n",
       "      <th>payment_type</th>\n",
       "      <th>monthly_charges</th>\n",
       "      <th>...</th>\n",
       "      <th>total_charges_clean</th>\n",
       "      <th>monthly_charges_bins</th>\n",
       "      <th>payment_type_automatic</th>\n",
       "      <th>services</th>\n",
       "      <th>payment_type_electronic</th>\n",
       "      <th>has_internet_service</th>\n",
       "      <th>tenure</th>\n",
       "      <th>tenure_bins</th>\n",
       "      <th>phone_with_internet</th>\n",
       "      <th>churn_retain</th>\n",
       "    </tr>\n",
       "  </thead>\n",
       "  <tbody>\n",
       "    <tr>\n",
       "      <th>0</th>\n",
       "      <td>1371-DWPAZ</td>\n",
       "      <td>Female</td>\n",
       "      <td>0.0</td>\n",
       "      <td>Yes</td>\n",
       "      <td>Yes</td>\n",
       "      <td>0.0</td>\n",
       "      <td>1.0</td>\n",
       "      <td>2.0</td>\n",
       "      <td>Credit card (automatic)</td>\n",
       "      <td>56.05</td>\n",
       "      <td>...</td>\n",
       "      <td>0.0</td>\n",
       "      <td>40 - 60</td>\n",
       "      <td>automatic</td>\n",
       "      <td>Phone or Internet</td>\n",
       "      <td>electronic</td>\n",
       "      <td>Internet</td>\n",
       "      <td>0</td>\n",
       "      <td>0 - 1 year</td>\n",
       "      <td>No Phone</td>\n",
       "      <td>Retained</td>\n",
       "    </tr>\n",
       "    <tr>\n",
       "      <th>1</th>\n",
       "      <td>2520-SGTTA</td>\n",
       "      <td>Female</td>\n",
       "      <td>0.0</td>\n",
       "      <td>Yes</td>\n",
       "      <td>Yes</td>\n",
       "      <td>1.0</td>\n",
       "      <td>0.0</td>\n",
       "      <td>2.0</td>\n",
       "      <td>Mailed check</td>\n",
       "      <td>20.00</td>\n",
       "      <td>...</td>\n",
       "      <td>0.0</td>\n",
       "      <td>0 - 20</td>\n",
       "      <td>non-automatic</td>\n",
       "      <td>Phone or Internet</td>\n",
       "      <td>non-electronic</td>\n",
       "      <td>No Internet</td>\n",
       "      <td>0</td>\n",
       "      <td>0 - 1 year</td>\n",
       "      <td>Phone and No Internet</td>\n",
       "      <td>Retained</td>\n",
       "    </tr>\n",
       "    <tr>\n",
       "      <th>2</th>\n",
       "      <td>2775-SEFEE</td>\n",
       "      <td>Male</td>\n",
       "      <td>0.0</td>\n",
       "      <td>No</td>\n",
       "      <td>Yes</td>\n",
       "      <td>2.0</td>\n",
       "      <td>1.0</td>\n",
       "      <td>2.0</td>\n",
       "      <td>Bank transfer (automatic)</td>\n",
       "      <td>61.90</td>\n",
       "      <td>...</td>\n",
       "      <td>0.0</td>\n",
       "      <td>60 - 80</td>\n",
       "      <td>automatic</td>\n",
       "      <td>Phone and Internet</td>\n",
       "      <td>electronic</td>\n",
       "      <td>Internet</td>\n",
       "      <td>0</td>\n",
       "      <td>0 - 1 year</td>\n",
       "      <td>Phone and Internet</td>\n",
       "      <td>Retained</td>\n",
       "    </tr>\n",
       "    <tr>\n",
       "      <th>3</th>\n",
       "      <td>2923-ARZLG</td>\n",
       "      <td>Male</td>\n",
       "      <td>0.0</td>\n",
       "      <td>Yes</td>\n",
       "      <td>Yes</td>\n",
       "      <td>1.0</td>\n",
       "      <td>0.0</td>\n",
       "      <td>1.0</td>\n",
       "      <td>Mailed check</td>\n",
       "      <td>19.70</td>\n",
       "      <td>...</td>\n",
       "      <td>0.0</td>\n",
       "      <td>0 - 20</td>\n",
       "      <td>non-automatic</td>\n",
       "      <td>Phone or Internet</td>\n",
       "      <td>non-electronic</td>\n",
       "      <td>No Internet</td>\n",
       "      <td>0</td>\n",
       "      <td>0 - 1 year</td>\n",
       "      <td>Phone and No Internet</td>\n",
       "      <td>Retained</td>\n",
       "    </tr>\n",
       "    <tr>\n",
       "      <th>4</th>\n",
       "      <td>3115-CZMZD</td>\n",
       "      <td>Male</td>\n",
       "      <td>0.0</td>\n",
       "      <td>No</td>\n",
       "      <td>Yes</td>\n",
       "      <td>1.0</td>\n",
       "      <td>0.0</td>\n",
       "      <td>2.0</td>\n",
       "      <td>Mailed check</td>\n",
       "      <td>20.25</td>\n",
       "      <td>...</td>\n",
       "      <td>0.0</td>\n",
       "      <td>20 - 40</td>\n",
       "      <td>non-automatic</td>\n",
       "      <td>Phone or Internet</td>\n",
       "      <td>non-electronic</td>\n",
       "      <td>No Internet</td>\n",
       "      <td>0</td>\n",
       "      <td>0 - 1 year</td>\n",
       "      <td>Phone and No Internet</td>\n",
       "      <td>Retained</td>\n",
       "    </tr>\n",
       "  </tbody>\n",
       "</table>\n",
       "<p>5 rows × 22 columns</p>\n",
       "</div>"
      ],
      "text/plain": [
       "  customer_id  gender  is_senior_citizen partner dependents  phone_service  \\\n",
       "0  1371-DWPAZ  Female                0.0     Yes        Yes            0.0   \n",
       "1  2520-SGTTA  Female                0.0     Yes        Yes            1.0   \n",
       "2  2775-SEFEE    Male                0.0      No        Yes            2.0   \n",
       "3  2923-ARZLG    Male                0.0     Yes        Yes            1.0   \n",
       "4  3115-CZMZD    Male                0.0      No        Yes            1.0   \n",
       "\n",
       "   internet_service  contract_type               payment_type  \\\n",
       "0               1.0            2.0    Credit card (automatic)   \n",
       "1               0.0            2.0               Mailed check   \n",
       "2               1.0            2.0  Bank transfer (automatic)   \n",
       "3               0.0            1.0               Mailed check   \n",
       "4               0.0            2.0               Mailed check   \n",
       "\n",
       "   monthly_charges  ...  total_charges_clean monthly_charges_bins  \\\n",
       "0            56.05  ...                  0.0              40 - 60   \n",
       "1            20.00  ...                  0.0               0 - 20   \n",
       "2            61.90  ...                  0.0              60 - 80   \n",
       "3            19.70  ...                  0.0               0 - 20   \n",
       "4            20.25  ...                  0.0              20 - 40   \n",
       "\n",
       "   payment_type_automatic            services payment_type_electronic  \\\n",
       "0               automatic   Phone or Internet              electronic   \n",
       "1           non-automatic   Phone or Internet          non-electronic   \n",
       "2               automatic  Phone and Internet              electronic   \n",
       "3           non-automatic   Phone or Internet          non-electronic   \n",
       "4           non-automatic   Phone or Internet          non-electronic   \n",
       "\n",
       "  has_internet_service tenure tenure_bins    phone_with_internet churn_retain  \n",
       "0             Internet      0  0 - 1 year               No Phone     Retained  \n",
       "1          No Internet      0  0 - 1 year  Phone and No Internet     Retained  \n",
       "2             Internet      0  0 - 1 year     Phone and Internet     Retained  \n",
       "3          No Internet      0  0 - 1 year  Phone and No Internet     Retained  \n",
       "4          No Internet      0  0 - 1 year  Phone and No Internet     Retained  \n",
       "\n",
       "[5 rows x 22 columns]"
      ]
     },
     "execution_count": 15,
     "metadata": {},
     "output_type": "execute_result"
    }
   ],
   "source": [
    "df_excel = pd.read_excel('TelcoCustDetails.xlsx')\n",
    "df_excel.head()"
   ]
  },
  {
   "cell_type": "markdown",
   "id": "b2f45df6-b689-4fb4-86a3-d9db4717fd61",
   "metadata": {},
   "source": [
    "- assign the first 100 rows to a new dataframe, df_excel_sample"
   ]
  },
  {
   "cell_type": "code",
   "execution_count": 16,
   "id": "dea34ebe-9211-4dd9-83da-2d8b69f7f836",
   "metadata": {},
   "outputs": [],
   "source": [
    "df_excel_sample = df_excel.head(100)"
   ]
  },
  {
   "cell_type": "markdown",
   "id": "6c992d9e-acf7-4b0b-a977-4fba418e2679",
   "metadata": {},
   "source": [
    "- print the number of rows of your original dataframe"
   ]
  },
  {
   "cell_type": "code",
   "execution_count": 17,
   "id": "ccee1717-9495-4216-8664-ebfd7f13d808",
   "metadata": {},
   "outputs": [
    {
     "data": {
      "text/plain": [
       "7049"
      ]
     },
     "execution_count": 17,
     "metadata": {},
     "output_type": "execute_result"
    }
   ],
   "source": [
    "df_excel.shape[0]"
   ]
  },
  {
   "cell_type": "markdown",
   "id": "16463b03-256b-4e31-a754-341a059598e3",
   "metadata": {},
   "source": [
    "- print the first 5 column names"
   ]
  },
  {
   "cell_type": "code",
   "execution_count": 18,
   "id": "27186d78-0073-4cd4-915e-3b31ea9c34f1",
   "metadata": {},
   "outputs": [
    {
     "data": {
      "text/plain": [
       "Index(['customer_id', 'gender', 'is_senior_citizen', 'partner', 'dependents'], dtype='object')"
      ]
     },
     "execution_count": 18,
     "metadata": {},
     "output_type": "execute_result"
    }
   ],
   "source": [
    "df_excel.columns[ : 5]"
   ]
  },
  {
   "cell_type": "markdown",
   "id": "10f63b4f-cbe4-40d5-91c2-6c2fc6e28953",
   "metadata": {},
   "source": [
    "- print the column names that have a data type of object"
   ]
  },
  {
   "cell_type": "code",
   "execution_count": 19,
   "id": "11a52d15-8cad-4058-8efc-77ba48a1bb5e",
   "metadata": {},
   "outputs": [
    {
     "data": {
      "text/plain": [
       "customer_id                object\n",
       "gender                     object\n",
       "partner                    object\n",
       "dependents                 object\n",
       "payment_type               object\n",
       "churn                      object\n",
       "monthly_charges_bins       object\n",
       "payment_type_automatic     object\n",
       "services                   object\n",
       "payment_type_electronic    object\n",
       "has_internet_service       object\n",
       "tenure_bins                object\n",
       "phone_with_internet        object\n",
       "churn_retain               object\n",
       "dtype: object"
      ]
     },
     "execution_count": 19,
     "metadata": {},
     "output_type": "execute_result"
    }
   ],
   "source": [
    "df_excel.dtypes[df_excel.dtypes == 'object']"
   ]
  },
  {
   "cell_type": "markdown",
   "id": "25ea117c-5537-443a-9a7f-5f48e08d7cf9",
   "metadata": {},
   "source": [
    "- compute the range for each of the numeric variables."
   ]
  },
  {
   "cell_type": "code",
   "execution_count": 20,
   "id": "a8ef94a1-578a-4ef3-85f5-f207a6e8c52e",
   "metadata": {},
   "outputs": [
    {
     "data": {
      "text/plain": [
       "is_senior_citizen         1.0\n",
       "phone_service             2.0\n",
       "internet_service          2.0\n",
       "contract_type             2.0\n",
       "monthly_charges         100.5\n",
       "total_charges          8666.0\n",
       "total_charges_clean    8684.8\n",
       "tenure                   79.0\n",
       "dtype: float64"
      ]
     },
     "execution_count": 20,
     "metadata": {},
     "output_type": "execute_result"
    }
   ],
   "source": [
    "numeric_columns = df_google_sheets.dtypes[df_google_sheets.dtypes != 'object']\n",
    "df_google_sheets[numeric_columns.index].apply(lambda column: column.max() - column.min())"
   ]
  },
  {
   "cell_type": "markdown",
   "id": "43fb6fed-e6c9-4fdb-b4bc-3082950094de",
   "metadata": {},
   "source": [
    "## 7 Train Google Sheet\n",
    "\n",
    "Read the data from this google sheet into a dataframe, df_google.\n",
    "https://docs.google.com/spreadsheets/d/1Uhtml8KY19LILuZsrDtlsHHDC9wuDGUSe8LTEwvdI5g/edit#gid=341089357"
   ]
  },
  {
   "cell_type": "code",
   "execution_count": 21,
   "id": "5e084e5c-3ba1-4970-b248-bedc366268d8",
   "metadata": {},
   "outputs": [],
   "source": [
    "train_url = 'https://docs.google.com/spreadsheets/d/1Uhtml8KY19LILuZsrDtlsHHDC9wuDGUSe8LTEwvdI5g/edit#gid=341089357'\n",
    "train_url = train_url.replace('/edit', '/export?format=csv')\n",
    "\n",
    "df_google = pd.read_csv(train_url)"
   ]
  },
  {
   "cell_type": "markdown",
   "id": "588f07e7-0d37-4ab4-92fc-879a997bc634",
   "metadata": {},
   "source": [
    "- print the first 3 rows"
   ]
  },
  {
   "cell_type": "code",
   "execution_count": 22,
   "id": "3b3f2896-6725-45cd-962a-5fa1369e26c9",
   "metadata": {},
   "outputs": [
    {
     "data": {
      "text/html": [
       "<div>\n",
       "<style scoped>\n",
       "    .dataframe tbody tr th:only-of-type {\n",
       "        vertical-align: middle;\n",
       "    }\n",
       "\n",
       "    .dataframe tbody tr th {\n",
       "        vertical-align: top;\n",
       "    }\n",
       "\n",
       "    .dataframe thead th {\n",
       "        text-align: right;\n",
       "    }\n",
       "</style>\n",
       "<table border=\"1\" class=\"dataframe\">\n",
       "  <thead>\n",
       "    <tr style=\"text-align: right;\">\n",
       "      <th></th>\n",
       "      <th>PassengerId</th>\n",
       "      <th>Survived</th>\n",
       "      <th>Pclass</th>\n",
       "      <th>Name</th>\n",
       "      <th>Sex</th>\n",
       "      <th>Age</th>\n",
       "      <th>SibSp</th>\n",
       "      <th>Parch</th>\n",
       "      <th>Ticket</th>\n",
       "      <th>Fare</th>\n",
       "      <th>Cabin</th>\n",
       "      <th>Embarked</th>\n",
       "    </tr>\n",
       "  </thead>\n",
       "  <tbody>\n",
       "    <tr>\n",
       "      <th>0</th>\n",
       "      <td>1</td>\n",
       "      <td>0</td>\n",
       "      <td>3</td>\n",
       "      <td>Braund, Mr. Owen Harris</td>\n",
       "      <td>male</td>\n",
       "      <td>22.0</td>\n",
       "      <td>1</td>\n",
       "      <td>0</td>\n",
       "      <td>A/5 21171</td>\n",
       "      <td>7.2500</td>\n",
       "      <td>NaN</td>\n",
       "      <td>S</td>\n",
       "    </tr>\n",
       "    <tr>\n",
       "      <th>1</th>\n",
       "      <td>2</td>\n",
       "      <td>1</td>\n",
       "      <td>1</td>\n",
       "      <td>Cumings, Mrs. John Bradley (Florence Briggs Th...</td>\n",
       "      <td>female</td>\n",
       "      <td>38.0</td>\n",
       "      <td>1</td>\n",
       "      <td>0</td>\n",
       "      <td>PC 17599</td>\n",
       "      <td>71.2833</td>\n",
       "      <td>C85</td>\n",
       "      <td>C</td>\n",
       "    </tr>\n",
       "    <tr>\n",
       "      <th>2</th>\n",
       "      <td>3</td>\n",
       "      <td>1</td>\n",
       "      <td>3</td>\n",
       "      <td>Heikkinen, Miss. Laina</td>\n",
       "      <td>female</td>\n",
       "      <td>26.0</td>\n",
       "      <td>0</td>\n",
       "      <td>0</td>\n",
       "      <td>STON/O2. 3101282</td>\n",
       "      <td>7.9250</td>\n",
       "      <td>NaN</td>\n",
       "      <td>S</td>\n",
       "    </tr>\n",
       "  </tbody>\n",
       "</table>\n",
       "</div>"
      ],
      "text/plain": [
       "   PassengerId  Survived  Pclass  \\\n",
       "0            1         0       3   \n",
       "1            2         1       1   \n",
       "2            3         1       3   \n",
       "\n",
       "                                                Name     Sex   Age  SibSp  \\\n",
       "0                            Braund, Mr. Owen Harris    male  22.0      1   \n",
       "1  Cumings, Mrs. John Bradley (Florence Briggs Th...  female  38.0      1   \n",
       "2                             Heikkinen, Miss. Laina  female  26.0      0   \n",
       "\n",
       "   Parch            Ticket     Fare Cabin Embarked  \n",
       "0      0         A/5 21171   7.2500   NaN        S  \n",
       "1      0          PC 17599  71.2833   C85        C  \n",
       "2      0  STON/O2. 3101282   7.9250   NaN        S  "
      ]
     },
     "execution_count": 22,
     "metadata": {},
     "output_type": "execute_result"
    }
   ],
   "source": [
    "df_google.head(3)"
   ]
  },
  {
   "cell_type": "markdown",
   "id": "2e06eaa5-f148-40ae-b258-d1c7c51e3352",
   "metadata": {},
   "source": [
    "- print the number of rows and columns"
   ]
  },
  {
   "cell_type": "code",
   "execution_count": 23,
   "id": "f68b6a5b-b21f-45bb-bcc0-0fd977bd8d0e",
   "metadata": {},
   "outputs": [
    {
     "data": {
      "text/plain": [
       "(891, 12)"
      ]
     },
     "execution_count": 23,
     "metadata": {},
     "output_type": "execute_result"
    }
   ],
   "source": [
    "df_google.shape"
   ]
  },
  {
   "cell_type": "markdown",
   "id": "6585cb91-a665-4ab8-b786-e416cc38b9f8",
   "metadata": {},
   "source": [
    "- print the column names"
   ]
  },
  {
   "cell_type": "code",
   "execution_count": 24,
   "id": "7e331c9f-c476-4ba7-9280-efd978c31b1b",
   "metadata": {},
   "outputs": [
    {
     "data": {
      "text/plain": [
       "Index(['PassengerId', 'Survived', 'Pclass', 'Name', 'Sex', 'Age', 'SibSp',\n",
       "       'Parch', 'Ticket', 'Fare', 'Cabin', 'Embarked'],\n",
       "      dtype='object')"
      ]
     },
     "execution_count": 24,
     "metadata": {},
     "output_type": "execute_result"
    }
   ],
   "source": [
    "df_google.columns"
   ]
  },
  {
   "cell_type": "markdown",
   "id": "795d2ec0-ffc6-45fc-9254-4ef4b67833fe",
   "metadata": {},
   "source": [
    "- print the data type of each column"
   ]
  },
  {
   "cell_type": "code",
   "execution_count": 25,
   "id": "95236944-5cb1-415f-8f5a-16804b8e525c",
   "metadata": {},
   "outputs": [
    {
     "data": {
      "text/plain": [
       "PassengerId      int64\n",
       "Survived         int64\n",
       "Pclass           int64\n",
       "Name            object\n",
       "Sex             object\n",
       "Age            float64\n",
       "SibSp            int64\n",
       "Parch            int64\n",
       "Ticket          object\n",
       "Fare           float64\n",
       "Cabin           object\n",
       "Embarked        object\n",
       "dtype: object"
      ]
     },
     "execution_count": 25,
     "metadata": {},
     "output_type": "execute_result"
    }
   ],
   "source": [
    "df_google.dtypes"
   ]
  },
  {
   "cell_type": "markdown",
   "id": "5bb0f85c-8791-4820-b224-178224eb228e",
   "metadata": {},
   "source": [
    "- print the summary statistics for each of the numeric variables"
   ]
  },
  {
   "cell_type": "code",
   "execution_count": 26,
   "id": "19b6e90d-b418-4ec1-a628-6ad611e1c1d2",
   "metadata": {},
   "outputs": [
    {
     "data": {
      "text/html": [
       "<div>\n",
       "<style scoped>\n",
       "    .dataframe tbody tr th:only-of-type {\n",
       "        vertical-align: middle;\n",
       "    }\n",
       "\n",
       "    .dataframe tbody tr th {\n",
       "        vertical-align: top;\n",
       "    }\n",
       "\n",
       "    .dataframe thead th {\n",
       "        text-align: right;\n",
       "    }\n",
       "</style>\n",
       "<table border=\"1\" class=\"dataframe\">\n",
       "  <thead>\n",
       "    <tr style=\"text-align: right;\">\n",
       "      <th></th>\n",
       "      <th>PassengerId</th>\n",
       "      <th>Survived</th>\n",
       "      <th>Pclass</th>\n",
       "      <th>Age</th>\n",
       "      <th>SibSp</th>\n",
       "      <th>Parch</th>\n",
       "      <th>Fare</th>\n",
       "    </tr>\n",
       "  </thead>\n",
       "  <tbody>\n",
       "    <tr>\n",
       "      <th>count</th>\n",
       "      <td>891.000000</td>\n",
       "      <td>891.000000</td>\n",
       "      <td>891.000000</td>\n",
       "      <td>714.000000</td>\n",
       "      <td>891.000000</td>\n",
       "      <td>891.000000</td>\n",
       "      <td>891.000000</td>\n",
       "    </tr>\n",
       "    <tr>\n",
       "      <th>mean</th>\n",
       "      <td>446.000000</td>\n",
       "      <td>0.383838</td>\n",
       "      <td>2.308642</td>\n",
       "      <td>29.699118</td>\n",
       "      <td>0.523008</td>\n",
       "      <td>0.381594</td>\n",
       "      <td>32.204208</td>\n",
       "    </tr>\n",
       "    <tr>\n",
       "      <th>std</th>\n",
       "      <td>257.353842</td>\n",
       "      <td>0.486592</td>\n",
       "      <td>0.836071</td>\n",
       "      <td>14.526497</td>\n",
       "      <td>1.102743</td>\n",
       "      <td>0.806057</td>\n",
       "      <td>49.693429</td>\n",
       "    </tr>\n",
       "    <tr>\n",
       "      <th>min</th>\n",
       "      <td>1.000000</td>\n",
       "      <td>0.000000</td>\n",
       "      <td>1.000000</td>\n",
       "      <td>0.420000</td>\n",
       "      <td>0.000000</td>\n",
       "      <td>0.000000</td>\n",
       "      <td>0.000000</td>\n",
       "    </tr>\n",
       "    <tr>\n",
       "      <th>25%</th>\n",
       "      <td>223.500000</td>\n",
       "      <td>0.000000</td>\n",
       "      <td>2.000000</td>\n",
       "      <td>20.125000</td>\n",
       "      <td>0.000000</td>\n",
       "      <td>0.000000</td>\n",
       "      <td>7.910400</td>\n",
       "    </tr>\n",
       "    <tr>\n",
       "      <th>50%</th>\n",
       "      <td>446.000000</td>\n",
       "      <td>0.000000</td>\n",
       "      <td>3.000000</td>\n",
       "      <td>28.000000</td>\n",
       "      <td>0.000000</td>\n",
       "      <td>0.000000</td>\n",
       "      <td>14.454200</td>\n",
       "    </tr>\n",
       "    <tr>\n",
       "      <th>75%</th>\n",
       "      <td>668.500000</td>\n",
       "      <td>1.000000</td>\n",
       "      <td>3.000000</td>\n",
       "      <td>38.000000</td>\n",
       "      <td>1.000000</td>\n",
       "      <td>0.000000</td>\n",
       "      <td>31.000000</td>\n",
       "    </tr>\n",
       "    <tr>\n",
       "      <th>max</th>\n",
       "      <td>891.000000</td>\n",
       "      <td>1.000000</td>\n",
       "      <td>3.000000</td>\n",
       "      <td>80.000000</td>\n",
       "      <td>8.000000</td>\n",
       "      <td>6.000000</td>\n",
       "      <td>512.329200</td>\n",
       "    </tr>\n",
       "  </tbody>\n",
       "</table>\n",
       "</div>"
      ],
      "text/plain": [
       "       PassengerId    Survived      Pclass         Age       SibSp  \\\n",
       "count   891.000000  891.000000  891.000000  714.000000  891.000000   \n",
       "mean    446.000000    0.383838    2.308642   29.699118    0.523008   \n",
       "std     257.353842    0.486592    0.836071   14.526497    1.102743   \n",
       "min       1.000000    0.000000    1.000000    0.420000    0.000000   \n",
       "25%     223.500000    0.000000    2.000000   20.125000    0.000000   \n",
       "50%     446.000000    0.000000    3.000000   28.000000    0.000000   \n",
       "75%     668.500000    1.000000    3.000000   38.000000    1.000000   \n",
       "max     891.000000    1.000000    3.000000   80.000000    8.000000   \n",
       "\n",
       "            Parch        Fare  \n",
       "count  891.000000  891.000000  \n",
       "mean     0.381594   32.204208  \n",
       "std      0.806057   49.693429  \n",
       "min      0.000000    0.000000  \n",
       "25%      0.000000    7.910400  \n",
       "50%      0.000000   14.454200  \n",
       "75%      0.000000   31.000000  \n",
       "max      6.000000  512.329200  "
      ]
     },
     "execution_count": 26,
     "metadata": {},
     "output_type": "execute_result"
    }
   ],
   "source": [
    "df_google.describe()"
   ]
  },
  {
   "cell_type": "markdown",
   "id": "e9e1ac34-a105-44ee-bb4a-21b4152745d5",
   "metadata": {},
   "source": [
    "- print the unique values for each of your categorical variables"
   ]
  },
  {
   "cell_type": "code",
   "execution_count": 27,
   "id": "a008d4d3-887e-4125-8b65-5ed31024d1ef",
   "metadata": {
    "tags": []
   },
   "outputs": [
    {
     "data": {
      "text/plain": [
       "Survived                   [0, 1]\n",
       "Pclass                  [3, 1, 2]\n",
       "SibSp       [1, 0, 3, 4, 2, 5, 8]\n",
       "Parch       [0, 1, 2, 5, 3, 4, 6]\n",
       "Sex                [male, female]\n",
       "Embarked           [S, C, Q, nan]\n",
       "dtype: object"
      ]
     },
     "execution_count": 27,
     "metadata": {},
     "output_type": "execute_result"
    }
   ],
   "source": [
    "categorical_columns = ['Survived', 'Pclass', 'SibSp', 'Parch', 'Sex', 'Embarked']\n",
    "df_google[categorical_columns].apply(lambda column: column.unique())"
   ]
  },
  {
   "cell_type": "markdown",
   "id": "6f504063-9105-432a-a64d-5196010263dc",
   "metadata": {},
   "source": [
    "# Data Preparation Exercises"
   ]
  },
  {
   "cell_type": "markdown",
   "id": "befa95ea-9232-476d-89d3-b2a344b57177",
   "metadata": {},
   "source": [
    "## Iris Data:"
   ]
  },
  {
   "cell_type": "markdown",
   "id": "289c2f8c-c642-4e85-88e5-3385aa5d1e8d",
   "metadata": {},
   "source": [
    "- Use the function defined in acquire.py to load the iris data."
   ]
  },
  {
   "cell_type": "code",
   "execution_count": 28,
   "id": "7061f47c-01a2-4327-9d7a-14e3ede374e4",
   "metadata": {},
   "outputs": [
    {
     "data": {
      "text/html": [
       "<div>\n",
       "<style scoped>\n",
       "    .dataframe tbody tr th:only-of-type {\n",
       "        vertical-align: middle;\n",
       "    }\n",
       "\n",
       "    .dataframe tbody tr th {\n",
       "        vertical-align: top;\n",
       "    }\n",
       "\n",
       "    .dataframe thead th {\n",
       "        text-align: right;\n",
       "    }\n",
       "</style>\n",
       "<table border=\"1\" class=\"dataframe\">\n",
       "  <thead>\n",
       "    <tr style=\"text-align: right;\">\n",
       "      <th></th>\n",
       "      <th>species_id</th>\n",
       "      <th>measurement_id</th>\n",
       "      <th>sepal_length</th>\n",
       "      <th>sepal_width</th>\n",
       "      <th>petal_length</th>\n",
       "      <th>petal_width</th>\n",
       "      <th>species_name</th>\n",
       "    </tr>\n",
       "  </thead>\n",
       "  <tbody>\n",
       "    <tr>\n",
       "      <th>0</th>\n",
       "      <td>1</td>\n",
       "      <td>1</td>\n",
       "      <td>5.1</td>\n",
       "      <td>3.5</td>\n",
       "      <td>1.4</td>\n",
       "      <td>0.2</td>\n",
       "      <td>setosa</td>\n",
       "    </tr>\n",
       "    <tr>\n",
       "      <th>1</th>\n",
       "      <td>1</td>\n",
       "      <td>2</td>\n",
       "      <td>4.9</td>\n",
       "      <td>3.0</td>\n",
       "      <td>1.4</td>\n",
       "      <td>0.2</td>\n",
       "      <td>setosa</td>\n",
       "    </tr>\n",
       "    <tr>\n",
       "      <th>2</th>\n",
       "      <td>1</td>\n",
       "      <td>3</td>\n",
       "      <td>4.7</td>\n",
       "      <td>3.2</td>\n",
       "      <td>1.3</td>\n",
       "      <td>0.2</td>\n",
       "      <td>setosa</td>\n",
       "    </tr>\n",
       "    <tr>\n",
       "      <th>3</th>\n",
       "      <td>1</td>\n",
       "      <td>4</td>\n",
       "      <td>4.6</td>\n",
       "      <td>3.1</td>\n",
       "      <td>1.5</td>\n",
       "      <td>0.2</td>\n",
       "      <td>setosa</td>\n",
       "    </tr>\n",
       "    <tr>\n",
       "      <th>4</th>\n",
       "      <td>1</td>\n",
       "      <td>5</td>\n",
       "      <td>5.0</td>\n",
       "      <td>3.6</td>\n",
       "      <td>1.4</td>\n",
       "      <td>0.2</td>\n",
       "      <td>setosa</td>\n",
       "    </tr>\n",
       "  </tbody>\n",
       "</table>\n",
       "</div>"
      ],
      "text/plain": [
       "   species_id  measurement_id  sepal_length  sepal_width  petal_length  \\\n",
       "0           1               1           5.1          3.5           1.4   \n",
       "1           1               2           4.9          3.0           1.4   \n",
       "2           1               3           4.7          3.2           1.3   \n",
       "3           1               4           4.6          3.1           1.5   \n",
       "4           1               5           5.0          3.6           1.4   \n",
       "\n",
       "   petal_width species_name  \n",
       "0          0.2       setosa  \n",
       "1          0.2       setosa  \n",
       "2          0.2       setosa  \n",
       "3          0.2       setosa  \n",
       "4          0.2       setosa  "
      ]
     },
     "execution_count": 28,
     "metadata": {},
     "output_type": "execute_result"
    }
   ],
   "source": [
    "iris = get_iris_data()\n",
    "iris.head()"
   ]
  },
  {
   "cell_type": "code",
   "execution_count": 29,
   "id": "1d49ee76-4726-4f66-9aaf-decf0476989b",
   "metadata": {},
   "outputs": [
    {
     "data": {
      "text/plain": [
       "species_id        0\n",
       "measurement_id    0\n",
       "sepal_length      0\n",
       "sepal_width       0\n",
       "petal_length      0\n",
       "petal_width       0\n",
       "species_name      0\n",
       "dtype: int64"
      ]
     },
     "execution_count": 29,
     "metadata": {},
     "output_type": "execute_result"
    }
   ],
   "source": [
    "# Checking for null values\n",
    "\n",
    "iris.isnull().sum()"
   ]
  },
  {
   "cell_type": "markdown",
   "id": "c83918b9-4296-4c9b-ba50-b457cb4824a3",
   "metadata": {},
   "source": [
    "- Drop the species_id and measurement_id columns."
   ]
  },
  {
   "cell_type": "code",
   "execution_count": 30,
   "id": "53238256-8b30-4a30-90c9-3d9033a4cf8c",
   "metadata": {},
   "outputs": [
    {
     "data": {
      "text/html": [
       "<div>\n",
       "<style scoped>\n",
       "    .dataframe tbody tr th:only-of-type {\n",
       "        vertical-align: middle;\n",
       "    }\n",
       "\n",
       "    .dataframe tbody tr th {\n",
       "        vertical-align: top;\n",
       "    }\n",
       "\n",
       "    .dataframe thead th {\n",
       "        text-align: right;\n",
       "    }\n",
       "</style>\n",
       "<table border=\"1\" class=\"dataframe\">\n",
       "  <thead>\n",
       "    <tr style=\"text-align: right;\">\n",
       "      <th></th>\n",
       "      <th>sepal_length</th>\n",
       "      <th>sepal_width</th>\n",
       "      <th>petal_length</th>\n",
       "      <th>petal_width</th>\n",
       "      <th>species_name</th>\n",
       "    </tr>\n",
       "  </thead>\n",
       "  <tbody>\n",
       "    <tr>\n",
       "      <th>0</th>\n",
       "      <td>5.1</td>\n",
       "      <td>3.5</td>\n",
       "      <td>1.4</td>\n",
       "      <td>0.2</td>\n",
       "      <td>setosa</td>\n",
       "    </tr>\n",
       "    <tr>\n",
       "      <th>1</th>\n",
       "      <td>4.9</td>\n",
       "      <td>3.0</td>\n",
       "      <td>1.4</td>\n",
       "      <td>0.2</td>\n",
       "      <td>setosa</td>\n",
       "    </tr>\n",
       "    <tr>\n",
       "      <th>2</th>\n",
       "      <td>4.7</td>\n",
       "      <td>3.2</td>\n",
       "      <td>1.3</td>\n",
       "      <td>0.2</td>\n",
       "      <td>setosa</td>\n",
       "    </tr>\n",
       "    <tr>\n",
       "      <th>3</th>\n",
       "      <td>4.6</td>\n",
       "      <td>3.1</td>\n",
       "      <td>1.5</td>\n",
       "      <td>0.2</td>\n",
       "      <td>setosa</td>\n",
       "    </tr>\n",
       "    <tr>\n",
       "      <th>4</th>\n",
       "      <td>5.0</td>\n",
       "      <td>3.6</td>\n",
       "      <td>1.4</td>\n",
       "      <td>0.2</td>\n",
       "      <td>setosa</td>\n",
       "    </tr>\n",
       "  </tbody>\n",
       "</table>\n",
       "</div>"
      ],
      "text/plain": [
       "   sepal_length  sepal_width  petal_length  petal_width species_name\n",
       "0           5.1          3.5           1.4          0.2       setosa\n",
       "1           4.9          3.0           1.4          0.2       setosa\n",
       "2           4.7          3.2           1.3          0.2       setosa\n",
       "3           4.6          3.1           1.5          0.2       setosa\n",
       "4           5.0          3.6           1.4          0.2       setosa"
      ]
     },
     "execution_count": 30,
     "metadata": {},
     "output_type": "execute_result"
    }
   ],
   "source": [
    "iris = iris.drop(columns = ['species_id', 'measurement_id'])\n",
    "iris.head()"
   ]
  },
  {
   "cell_type": "markdown",
   "id": "3c6504c9-ca38-4951-b59a-7de4e2eb5fb2",
   "metadata": {},
   "source": [
    "- Rename the species_name column to just species."
   ]
  },
  {
   "cell_type": "code",
   "execution_count": 31,
   "id": "85949d21-de59-4275-935b-97df494860e9",
   "metadata": {},
   "outputs": [
    {
     "data": {
      "text/html": [
       "<div>\n",
       "<style scoped>\n",
       "    .dataframe tbody tr th:only-of-type {\n",
       "        vertical-align: middle;\n",
       "    }\n",
       "\n",
       "    .dataframe tbody tr th {\n",
       "        vertical-align: top;\n",
       "    }\n",
       "\n",
       "    .dataframe thead th {\n",
       "        text-align: right;\n",
       "    }\n",
       "</style>\n",
       "<table border=\"1\" class=\"dataframe\">\n",
       "  <thead>\n",
       "    <tr style=\"text-align: right;\">\n",
       "      <th></th>\n",
       "      <th>sepal_length</th>\n",
       "      <th>sepal_width</th>\n",
       "      <th>petal_length</th>\n",
       "      <th>petal_width</th>\n",
       "      <th>species</th>\n",
       "    </tr>\n",
       "  </thead>\n",
       "  <tbody>\n",
       "    <tr>\n",
       "      <th>0</th>\n",
       "      <td>5.1</td>\n",
       "      <td>3.5</td>\n",
       "      <td>1.4</td>\n",
       "      <td>0.2</td>\n",
       "      <td>setosa</td>\n",
       "    </tr>\n",
       "    <tr>\n",
       "      <th>1</th>\n",
       "      <td>4.9</td>\n",
       "      <td>3.0</td>\n",
       "      <td>1.4</td>\n",
       "      <td>0.2</td>\n",
       "      <td>setosa</td>\n",
       "    </tr>\n",
       "    <tr>\n",
       "      <th>2</th>\n",
       "      <td>4.7</td>\n",
       "      <td>3.2</td>\n",
       "      <td>1.3</td>\n",
       "      <td>0.2</td>\n",
       "      <td>setosa</td>\n",
       "    </tr>\n",
       "    <tr>\n",
       "      <th>3</th>\n",
       "      <td>4.6</td>\n",
       "      <td>3.1</td>\n",
       "      <td>1.5</td>\n",
       "      <td>0.2</td>\n",
       "      <td>setosa</td>\n",
       "    </tr>\n",
       "    <tr>\n",
       "      <th>4</th>\n",
       "      <td>5.0</td>\n",
       "      <td>3.6</td>\n",
       "      <td>1.4</td>\n",
       "      <td>0.2</td>\n",
       "      <td>setosa</td>\n",
       "    </tr>\n",
       "  </tbody>\n",
       "</table>\n",
       "</div>"
      ],
      "text/plain": [
       "   sepal_length  sepal_width  petal_length  petal_width species\n",
       "0           5.1          3.5           1.4          0.2  setosa\n",
       "1           4.9          3.0           1.4          0.2  setosa\n",
       "2           4.7          3.2           1.3          0.2  setosa\n",
       "3           4.6          3.1           1.5          0.2  setosa\n",
       "4           5.0          3.6           1.4          0.2  setosa"
      ]
     },
     "execution_count": 31,
     "metadata": {},
     "output_type": "execute_result"
    }
   ],
   "source": [
    "iris = iris.rename(columns = {'species_name' : 'species'})\n",
    "iris.head()"
   ]
  },
  {
   "cell_type": "markdown",
   "id": "7c9b0ccb-2959-4818-8e82-e8d9c92fd570",
   "metadata": {},
   "source": [
    "- Create dummy variables of the species name and concatenate onto the iris dataframe. (This is for practice, we don't always have to encode the target, but if we used species as a feature, we would need to encode it)."
   ]
  },
  {
   "cell_type": "code",
   "execution_count": 32,
   "id": "29cae795-acf7-4528-b803-fd2650b2ed91",
   "metadata": {},
   "outputs": [
    {
     "data": {
      "text/html": [
       "<div>\n",
       "<style scoped>\n",
       "    .dataframe tbody tr th:only-of-type {\n",
       "        vertical-align: middle;\n",
       "    }\n",
       "\n",
       "    .dataframe tbody tr th {\n",
       "        vertical-align: top;\n",
       "    }\n",
       "\n",
       "    .dataframe thead th {\n",
       "        text-align: right;\n",
       "    }\n",
       "</style>\n",
       "<table border=\"1\" class=\"dataframe\">\n",
       "  <thead>\n",
       "    <tr style=\"text-align: right;\">\n",
       "      <th></th>\n",
       "      <th>species_versicolor</th>\n",
       "      <th>species_virginica</th>\n",
       "    </tr>\n",
       "  </thead>\n",
       "  <tbody>\n",
       "    <tr>\n",
       "      <th>0</th>\n",
       "      <td>0</td>\n",
       "      <td>0</td>\n",
       "    </tr>\n",
       "    <tr>\n",
       "      <th>1</th>\n",
       "      <td>0</td>\n",
       "      <td>0</td>\n",
       "    </tr>\n",
       "    <tr>\n",
       "      <th>2</th>\n",
       "      <td>0</td>\n",
       "      <td>0</td>\n",
       "    </tr>\n",
       "    <tr>\n",
       "      <th>3</th>\n",
       "      <td>0</td>\n",
       "      <td>0</td>\n",
       "    </tr>\n",
       "    <tr>\n",
       "      <th>4</th>\n",
       "      <td>0</td>\n",
       "      <td>0</td>\n",
       "    </tr>\n",
       "  </tbody>\n",
       "</table>\n",
       "</div>"
      ],
      "text/plain": [
       "   species_versicolor  species_virginica\n",
       "0                   0                  0\n",
       "1                   0                  0\n",
       "2                   0                  0\n",
       "3                   0                  0\n",
       "4                   0                  0"
      ]
     },
     "execution_count": 32,
     "metadata": {},
     "output_type": "execute_result"
    }
   ],
   "source": [
    "dummy_df = pd.get_dummies(iris[['species']], dummy_na = False, drop_first = ['True'])\n",
    "dummy_df.head()"
   ]
  },
  {
   "cell_type": "code",
   "execution_count": 33,
   "id": "d453eee7-aaae-4252-86f3-d5c9ed13e6d0",
   "metadata": {},
   "outputs": [
    {
     "data": {
      "text/html": [
       "<div>\n",
       "<style scoped>\n",
       "    .dataframe tbody tr th:only-of-type {\n",
       "        vertical-align: middle;\n",
       "    }\n",
       "\n",
       "    .dataframe tbody tr th {\n",
       "        vertical-align: top;\n",
       "    }\n",
       "\n",
       "    .dataframe thead th {\n",
       "        text-align: right;\n",
       "    }\n",
       "</style>\n",
       "<table border=\"1\" class=\"dataframe\">\n",
       "  <thead>\n",
       "    <tr style=\"text-align: right;\">\n",
       "      <th></th>\n",
       "      <th>sepal_length</th>\n",
       "      <th>sepal_width</th>\n",
       "      <th>petal_length</th>\n",
       "      <th>petal_width</th>\n",
       "      <th>species</th>\n",
       "      <th>species_versicolor</th>\n",
       "      <th>species_virginica</th>\n",
       "    </tr>\n",
       "  </thead>\n",
       "  <tbody>\n",
       "    <tr>\n",
       "      <th>0</th>\n",
       "      <td>5.1</td>\n",
       "      <td>3.5</td>\n",
       "      <td>1.4</td>\n",
       "      <td>0.2</td>\n",
       "      <td>setosa</td>\n",
       "      <td>0</td>\n",
       "      <td>0</td>\n",
       "    </tr>\n",
       "    <tr>\n",
       "      <th>1</th>\n",
       "      <td>4.9</td>\n",
       "      <td>3.0</td>\n",
       "      <td>1.4</td>\n",
       "      <td>0.2</td>\n",
       "      <td>setosa</td>\n",
       "      <td>0</td>\n",
       "      <td>0</td>\n",
       "    </tr>\n",
       "    <tr>\n",
       "      <th>2</th>\n",
       "      <td>4.7</td>\n",
       "      <td>3.2</td>\n",
       "      <td>1.3</td>\n",
       "      <td>0.2</td>\n",
       "      <td>setosa</td>\n",
       "      <td>0</td>\n",
       "      <td>0</td>\n",
       "    </tr>\n",
       "    <tr>\n",
       "      <th>3</th>\n",
       "      <td>4.6</td>\n",
       "      <td>3.1</td>\n",
       "      <td>1.5</td>\n",
       "      <td>0.2</td>\n",
       "      <td>setosa</td>\n",
       "      <td>0</td>\n",
       "      <td>0</td>\n",
       "    </tr>\n",
       "    <tr>\n",
       "      <th>4</th>\n",
       "      <td>5.0</td>\n",
       "      <td>3.6</td>\n",
       "      <td>1.4</td>\n",
       "      <td>0.2</td>\n",
       "      <td>setosa</td>\n",
       "      <td>0</td>\n",
       "      <td>0</td>\n",
       "    </tr>\n",
       "  </tbody>\n",
       "</table>\n",
       "</div>"
      ],
      "text/plain": [
       "   sepal_length  sepal_width  petal_length  petal_width species  \\\n",
       "0           5.1          3.5           1.4          0.2  setosa   \n",
       "1           4.9          3.0           1.4          0.2  setosa   \n",
       "2           4.7          3.2           1.3          0.2  setosa   \n",
       "3           4.6          3.1           1.5          0.2  setosa   \n",
       "4           5.0          3.6           1.4          0.2  setosa   \n",
       "\n",
       "   species_versicolor  species_virginica  \n",
       "0                   0                  0  \n",
       "1                   0                  0  \n",
       "2                   0                  0  \n",
       "3                   0                  0  \n",
       "4                   0                  0  "
      ]
     },
     "execution_count": 33,
     "metadata": {},
     "output_type": "execute_result"
    }
   ],
   "source": [
    "iris = pd.concat([iris, dummy_df], axis = 1)\n",
    "iris.head()"
   ]
  },
  {
   "cell_type": "markdown",
   "id": "1ab0bd33-ae2e-4042-92b4-0f3cdd7da0fb",
   "metadata": {},
   "source": [
    "- Create a function named prep_iris that accepts the untransformed iris data, and returns the data with the transformations above applied."
   ]
  },
  {
   "cell_type": "code",
   "execution_count": 34,
   "id": "1afc2732-585a-4fe9-936a-ac16191314c5",
   "metadata": {},
   "outputs": [],
   "source": [
    "def prep_iris_data(df):\n",
    "    df = df.drop(columns = ['species_id', 'measurement_id'])\n",
    "    df = df.rename(columns = {'species_name' : 'species'})\n",
    "    dummy_df = pd.get_dummies(df[['species']], dummy_na = False, drop_first = ['True'])\n",
    "    df = pd.concat([df, dummy_df], axis = 1)\n",
    "    return df"
   ]
  },
  {
   "cell_type": "code",
   "execution_count": 35,
   "id": "7d323e8c-1b43-4f6b-9c4f-90415af942a1",
   "metadata": {},
   "outputs": [
    {
     "data": {
      "text/html": [
       "<div>\n",
       "<style scoped>\n",
       "    .dataframe tbody tr th:only-of-type {\n",
       "        vertical-align: middle;\n",
       "    }\n",
       "\n",
       "    .dataframe tbody tr th {\n",
       "        vertical-align: top;\n",
       "    }\n",
       "\n",
       "    .dataframe thead th {\n",
       "        text-align: right;\n",
       "    }\n",
       "</style>\n",
       "<table border=\"1\" class=\"dataframe\">\n",
       "  <thead>\n",
       "    <tr style=\"text-align: right;\">\n",
       "      <th></th>\n",
       "      <th>sepal_length</th>\n",
       "      <th>sepal_width</th>\n",
       "      <th>petal_length</th>\n",
       "      <th>petal_width</th>\n",
       "      <th>species</th>\n",
       "      <th>species_versicolor</th>\n",
       "      <th>species_virginica</th>\n",
       "    </tr>\n",
       "  </thead>\n",
       "  <tbody>\n",
       "    <tr>\n",
       "      <th>0</th>\n",
       "      <td>5.1</td>\n",
       "      <td>3.5</td>\n",
       "      <td>1.4</td>\n",
       "      <td>0.2</td>\n",
       "      <td>setosa</td>\n",
       "      <td>0</td>\n",
       "      <td>0</td>\n",
       "    </tr>\n",
       "    <tr>\n",
       "      <th>1</th>\n",
       "      <td>4.9</td>\n",
       "      <td>3.0</td>\n",
       "      <td>1.4</td>\n",
       "      <td>0.2</td>\n",
       "      <td>setosa</td>\n",
       "      <td>0</td>\n",
       "      <td>0</td>\n",
       "    </tr>\n",
       "    <tr>\n",
       "      <th>2</th>\n",
       "      <td>4.7</td>\n",
       "      <td>3.2</td>\n",
       "      <td>1.3</td>\n",
       "      <td>0.2</td>\n",
       "      <td>setosa</td>\n",
       "      <td>0</td>\n",
       "      <td>0</td>\n",
       "    </tr>\n",
       "    <tr>\n",
       "      <th>3</th>\n",
       "      <td>4.6</td>\n",
       "      <td>3.1</td>\n",
       "      <td>1.5</td>\n",
       "      <td>0.2</td>\n",
       "      <td>setosa</td>\n",
       "      <td>0</td>\n",
       "      <td>0</td>\n",
       "    </tr>\n",
       "    <tr>\n",
       "      <th>4</th>\n",
       "      <td>5.0</td>\n",
       "      <td>3.6</td>\n",
       "      <td>1.4</td>\n",
       "      <td>0.2</td>\n",
       "      <td>setosa</td>\n",
       "      <td>0</td>\n",
       "      <td>0</td>\n",
       "    </tr>\n",
       "  </tbody>\n",
       "</table>\n",
       "</div>"
      ],
      "text/plain": [
       "   sepal_length  sepal_width  petal_length  petal_width species  \\\n",
       "0           5.1          3.5           1.4          0.2  setosa   \n",
       "1           4.9          3.0           1.4          0.2  setosa   \n",
       "2           4.7          3.2           1.3          0.2  setosa   \n",
       "3           4.6          3.1           1.5          0.2  setosa   \n",
       "4           5.0          3.6           1.4          0.2  setosa   \n",
       "\n",
       "   species_versicolor  species_virginica  \n",
       "0                   0                  0  \n",
       "1                   0                  0  \n",
       "2                   0                  0  \n",
       "3                   0                  0  \n",
       "4                   0                  0  "
      ]
     },
     "execution_count": 35,
     "metadata": {},
     "output_type": "execute_result"
    }
   ],
   "source": [
    "prep_iris_data(get_iris_data()).head()"
   ]
  },
  {
   "cell_type": "markdown",
   "id": "5ebaea16-e931-4c71-bfeb-8e8db647df5c",
   "metadata": {},
   "source": [
    "## Titanic dataset"
   ]
  },
  {
   "cell_type": "markdown",
   "id": "e2b8ecdd-dbf4-4339-b030-be11314e00db",
   "metadata": {},
   "source": [
    "- Use the function defined in acquire.py to load the Titanic data."
   ]
  },
  {
   "cell_type": "code",
   "execution_count": 36,
   "id": "05c38332-8bfd-4c68-a92e-f606cc3f27c0",
   "metadata": {},
   "outputs": [
    {
     "data": {
      "text/html": [
       "<div>\n",
       "<style scoped>\n",
       "    .dataframe tbody tr th:only-of-type {\n",
       "        vertical-align: middle;\n",
       "    }\n",
       "\n",
       "    .dataframe tbody tr th {\n",
       "        vertical-align: top;\n",
       "    }\n",
       "\n",
       "    .dataframe thead th {\n",
       "        text-align: right;\n",
       "    }\n",
       "</style>\n",
       "<table border=\"1\" class=\"dataframe\">\n",
       "  <thead>\n",
       "    <tr style=\"text-align: right;\">\n",
       "      <th></th>\n",
       "      <th>passenger_id</th>\n",
       "      <th>survived</th>\n",
       "      <th>pclass</th>\n",
       "      <th>sex</th>\n",
       "      <th>age</th>\n",
       "      <th>sibsp</th>\n",
       "      <th>parch</th>\n",
       "      <th>fare</th>\n",
       "      <th>embarked</th>\n",
       "      <th>class</th>\n",
       "      <th>deck</th>\n",
       "      <th>embark_town</th>\n",
       "      <th>alone</th>\n",
       "    </tr>\n",
       "  </thead>\n",
       "  <tbody>\n",
       "    <tr>\n",
       "      <th>0</th>\n",
       "      <td>0</td>\n",
       "      <td>0</td>\n",
       "      <td>3</td>\n",
       "      <td>male</td>\n",
       "      <td>22.0</td>\n",
       "      <td>1</td>\n",
       "      <td>0</td>\n",
       "      <td>7.2500</td>\n",
       "      <td>S</td>\n",
       "      <td>Third</td>\n",
       "      <td>NaN</td>\n",
       "      <td>Southampton</td>\n",
       "      <td>0</td>\n",
       "    </tr>\n",
       "    <tr>\n",
       "      <th>1</th>\n",
       "      <td>1</td>\n",
       "      <td>1</td>\n",
       "      <td>1</td>\n",
       "      <td>female</td>\n",
       "      <td>38.0</td>\n",
       "      <td>1</td>\n",
       "      <td>0</td>\n",
       "      <td>71.2833</td>\n",
       "      <td>C</td>\n",
       "      <td>First</td>\n",
       "      <td>C</td>\n",
       "      <td>Cherbourg</td>\n",
       "      <td>0</td>\n",
       "    </tr>\n",
       "    <tr>\n",
       "      <th>2</th>\n",
       "      <td>2</td>\n",
       "      <td>1</td>\n",
       "      <td>3</td>\n",
       "      <td>female</td>\n",
       "      <td>26.0</td>\n",
       "      <td>0</td>\n",
       "      <td>0</td>\n",
       "      <td>7.9250</td>\n",
       "      <td>S</td>\n",
       "      <td>Third</td>\n",
       "      <td>NaN</td>\n",
       "      <td>Southampton</td>\n",
       "      <td>1</td>\n",
       "    </tr>\n",
       "    <tr>\n",
       "      <th>3</th>\n",
       "      <td>3</td>\n",
       "      <td>1</td>\n",
       "      <td>1</td>\n",
       "      <td>female</td>\n",
       "      <td>35.0</td>\n",
       "      <td>1</td>\n",
       "      <td>0</td>\n",
       "      <td>53.1000</td>\n",
       "      <td>S</td>\n",
       "      <td>First</td>\n",
       "      <td>C</td>\n",
       "      <td>Southampton</td>\n",
       "      <td>0</td>\n",
       "    </tr>\n",
       "    <tr>\n",
       "      <th>4</th>\n",
       "      <td>4</td>\n",
       "      <td>0</td>\n",
       "      <td>3</td>\n",
       "      <td>male</td>\n",
       "      <td>35.0</td>\n",
       "      <td>0</td>\n",
       "      <td>0</td>\n",
       "      <td>8.0500</td>\n",
       "      <td>S</td>\n",
       "      <td>Third</td>\n",
       "      <td>NaN</td>\n",
       "      <td>Southampton</td>\n",
       "      <td>1</td>\n",
       "    </tr>\n",
       "  </tbody>\n",
       "</table>\n",
       "</div>"
      ],
      "text/plain": [
       "   passenger_id  survived  pclass     sex   age  sibsp  parch     fare  \\\n",
       "0             0         0       3    male  22.0      1      0   7.2500   \n",
       "1             1         1       1  female  38.0      1      0  71.2833   \n",
       "2             2         1       3  female  26.0      0      0   7.9250   \n",
       "3             3         1       1  female  35.0      1      0  53.1000   \n",
       "4             4         0       3    male  35.0      0      0   8.0500   \n",
       "\n",
       "  embarked  class deck  embark_town  alone  \n",
       "0        S  Third  NaN  Southampton      0  \n",
       "1        C  First    C    Cherbourg      0  \n",
       "2        S  Third  NaN  Southampton      1  \n",
       "3        S  First    C  Southampton      0  \n",
       "4        S  Third  NaN  Southampton      1  "
      ]
     },
     "execution_count": 36,
     "metadata": {},
     "output_type": "execute_result"
    }
   ],
   "source": [
    "titanic = get_titanic_data()\n",
    "titanic.head()"
   ]
  },
  {
   "cell_type": "code",
   "execution_count": 37,
   "id": "45c8a383-b077-43cd-8bf7-8a2228b34fd1",
   "metadata": {},
   "outputs": [
    {
     "data": {
      "text/plain": [
       "passenger_id      0\n",
       "survived          0\n",
       "pclass            0\n",
       "sex               0\n",
       "age             177\n",
       "sibsp             0\n",
       "parch             0\n",
       "fare              0\n",
       "embarked          2\n",
       "class             0\n",
       "deck            688\n",
       "embark_town       2\n",
       "alone             0\n",
       "dtype: int64"
      ]
     },
     "execution_count": 37,
     "metadata": {},
     "output_type": "execute_result"
    }
   ],
   "source": [
    "# Checking for null values\n",
    "\n",
    "titanic.isnull().sum()"
   ]
  },
  {
   "cell_type": "markdown",
   "id": "9d32270b-9537-4d07-9c71-1b0ba2520930",
   "metadata": {},
   "source": [
    "- Drop any unnecessary, unhelpful, or duplicated columns."
   ]
  },
  {
   "cell_type": "code",
   "execution_count": 38,
   "id": "3f42923e-fd4a-4de9-9d60-982c38231358",
   "metadata": {},
   "outputs": [
    {
     "data": {
      "text/plain": [
       "891"
      ]
     },
     "execution_count": 38,
     "metadata": {},
     "output_type": "execute_result"
    }
   ],
   "source": [
    "titanic.shape[0]"
   ]
  },
  {
   "cell_type": "code",
   "execution_count": 39,
   "id": "f6e1d1ec-9c06-49c0-9214-9c13592f4978",
   "metadata": {},
   "outputs": [
    {
     "data": {
      "text/plain": [
       "891"
      ]
     },
     "execution_count": 39,
     "metadata": {},
     "output_type": "execute_result"
    }
   ],
   "source": [
    "titanic = titanic.drop_duplicates()\n",
    "titanic.shape[0]"
   ]
  },
  {
   "cell_type": "code",
   "execution_count": 40,
   "id": "18239f83-9e3b-4296-b6dd-50f3a335da63",
   "metadata": {},
   "outputs": [
    {
     "data": {
      "text/html": [
       "<div>\n",
       "<style scoped>\n",
       "    .dataframe tbody tr th:only-of-type {\n",
       "        vertical-align: middle;\n",
       "    }\n",
       "\n",
       "    .dataframe tbody tr th {\n",
       "        vertical-align: top;\n",
       "    }\n",
       "\n",
       "    .dataframe thead th {\n",
       "        text-align: right;\n",
       "    }\n",
       "</style>\n",
       "<table border=\"1\" class=\"dataframe\">\n",
       "  <thead>\n",
       "    <tr style=\"text-align: right;\">\n",
       "      <th></th>\n",
       "      <th>passenger_id</th>\n",
       "      <th>survived</th>\n",
       "      <th>pclass</th>\n",
       "      <th>sex</th>\n",
       "      <th>sibsp</th>\n",
       "      <th>parch</th>\n",
       "      <th>fare</th>\n",
       "      <th>embark_town</th>\n",
       "      <th>alone</th>\n",
       "    </tr>\n",
       "  </thead>\n",
       "  <tbody>\n",
       "    <tr>\n",
       "      <th>0</th>\n",
       "      <td>0</td>\n",
       "      <td>0</td>\n",
       "      <td>3</td>\n",
       "      <td>male</td>\n",
       "      <td>1</td>\n",
       "      <td>0</td>\n",
       "      <td>7.2500</td>\n",
       "      <td>Southampton</td>\n",
       "      <td>0</td>\n",
       "    </tr>\n",
       "    <tr>\n",
       "      <th>1</th>\n",
       "      <td>1</td>\n",
       "      <td>1</td>\n",
       "      <td>1</td>\n",
       "      <td>female</td>\n",
       "      <td>1</td>\n",
       "      <td>0</td>\n",
       "      <td>71.2833</td>\n",
       "      <td>Cherbourg</td>\n",
       "      <td>0</td>\n",
       "    </tr>\n",
       "    <tr>\n",
       "      <th>2</th>\n",
       "      <td>2</td>\n",
       "      <td>1</td>\n",
       "      <td>3</td>\n",
       "      <td>female</td>\n",
       "      <td>0</td>\n",
       "      <td>0</td>\n",
       "      <td>7.9250</td>\n",
       "      <td>Southampton</td>\n",
       "      <td>1</td>\n",
       "    </tr>\n",
       "    <tr>\n",
       "      <th>3</th>\n",
       "      <td>3</td>\n",
       "      <td>1</td>\n",
       "      <td>1</td>\n",
       "      <td>female</td>\n",
       "      <td>1</td>\n",
       "      <td>0</td>\n",
       "      <td>53.1000</td>\n",
       "      <td>Southampton</td>\n",
       "      <td>0</td>\n",
       "    </tr>\n",
       "    <tr>\n",
       "      <th>4</th>\n",
       "      <td>4</td>\n",
       "      <td>0</td>\n",
       "      <td>3</td>\n",
       "      <td>male</td>\n",
       "      <td>0</td>\n",
       "      <td>0</td>\n",
       "      <td>8.0500</td>\n",
       "      <td>Southampton</td>\n",
       "      <td>1</td>\n",
       "    </tr>\n",
       "  </tbody>\n",
       "</table>\n",
       "</div>"
      ],
      "text/plain": [
       "   passenger_id  survived  pclass     sex  sibsp  parch     fare  embark_town  \\\n",
       "0             0         0       3    male      1      0   7.2500  Southampton   \n",
       "1             1         1       1  female      1      0  71.2833    Cherbourg   \n",
       "2             2         1       3  female      0      0   7.9250  Southampton   \n",
       "3             3         1       1  female      1      0  53.1000  Southampton   \n",
       "4             4         0       3    male      0      0   8.0500  Southampton   \n",
       "\n",
       "   alone  \n",
       "0      0  \n",
       "1      0  \n",
       "2      1  \n",
       "3      0  \n",
       "4      1  "
      ]
     },
     "execution_count": 40,
     "metadata": {},
     "output_type": "execute_result"
    }
   ],
   "source": [
    "cols_to_drop = ['deck', 'embarked', 'class', 'age']\n",
    "titanic = titanic.drop(columns=cols_to_drop)\n",
    "titanic.head()"
   ]
  },
  {
   "cell_type": "code",
   "execution_count": 41,
   "id": "d5acbe79-edcd-4afe-a32e-3eeab541f6ef",
   "metadata": {},
   "outputs": [
    {
     "data": {
      "text/plain": [
       "passenger_id    0\n",
       "survived        0\n",
       "pclass          0\n",
       "sex             0\n",
       "sibsp           0\n",
       "parch           0\n",
       "fare            0\n",
       "embark_town     0\n",
       "alone           0\n",
       "dtype: int64"
      ]
     },
     "execution_count": 41,
     "metadata": {},
     "output_type": "execute_result"
    }
   ],
   "source": [
    "titanic['embark_town'] = titanic.embark_town.fillna(value='Southampton')\n",
    "titanic.isnull().sum()"
   ]
  },
  {
   "cell_type": "markdown",
   "id": "2c210d1e-ee6e-443b-af73-4273c6bb3c7f",
   "metadata": {},
   "source": [
    "- Encode the categorical columns. Create dummy variables of the categorical columns and concatenate them onto the dataframe."
   ]
  },
  {
   "cell_type": "code",
   "execution_count": 42,
   "id": "6663b69f-e319-4273-bb23-c2db2b662d06",
   "metadata": {},
   "outputs": [
    {
     "data": {
      "text/html": [
       "<div>\n",
       "<style scoped>\n",
       "    .dataframe tbody tr th:only-of-type {\n",
       "        vertical-align: middle;\n",
       "    }\n",
       "\n",
       "    .dataframe tbody tr th {\n",
       "        vertical-align: top;\n",
       "    }\n",
       "\n",
       "    .dataframe thead th {\n",
       "        text-align: right;\n",
       "    }\n",
       "</style>\n",
       "<table border=\"1\" class=\"dataframe\">\n",
       "  <thead>\n",
       "    <tr style=\"text-align: right;\">\n",
       "      <th></th>\n",
       "      <th>passenger_id</th>\n",
       "      <th>survived</th>\n",
       "      <th>pclass</th>\n",
       "      <th>sex</th>\n",
       "      <th>sibsp</th>\n",
       "      <th>parch</th>\n",
       "      <th>fare</th>\n",
       "      <th>embark_town</th>\n",
       "      <th>alone</th>\n",
       "      <th>sex_male</th>\n",
       "      <th>embark_town_Queenstown</th>\n",
       "      <th>embark_town_Southampton</th>\n",
       "    </tr>\n",
       "  </thead>\n",
       "  <tbody>\n",
       "    <tr>\n",
       "      <th>0</th>\n",
       "      <td>0</td>\n",
       "      <td>0</td>\n",
       "      <td>3</td>\n",
       "      <td>male</td>\n",
       "      <td>1</td>\n",
       "      <td>0</td>\n",
       "      <td>7.2500</td>\n",
       "      <td>Southampton</td>\n",
       "      <td>0</td>\n",
       "      <td>1</td>\n",
       "      <td>0</td>\n",
       "      <td>1</td>\n",
       "    </tr>\n",
       "    <tr>\n",
       "      <th>1</th>\n",
       "      <td>1</td>\n",
       "      <td>1</td>\n",
       "      <td>1</td>\n",
       "      <td>female</td>\n",
       "      <td>1</td>\n",
       "      <td>0</td>\n",
       "      <td>71.2833</td>\n",
       "      <td>Cherbourg</td>\n",
       "      <td>0</td>\n",
       "      <td>0</td>\n",
       "      <td>0</td>\n",
       "      <td>0</td>\n",
       "    </tr>\n",
       "    <tr>\n",
       "      <th>2</th>\n",
       "      <td>2</td>\n",
       "      <td>1</td>\n",
       "      <td>3</td>\n",
       "      <td>female</td>\n",
       "      <td>0</td>\n",
       "      <td>0</td>\n",
       "      <td>7.9250</td>\n",
       "      <td>Southampton</td>\n",
       "      <td>1</td>\n",
       "      <td>0</td>\n",
       "      <td>0</td>\n",
       "      <td>1</td>\n",
       "    </tr>\n",
       "    <tr>\n",
       "      <th>3</th>\n",
       "      <td>3</td>\n",
       "      <td>1</td>\n",
       "      <td>1</td>\n",
       "      <td>female</td>\n",
       "      <td>1</td>\n",
       "      <td>0</td>\n",
       "      <td>53.1000</td>\n",
       "      <td>Southampton</td>\n",
       "      <td>0</td>\n",
       "      <td>0</td>\n",
       "      <td>0</td>\n",
       "      <td>1</td>\n",
       "    </tr>\n",
       "    <tr>\n",
       "      <th>4</th>\n",
       "      <td>4</td>\n",
       "      <td>0</td>\n",
       "      <td>3</td>\n",
       "      <td>male</td>\n",
       "      <td>0</td>\n",
       "      <td>0</td>\n",
       "      <td>8.0500</td>\n",
       "      <td>Southampton</td>\n",
       "      <td>1</td>\n",
       "      <td>1</td>\n",
       "      <td>0</td>\n",
       "      <td>1</td>\n",
       "    </tr>\n",
       "  </tbody>\n",
       "</table>\n",
       "</div>"
      ],
      "text/plain": [
       "   passenger_id  survived  pclass     sex  sibsp  parch     fare  embark_town  \\\n",
       "0             0         0       3    male      1      0   7.2500  Southampton   \n",
       "1             1         1       1  female      1      0  71.2833    Cherbourg   \n",
       "2             2         1       3  female      0      0   7.9250  Southampton   \n",
       "3             3         1       1  female      1      0  53.1000  Southampton   \n",
       "4             4         0       3    male      0      0   8.0500  Southampton   \n",
       "\n",
       "   alone  sex_male  embark_town_Queenstown  embark_town_Southampton  \n",
       "0      0         1                       0                        1  \n",
       "1      0         0                       0                        0  \n",
       "2      1         0                       0                        1  \n",
       "3      0         0                       0                        1  \n",
       "4      1         1                       0                        1  "
      ]
     },
     "execution_count": 42,
     "metadata": {},
     "output_type": "execute_result"
    }
   ],
   "source": [
    "dummy_df = pd.get_dummies(titanic[['sex','embark_town']], dummy_na=False, drop_first=[True, True])\n",
    "titanic = pd.concat([titanic, dummy_df], axis=1)\n",
    "titanic.head()"
   ]
  },
  {
   "cell_type": "markdown",
   "id": "10138796-bf75-4c98-b2fd-60c47bde94a9",
   "metadata": {},
   "source": [
    "- Create a function named prep_titanic that accepts the raw titanic data, and returns the data with the transformations above applied."
   ]
  },
  {
   "cell_type": "code",
   "execution_count": 43,
   "id": "c79f4dd3-a9da-48b8-b434-7eb3a8ea67de",
   "metadata": {},
   "outputs": [],
   "source": [
    "def prep_titanic_data(df):\n",
    "    df = df.drop_duplicates()\n",
    "    cols_to_drop = ['deck', 'embarked', 'class', 'age']\n",
    "    df = df.drop(columns=cols_to_drop)\n",
    "    df['embark_town'] = df.embark_town.fillna(value='Southampton')\n",
    "    dummy_df = pd.get_dummies(df[['sex','embark_town']], dummy_na=False, drop_first=[True, True])\n",
    "    df = pd.concat([df, dummy_df], axis=1)\n",
    "    return df"
   ]
  },
  {
   "cell_type": "code",
   "execution_count": 44,
   "id": "8834cca5-5e49-47a8-ba96-ed69f08c92eb",
   "metadata": {},
   "outputs": [
    {
     "data": {
      "text/html": [
       "<div>\n",
       "<style scoped>\n",
       "    .dataframe tbody tr th:only-of-type {\n",
       "        vertical-align: middle;\n",
       "    }\n",
       "\n",
       "    .dataframe tbody tr th {\n",
       "        vertical-align: top;\n",
       "    }\n",
       "\n",
       "    .dataframe thead th {\n",
       "        text-align: right;\n",
       "    }\n",
       "</style>\n",
       "<table border=\"1\" class=\"dataframe\">\n",
       "  <thead>\n",
       "    <tr style=\"text-align: right;\">\n",
       "      <th></th>\n",
       "      <th>passenger_id</th>\n",
       "      <th>survived</th>\n",
       "      <th>pclass</th>\n",
       "      <th>sex</th>\n",
       "      <th>sibsp</th>\n",
       "      <th>parch</th>\n",
       "      <th>fare</th>\n",
       "      <th>embark_town</th>\n",
       "      <th>alone</th>\n",
       "      <th>sex_male</th>\n",
       "      <th>embark_town_Queenstown</th>\n",
       "      <th>embark_town_Southampton</th>\n",
       "    </tr>\n",
       "  </thead>\n",
       "  <tbody>\n",
       "    <tr>\n",
       "      <th>0</th>\n",
       "      <td>0</td>\n",
       "      <td>0</td>\n",
       "      <td>3</td>\n",
       "      <td>male</td>\n",
       "      <td>1</td>\n",
       "      <td>0</td>\n",
       "      <td>7.2500</td>\n",
       "      <td>Southampton</td>\n",
       "      <td>0</td>\n",
       "      <td>1</td>\n",
       "      <td>0</td>\n",
       "      <td>1</td>\n",
       "    </tr>\n",
       "    <tr>\n",
       "      <th>1</th>\n",
       "      <td>1</td>\n",
       "      <td>1</td>\n",
       "      <td>1</td>\n",
       "      <td>female</td>\n",
       "      <td>1</td>\n",
       "      <td>0</td>\n",
       "      <td>71.2833</td>\n",
       "      <td>Cherbourg</td>\n",
       "      <td>0</td>\n",
       "      <td>0</td>\n",
       "      <td>0</td>\n",
       "      <td>0</td>\n",
       "    </tr>\n",
       "    <tr>\n",
       "      <th>2</th>\n",
       "      <td>2</td>\n",
       "      <td>1</td>\n",
       "      <td>3</td>\n",
       "      <td>female</td>\n",
       "      <td>0</td>\n",
       "      <td>0</td>\n",
       "      <td>7.9250</td>\n",
       "      <td>Southampton</td>\n",
       "      <td>1</td>\n",
       "      <td>0</td>\n",
       "      <td>0</td>\n",
       "      <td>1</td>\n",
       "    </tr>\n",
       "    <tr>\n",
       "      <th>3</th>\n",
       "      <td>3</td>\n",
       "      <td>1</td>\n",
       "      <td>1</td>\n",
       "      <td>female</td>\n",
       "      <td>1</td>\n",
       "      <td>0</td>\n",
       "      <td>53.1000</td>\n",
       "      <td>Southampton</td>\n",
       "      <td>0</td>\n",
       "      <td>0</td>\n",
       "      <td>0</td>\n",
       "      <td>1</td>\n",
       "    </tr>\n",
       "    <tr>\n",
       "      <th>4</th>\n",
       "      <td>4</td>\n",
       "      <td>0</td>\n",
       "      <td>3</td>\n",
       "      <td>male</td>\n",
       "      <td>0</td>\n",
       "      <td>0</td>\n",
       "      <td>8.0500</td>\n",
       "      <td>Southampton</td>\n",
       "      <td>1</td>\n",
       "      <td>1</td>\n",
       "      <td>0</td>\n",
       "      <td>1</td>\n",
       "    </tr>\n",
       "  </tbody>\n",
       "</table>\n",
       "</div>"
      ],
      "text/plain": [
       "   passenger_id  survived  pclass     sex  sibsp  parch     fare  embark_town  \\\n",
       "0             0         0       3    male      1      0   7.2500  Southampton   \n",
       "1             1         1       1  female      1      0  71.2833    Cherbourg   \n",
       "2             2         1       3  female      0      0   7.9250  Southampton   \n",
       "3             3         1       1  female      1      0  53.1000  Southampton   \n",
       "4             4         0       3    male      0      0   8.0500  Southampton   \n",
       "\n",
       "   alone  sex_male  embark_town_Queenstown  embark_town_Southampton  \n",
       "0      0         1                       0                        1  \n",
       "1      0         0                       0                        0  \n",
       "2      1         0                       0                        1  \n",
       "3      0         0                       0                        1  \n",
       "4      1         1                       0                        1  "
      ]
     },
     "execution_count": 44,
     "metadata": {},
     "output_type": "execute_result"
    }
   ],
   "source": [
    "prep_titanic_data(get_titanic_data()).head()"
   ]
  },
  {
   "cell_type": "markdown",
   "id": "dcec8310-53a4-45f0-a005-edb4327d3450",
   "metadata": {},
   "source": [
    "## Telco dataset"
   ]
  },
  {
   "cell_type": "markdown",
   "id": "97780cd6-c2b1-4d30-bd2b-877afa17bd5f",
   "metadata": {},
   "source": [
    "- Use the function defined in acquire.py to load the Telco data."
   ]
  },
  {
   "cell_type": "code",
   "execution_count": 45,
   "id": "28bbb5f8-462d-4f6b-91ac-38fc7626bd9a",
   "metadata": {},
   "outputs": [
    {
     "data": {
      "text/html": [
       "<div>\n",
       "<style scoped>\n",
       "    .dataframe tbody tr th:only-of-type {\n",
       "        vertical-align: middle;\n",
       "    }\n",
       "\n",
       "    .dataframe tbody tr th {\n",
       "        vertical-align: top;\n",
       "    }\n",
       "\n",
       "    .dataframe thead th {\n",
       "        text-align: right;\n",
       "    }\n",
       "</style>\n",
       "<table border=\"1\" class=\"dataframe\">\n",
       "  <thead>\n",
       "    <tr style=\"text-align: right;\">\n",
       "      <th></th>\n",
       "      <th>contract_type_id</th>\n",
       "      <th>internet_service_type_id</th>\n",
       "      <th>payment_type_id</th>\n",
       "      <th>customer_id</th>\n",
       "      <th>gender</th>\n",
       "      <th>senior_citizen</th>\n",
       "      <th>partner</th>\n",
       "      <th>dependents</th>\n",
       "      <th>tenure</th>\n",
       "      <th>phone_service</th>\n",
       "      <th>...</th>\n",
       "      <th>tech_support</th>\n",
       "      <th>streaming_tv</th>\n",
       "      <th>streaming_movies</th>\n",
       "      <th>paperless_billing</th>\n",
       "      <th>monthly_charges</th>\n",
       "      <th>total_charges</th>\n",
       "      <th>churn</th>\n",
       "      <th>payment_type</th>\n",
       "      <th>internet_service_type</th>\n",
       "      <th>contract_type</th>\n",
       "    </tr>\n",
       "  </thead>\n",
       "  <tbody>\n",
       "    <tr>\n",
       "      <th>0</th>\n",
       "      <td>2</td>\n",
       "      <td>1</td>\n",
       "      <td>2</td>\n",
       "      <td>0002-ORFBO</td>\n",
       "      <td>Female</td>\n",
       "      <td>0</td>\n",
       "      <td>Yes</td>\n",
       "      <td>Yes</td>\n",
       "      <td>9</td>\n",
       "      <td>Yes</td>\n",
       "      <td>...</td>\n",
       "      <td>Yes</td>\n",
       "      <td>Yes</td>\n",
       "      <td>No</td>\n",
       "      <td>Yes</td>\n",
       "      <td>65.6</td>\n",
       "      <td>593.3</td>\n",
       "      <td>No</td>\n",
       "      <td>Mailed check</td>\n",
       "      <td>DSL</td>\n",
       "      <td>One year</td>\n",
       "    </tr>\n",
       "    <tr>\n",
       "      <th>1</th>\n",
       "      <td>1</td>\n",
       "      <td>1</td>\n",
       "      <td>2</td>\n",
       "      <td>0003-MKNFE</td>\n",
       "      <td>Male</td>\n",
       "      <td>0</td>\n",
       "      <td>No</td>\n",
       "      <td>No</td>\n",
       "      <td>9</td>\n",
       "      <td>Yes</td>\n",
       "      <td>...</td>\n",
       "      <td>No</td>\n",
       "      <td>No</td>\n",
       "      <td>Yes</td>\n",
       "      <td>No</td>\n",
       "      <td>59.9</td>\n",
       "      <td>542.4</td>\n",
       "      <td>No</td>\n",
       "      <td>Mailed check</td>\n",
       "      <td>DSL</td>\n",
       "      <td>Month-to-month</td>\n",
       "    </tr>\n",
       "    <tr>\n",
       "      <th>2</th>\n",
       "      <td>1</td>\n",
       "      <td>2</td>\n",
       "      <td>1</td>\n",
       "      <td>0004-TLHLJ</td>\n",
       "      <td>Male</td>\n",
       "      <td>0</td>\n",
       "      <td>No</td>\n",
       "      <td>No</td>\n",
       "      <td>4</td>\n",
       "      <td>Yes</td>\n",
       "      <td>...</td>\n",
       "      <td>No</td>\n",
       "      <td>No</td>\n",
       "      <td>No</td>\n",
       "      <td>Yes</td>\n",
       "      <td>73.9</td>\n",
       "      <td>280.85</td>\n",
       "      <td>Yes</td>\n",
       "      <td>Electronic check</td>\n",
       "      <td>Fiber optic</td>\n",
       "      <td>Month-to-month</td>\n",
       "    </tr>\n",
       "    <tr>\n",
       "      <th>3</th>\n",
       "      <td>1</td>\n",
       "      <td>2</td>\n",
       "      <td>1</td>\n",
       "      <td>0011-IGKFF</td>\n",
       "      <td>Male</td>\n",
       "      <td>1</td>\n",
       "      <td>Yes</td>\n",
       "      <td>No</td>\n",
       "      <td>13</td>\n",
       "      <td>Yes</td>\n",
       "      <td>...</td>\n",
       "      <td>No</td>\n",
       "      <td>Yes</td>\n",
       "      <td>Yes</td>\n",
       "      <td>Yes</td>\n",
       "      <td>98.0</td>\n",
       "      <td>1237.85</td>\n",
       "      <td>Yes</td>\n",
       "      <td>Electronic check</td>\n",
       "      <td>Fiber optic</td>\n",
       "      <td>Month-to-month</td>\n",
       "    </tr>\n",
       "    <tr>\n",
       "      <th>4</th>\n",
       "      <td>1</td>\n",
       "      <td>2</td>\n",
       "      <td>2</td>\n",
       "      <td>0013-EXCHZ</td>\n",
       "      <td>Female</td>\n",
       "      <td>1</td>\n",
       "      <td>Yes</td>\n",
       "      <td>No</td>\n",
       "      <td>3</td>\n",
       "      <td>Yes</td>\n",
       "      <td>...</td>\n",
       "      <td>Yes</td>\n",
       "      <td>Yes</td>\n",
       "      <td>No</td>\n",
       "      <td>Yes</td>\n",
       "      <td>83.9</td>\n",
       "      <td>267.4</td>\n",
       "      <td>Yes</td>\n",
       "      <td>Mailed check</td>\n",
       "      <td>Fiber optic</td>\n",
       "      <td>Month-to-month</td>\n",
       "    </tr>\n",
       "  </tbody>\n",
       "</table>\n",
       "<p>5 rows × 24 columns</p>\n",
       "</div>"
      ],
      "text/plain": [
       "   contract_type_id  internet_service_type_id  payment_type_id customer_id  \\\n",
       "0                 2                         1                2  0002-ORFBO   \n",
       "1                 1                         1                2  0003-MKNFE   \n",
       "2                 1                         2                1  0004-TLHLJ   \n",
       "3                 1                         2                1  0011-IGKFF   \n",
       "4                 1                         2                2  0013-EXCHZ   \n",
       "\n",
       "   gender  senior_citizen partner dependents  tenure phone_service  ...  \\\n",
       "0  Female               0     Yes        Yes       9           Yes  ...   \n",
       "1    Male               0      No         No       9           Yes  ...   \n",
       "2    Male               0      No         No       4           Yes  ...   \n",
       "3    Male               1     Yes         No      13           Yes  ...   \n",
       "4  Female               1     Yes         No       3           Yes  ...   \n",
       "\n",
       "  tech_support streaming_tv streaming_movies paperless_billing  \\\n",
       "0          Yes          Yes               No               Yes   \n",
       "1           No           No              Yes                No   \n",
       "2           No           No               No               Yes   \n",
       "3           No          Yes              Yes               Yes   \n",
       "4          Yes          Yes               No               Yes   \n",
       "\n",
       "  monthly_charges total_charges churn      payment_type  \\\n",
       "0            65.6         593.3    No      Mailed check   \n",
       "1            59.9         542.4    No      Mailed check   \n",
       "2            73.9        280.85   Yes  Electronic check   \n",
       "3            98.0       1237.85   Yes  Electronic check   \n",
       "4            83.9         267.4   Yes      Mailed check   \n",
       "\n",
       "   internet_service_type   contract_type  \n",
       "0                    DSL        One year  \n",
       "1                    DSL  Month-to-month  \n",
       "2            Fiber optic  Month-to-month  \n",
       "3            Fiber optic  Month-to-month  \n",
       "4            Fiber optic  Month-to-month  \n",
       "\n",
       "[5 rows x 24 columns]"
      ]
     },
     "execution_count": 45,
     "metadata": {},
     "output_type": "execute_result"
    }
   ],
   "source": [
    "telco = get_telco_data()\n",
    "telco.head()"
   ]
  },
  {
   "cell_type": "markdown",
   "id": "5b2dec3c-c2fd-42fa-9a20-60ab52d23835",
   "metadata": {},
   "source": [
    "- Drop any unnecessary, unhelpful, or duplicated columns. This could mean dropping foreign key columns but keeping the corresponding string values, for example."
   ]
  },
  {
   "cell_type": "code",
   "execution_count": 46,
   "id": "5fe52c53-0d96-4349-8656-e07b0532484f",
   "metadata": {},
   "outputs": [
    {
     "data": {
      "text/plain": [
       "7043"
      ]
     },
     "execution_count": 46,
     "metadata": {},
     "output_type": "execute_result"
    }
   ],
   "source": [
    "telco.shape[0]"
   ]
  },
  {
   "cell_type": "code",
   "execution_count": 47,
   "id": "1df19950-8181-49eb-8354-84b396c5a833",
   "metadata": {},
   "outputs": [
    {
     "data": {
      "text/plain": [
       "7043"
      ]
     },
     "execution_count": 47,
     "metadata": {},
     "output_type": "execute_result"
    }
   ],
   "source": [
    "telco = telco.drop_duplicates()\n",
    "telco.shape[0]"
   ]
  },
  {
   "cell_type": "code",
   "execution_count": 48,
   "id": "00fc3887-6a64-461c-a1be-e334c3e9938b",
   "metadata": {},
   "outputs": [
    {
     "name": "stdout",
     "output_type": "stream",
     "text": [
      "<class 'pandas.core.frame.DataFrame'>\n",
      "Int64Index: 7043 entries, 0 to 7042\n",
      "Data columns (total 24 columns):\n",
      " #   Column                    Non-Null Count  Dtype  \n",
      "---  ------                    --------------  -----  \n",
      " 0   contract_type_id          7043 non-null   int64  \n",
      " 1   internet_service_type_id  7043 non-null   int64  \n",
      " 2   payment_type_id           7043 non-null   int64  \n",
      " 3   customer_id               7043 non-null   object \n",
      " 4   gender                    7043 non-null   object \n",
      " 5   senior_citizen            7043 non-null   int64  \n",
      " 6   partner                   7043 non-null   object \n",
      " 7   dependents                7043 non-null   object \n",
      " 8   tenure                    7043 non-null   int64  \n",
      " 9   phone_service             7043 non-null   object \n",
      " 10  multiple_lines            7043 non-null   object \n",
      " 11  online_security           7043 non-null   object \n",
      " 12  online_backup             7043 non-null   object \n",
      " 13  device_protection         7043 non-null   object \n",
      " 14  tech_support              7043 non-null   object \n",
      " 15  streaming_tv              7043 non-null   object \n",
      " 16  streaming_movies          7043 non-null   object \n",
      " 17  paperless_billing         7043 non-null   object \n",
      " 18  monthly_charges           7043 non-null   float64\n",
      " 19  total_charges             7043 non-null   object \n",
      " 20  churn                     7043 non-null   object \n",
      " 21  payment_type              7043 non-null   object \n",
      " 22  internet_service_type     7043 non-null   object \n",
      " 23  contract_type             7043 non-null   object \n",
      "dtypes: float64(1), int64(5), object(18)\n",
      "memory usage: 1.3+ MB\n"
     ]
    }
   ],
   "source": [
    "telco.info()"
   ]
  },
  {
   "cell_type": "code",
   "execution_count": 49,
   "id": "3213b660-395a-4d67-8310-839a2486fbcb",
   "metadata": {},
   "outputs": [
    {
     "data": {
      "text/html": [
       "<div>\n",
       "<style scoped>\n",
       "    .dataframe tbody tr th:only-of-type {\n",
       "        vertical-align: middle;\n",
       "    }\n",
       "\n",
       "    .dataframe tbody tr th {\n",
       "        vertical-align: top;\n",
       "    }\n",
       "\n",
       "    .dataframe thead th {\n",
       "        text-align: right;\n",
       "    }\n",
       "</style>\n",
       "<table border=\"1\" class=\"dataframe\">\n",
       "  <thead>\n",
       "    <tr style=\"text-align: right;\">\n",
       "      <th></th>\n",
       "      <th>contract_type_id</th>\n",
       "      <th>internet_service_type_id</th>\n",
       "      <th>payment_type_id</th>\n",
       "      <th>senior_citizen</th>\n",
       "      <th>tenure</th>\n",
       "      <th>monthly_charges</th>\n",
       "    </tr>\n",
       "  </thead>\n",
       "  <tbody>\n",
       "    <tr>\n",
       "      <th>count</th>\n",
       "      <td>7043.000000</td>\n",
       "      <td>7043.000000</td>\n",
       "      <td>7043.000000</td>\n",
       "      <td>7043.000000</td>\n",
       "      <td>7043.000000</td>\n",
       "      <td>7043.000000</td>\n",
       "    </tr>\n",
       "    <tr>\n",
       "      <th>mean</th>\n",
       "      <td>1.690473</td>\n",
       "      <td>1.872923</td>\n",
       "      <td>2.315633</td>\n",
       "      <td>0.162147</td>\n",
       "      <td>32.371149</td>\n",
       "      <td>64.761692</td>\n",
       "    </tr>\n",
       "    <tr>\n",
       "      <th>std</th>\n",
       "      <td>0.833755</td>\n",
       "      <td>0.737796</td>\n",
       "      <td>1.148907</td>\n",
       "      <td>0.368612</td>\n",
       "      <td>24.559481</td>\n",
       "      <td>30.090047</td>\n",
       "    </tr>\n",
       "    <tr>\n",
       "      <th>min</th>\n",
       "      <td>1.000000</td>\n",
       "      <td>1.000000</td>\n",
       "      <td>1.000000</td>\n",
       "      <td>0.000000</td>\n",
       "      <td>0.000000</td>\n",
       "      <td>18.250000</td>\n",
       "    </tr>\n",
       "    <tr>\n",
       "      <th>25%</th>\n",
       "      <td>1.000000</td>\n",
       "      <td>1.000000</td>\n",
       "      <td>1.000000</td>\n",
       "      <td>0.000000</td>\n",
       "      <td>9.000000</td>\n",
       "      <td>35.500000</td>\n",
       "    </tr>\n",
       "    <tr>\n",
       "      <th>50%</th>\n",
       "      <td>1.000000</td>\n",
       "      <td>2.000000</td>\n",
       "      <td>2.000000</td>\n",
       "      <td>0.000000</td>\n",
       "      <td>29.000000</td>\n",
       "      <td>70.350000</td>\n",
       "    </tr>\n",
       "    <tr>\n",
       "      <th>75%</th>\n",
       "      <td>2.000000</td>\n",
       "      <td>2.000000</td>\n",
       "      <td>3.000000</td>\n",
       "      <td>0.000000</td>\n",
       "      <td>55.000000</td>\n",
       "      <td>89.850000</td>\n",
       "    </tr>\n",
       "    <tr>\n",
       "      <th>max</th>\n",
       "      <td>3.000000</td>\n",
       "      <td>3.000000</td>\n",
       "      <td>4.000000</td>\n",
       "      <td>1.000000</td>\n",
       "      <td>72.000000</td>\n",
       "      <td>118.750000</td>\n",
       "    </tr>\n",
       "  </tbody>\n",
       "</table>\n",
       "</div>"
      ],
      "text/plain": [
       "       contract_type_id  internet_service_type_id  payment_type_id  \\\n",
       "count       7043.000000               7043.000000      7043.000000   \n",
       "mean           1.690473                  1.872923         2.315633   \n",
       "std            0.833755                  0.737796         1.148907   \n",
       "min            1.000000                  1.000000         1.000000   \n",
       "25%            1.000000                  1.000000         1.000000   \n",
       "50%            1.000000                  2.000000         2.000000   \n",
       "75%            2.000000                  2.000000         3.000000   \n",
       "max            3.000000                  3.000000         4.000000   \n",
       "\n",
       "       senior_citizen       tenure  monthly_charges  \n",
       "count     7043.000000  7043.000000      7043.000000  \n",
       "mean         0.162147    32.371149        64.761692  \n",
       "std          0.368612    24.559481        30.090047  \n",
       "min          0.000000     0.000000        18.250000  \n",
       "25%          0.000000     9.000000        35.500000  \n",
       "50%          0.000000    29.000000        70.350000  \n",
       "75%          0.000000    55.000000        89.850000  \n",
       "max          1.000000    72.000000       118.750000  "
      ]
     },
     "execution_count": 49,
     "metadata": {},
     "output_type": "execute_result"
    }
   ],
   "source": [
    "telco.describe()"
   ]
  },
  {
   "cell_type": "code",
   "execution_count": 50,
   "id": "3e18405c-3803-4239-8470-ca0a5a531134",
   "metadata": {},
   "outputs": [
    {
     "data": {
      "text/html": [
       "<div>\n",
       "<style scoped>\n",
       "    .dataframe tbody tr th:only-of-type {\n",
       "        vertical-align: middle;\n",
       "    }\n",
       "\n",
       "    .dataframe tbody tr th {\n",
       "        vertical-align: top;\n",
       "    }\n",
       "\n",
       "    .dataframe thead th {\n",
       "        text-align: right;\n",
       "    }\n",
       "</style>\n",
       "<table border=\"1\" class=\"dataframe\">\n",
       "  <thead>\n",
       "    <tr style=\"text-align: right;\">\n",
       "      <th></th>\n",
       "      <th>customer_id</th>\n",
       "      <th>gender</th>\n",
       "      <th>partner</th>\n",
       "      <th>dependents</th>\n",
       "      <th>phone_service</th>\n",
       "      <th>multiple_lines</th>\n",
       "      <th>online_security</th>\n",
       "      <th>online_backup</th>\n",
       "      <th>device_protection</th>\n",
       "      <th>tech_support</th>\n",
       "      <th>streaming_tv</th>\n",
       "      <th>streaming_movies</th>\n",
       "      <th>paperless_billing</th>\n",
       "      <th>total_charges</th>\n",
       "      <th>churn</th>\n",
       "      <th>payment_type</th>\n",
       "      <th>internet_service_type</th>\n",
       "      <th>contract_type</th>\n",
       "    </tr>\n",
       "  </thead>\n",
       "  <tbody>\n",
       "    <tr>\n",
       "      <th>count</th>\n",
       "      <td>7043</td>\n",
       "      <td>7043</td>\n",
       "      <td>7043</td>\n",
       "      <td>7043</td>\n",
       "      <td>7043</td>\n",
       "      <td>7043</td>\n",
       "      <td>7043</td>\n",
       "      <td>7043</td>\n",
       "      <td>7043</td>\n",
       "      <td>7043</td>\n",
       "      <td>7043</td>\n",
       "      <td>7043</td>\n",
       "      <td>7043</td>\n",
       "      <td>7043</td>\n",
       "      <td>7043</td>\n",
       "      <td>7043</td>\n",
       "      <td>7043</td>\n",
       "      <td>7043</td>\n",
       "    </tr>\n",
       "    <tr>\n",
       "      <th>unique</th>\n",
       "      <td>7043</td>\n",
       "      <td>2</td>\n",
       "      <td>2</td>\n",
       "      <td>2</td>\n",
       "      <td>2</td>\n",
       "      <td>3</td>\n",
       "      <td>3</td>\n",
       "      <td>3</td>\n",
       "      <td>3</td>\n",
       "      <td>3</td>\n",
       "      <td>3</td>\n",
       "      <td>3</td>\n",
       "      <td>2</td>\n",
       "      <td>6531</td>\n",
       "      <td>2</td>\n",
       "      <td>4</td>\n",
       "      <td>3</td>\n",
       "      <td>3</td>\n",
       "    </tr>\n",
       "    <tr>\n",
       "      <th>top</th>\n",
       "      <td>0002-ORFBO</td>\n",
       "      <td>Male</td>\n",
       "      <td>No</td>\n",
       "      <td>No</td>\n",
       "      <td>Yes</td>\n",
       "      <td>No</td>\n",
       "      <td>No</td>\n",
       "      <td>No</td>\n",
       "      <td>No</td>\n",
       "      <td>No</td>\n",
       "      <td>No</td>\n",
       "      <td>No</td>\n",
       "      <td>Yes</td>\n",
       "      <td></td>\n",
       "      <td>No</td>\n",
       "      <td>Electronic check</td>\n",
       "      <td>Fiber optic</td>\n",
       "      <td>Month-to-month</td>\n",
       "    </tr>\n",
       "    <tr>\n",
       "      <th>freq</th>\n",
       "      <td>1</td>\n",
       "      <td>3555</td>\n",
       "      <td>3641</td>\n",
       "      <td>4933</td>\n",
       "      <td>6361</td>\n",
       "      <td>3390</td>\n",
       "      <td>3498</td>\n",
       "      <td>3088</td>\n",
       "      <td>3095</td>\n",
       "      <td>3473</td>\n",
       "      <td>2810</td>\n",
       "      <td>2785</td>\n",
       "      <td>4171</td>\n",
       "      <td>11</td>\n",
       "      <td>5174</td>\n",
       "      <td>2365</td>\n",
       "      <td>3096</td>\n",
       "      <td>3875</td>\n",
       "    </tr>\n",
       "  </tbody>\n",
       "</table>\n",
       "</div>"
      ],
      "text/plain": [
       "       customer_id gender partner dependents phone_service multiple_lines  \\\n",
       "count         7043   7043    7043       7043          7043           7043   \n",
       "unique        7043      2       2          2             2              3   \n",
       "top     0002-ORFBO   Male      No         No           Yes             No   \n",
       "freq             1   3555    3641       4933          6361           3390   \n",
       "\n",
       "       online_security online_backup device_protection tech_support  \\\n",
       "count             7043          7043              7043         7043   \n",
       "unique               3             3                 3            3   \n",
       "top                 No            No                No           No   \n",
       "freq              3498          3088              3095         3473   \n",
       "\n",
       "       streaming_tv streaming_movies paperless_billing total_charges churn  \\\n",
       "count          7043             7043              7043          7043  7043   \n",
       "unique            3                3                 2          6531     2   \n",
       "top              No               No               Yes                  No   \n",
       "freq           2810             2785              4171            11  5174   \n",
       "\n",
       "            payment_type internet_service_type   contract_type  \n",
       "count               7043                  7043            7043  \n",
       "unique                 4                     3               3  \n",
       "top     Electronic check           Fiber optic  Month-to-month  \n",
       "freq                2365                  3096            3875  "
      ]
     },
     "execution_count": 50,
     "metadata": {},
     "output_type": "execute_result"
    }
   ],
   "source": [
    "telco.describe(exclude = 'number')"
   ]
  },
  {
   "cell_type": "code",
   "execution_count": 51,
   "id": "1144023b-0a86-4861-afb2-9a419435aa0a",
   "metadata": {},
   "outputs": [
    {
     "name": "stdout",
     "output_type": "stream",
     "text": [
      "0002-ORFBO    1\n",
      "6616-AALSR    1\n",
      "6625-UTXEW    1\n",
      "6625-IUTTT    1\n",
      "6625-FLENO    1\n",
      "             ..\n",
      "3352-RICWQ    1\n",
      "3352-ALMCK    1\n",
      "3351-NQLDI    1\n",
      "3351-NGXYI    1\n",
      "9995-HOTOH    1\n",
      "Name: customer_id, Length: 7043, dtype: int64\n",
      "-----------------------\n",
      "Male      3555\n",
      "Female    3488\n",
      "Name: gender, dtype: int64\n",
      "-----------------------\n",
      "No     3641\n",
      "Yes    3402\n",
      "Name: partner, dtype: int64\n",
      "-----------------------\n",
      "No     4933\n",
      "Yes    2110\n",
      "Name: dependents, dtype: int64\n",
      "-----------------------\n",
      "Yes    6361\n",
      "No      682\n",
      "Name: phone_service, dtype: int64\n",
      "-----------------------\n",
      "No                  3390\n",
      "Yes                 2971\n",
      "No phone service     682\n",
      "Name: multiple_lines, dtype: int64\n",
      "-----------------------\n",
      "No                     3498\n",
      "Yes                    2019\n",
      "No internet service    1526\n",
      "Name: online_security, dtype: int64\n",
      "-----------------------\n",
      "No                     3088\n",
      "Yes                    2429\n",
      "No internet service    1526\n",
      "Name: online_backup, dtype: int64\n",
      "-----------------------\n",
      "No                     3095\n",
      "Yes                    2422\n",
      "No internet service    1526\n",
      "Name: device_protection, dtype: int64\n",
      "-----------------------\n",
      "No                     3473\n",
      "Yes                    2044\n",
      "No internet service    1526\n",
      "Name: tech_support, dtype: int64\n",
      "-----------------------\n",
      "No                     2810\n",
      "Yes                    2707\n",
      "No internet service    1526\n",
      "Name: streaming_tv, dtype: int64\n",
      "-----------------------\n",
      "No                     2785\n",
      "Yes                    2732\n",
      "No internet service    1526\n",
      "Name: streaming_movies, dtype: int64\n",
      "-----------------------\n",
      "Yes    4171\n",
      "No     2872\n",
      "Name: paperless_billing, dtype: int64\n",
      "-----------------------\n",
      "           11\n",
      "20.2       11\n",
      "19.75       9\n",
      "19.9        8\n",
      "20.05       8\n",
      "           ..\n",
      "2387.75     1\n",
      "6302.8      1\n",
      "2058.5      1\n",
      "829.55      1\n",
      "3707.6      1\n",
      "Name: total_charges, Length: 6531, dtype: int64\n",
      "-----------------------\n",
      "No     5174\n",
      "Yes    1869\n",
      "Name: churn, dtype: int64\n",
      "-----------------------\n",
      "Electronic check             2365\n",
      "Mailed check                 1612\n",
      "Bank transfer (automatic)    1544\n",
      "Credit card (automatic)      1522\n",
      "Name: payment_type, dtype: int64\n",
      "-----------------------\n",
      "Fiber optic    3096\n",
      "DSL            2421\n",
      "None           1526\n",
      "Name: internet_service_type, dtype: int64\n",
      "-----------------------\n",
      "Month-to-month    3875\n",
      "Two year          1695\n",
      "One year          1473\n",
      "Name: contract_type, dtype: int64\n",
      "-----------------------\n"
     ]
    }
   ],
   "source": [
    "for col in telco.select_dtypes(include = 'object'):\n",
    "    print(telco[col].value_counts())\n",
    "    print('-----------------------')"
   ]
  },
  {
   "cell_type": "markdown",
   "id": "e2e1bf24-8740-40e0-b27d-80ff376c74dd",
   "metadata": {},
   "source": [
    "We can drop contract_type_id, internet_service_type_id, and payment_type_id since these are all foreign keys.\n",
    "<br>\n",
    "We can customer_id since this does not provide any useful information."
   ]
  },
  {
   "cell_type": "code",
   "execution_count": 52,
   "id": "6422e727-16e1-44be-93bd-e4ad767cc436",
   "metadata": {},
   "outputs": [],
   "source": [
    "cols_to_drop = [\n",
    "    'customer_id',\n",
    "    'contract_type_id',\n",
    "    'internet_service_type_id',\n",
    "    'payment_type_id'\n",
    "]\n",
    "telco = telco.drop(columns = cols_to_drop)"
   ]
  },
  {
   "cell_type": "code",
   "execution_count": 53,
   "id": "bd94b748-85f7-4165-a24a-66d013e45c75",
   "metadata": {},
   "outputs": [
    {
     "data": {
      "text/plain": [
       "['gender',\n",
       " 'senior_citizen',\n",
       " 'partner',\n",
       " 'dependents',\n",
       " 'tenure',\n",
       " 'phone_service',\n",
       " 'multiple_lines',\n",
       " 'online_security',\n",
       " 'online_backup',\n",
       " 'device_protection',\n",
       " 'tech_support',\n",
       " 'streaming_tv',\n",
       " 'streaming_movies',\n",
       " 'paperless_billing',\n",
       " 'monthly_charges',\n",
       " 'total_charges',\n",
       " 'churn',\n",
       " 'payment_type',\n",
       " 'internet_service_type',\n",
       " 'contract_type']"
      ]
     },
     "execution_count": 53,
     "metadata": {},
     "output_type": "execute_result"
    }
   ],
   "source": [
    "list(telco.columns)"
   ]
  },
  {
   "cell_type": "markdown",
   "id": "44066e3e-f1c6-4fb8-a589-15992f9050fa",
   "metadata": {},
   "source": [
    "The total_charges column has some empty cells."
   ]
  },
  {
   "cell_type": "code",
   "execution_count": 54,
   "id": "24500785-4561-4ef9-a239-13a1485190d4",
   "metadata": {},
   "outputs": [],
   "source": [
    "# We could simply drop these rows from the dataframe\n",
    "\n",
    "telco.total_charges = telco.total_charges.str.strip()\n",
    "telco = telco[telco.total_charges != '']"
   ]
  },
  {
   "cell_type": "markdown",
   "id": "96915764-cbec-4fb1-9411-9909893b3b8e",
   "metadata": {},
   "source": [
    "- Encode the categorical columns. Create dummy variables of the categorical columns and concatenate them onto the dataframe."
   ]
  },
  {
   "cell_type": "code",
   "execution_count": 55,
   "id": "9598097a-5500-4743-884d-f6213504a1fd",
   "metadata": {},
   "outputs": [
    {
     "data": {
      "text/plain": [
       "['gender',\n",
       " 'partner',\n",
       " 'dependents',\n",
       " 'phone_service',\n",
       " 'multiple_lines',\n",
       " 'online_security',\n",
       " 'online_backup',\n",
       " 'device_protection',\n",
       " 'tech_support',\n",
       " 'streaming_tv',\n",
       " 'streaming_movies',\n",
       " 'paperless_billing',\n",
       " 'churn',\n",
       " 'payment_type',\n",
       " 'internet_service_type',\n",
       " 'contract_type']"
      ]
     },
     "execution_count": 55,
     "metadata": {},
     "output_type": "execute_result"
    }
   ],
   "source": [
    "# customer_id and total_charges are not categorical columns\n",
    "\n",
    "categorical_cols = telco.dtypes[telco.dtypes == 'object'].index\n",
    "categorical_cols = categorical_cols.drop(labels = ['total_charges'])\n",
    "list(categorical_cols)"
   ]
  },
  {
   "cell_type": "code",
   "execution_count": 56,
   "id": "c35056d9-3b41-4e7f-9f2e-2fd77bd66e67",
   "metadata": {},
   "outputs": [
    {
     "data": {
      "text/html": [
       "<div>\n",
       "<style scoped>\n",
       "    .dataframe tbody tr th:only-of-type {\n",
       "        vertical-align: middle;\n",
       "    }\n",
       "\n",
       "    .dataframe tbody tr th {\n",
       "        vertical-align: top;\n",
       "    }\n",
       "\n",
       "    .dataframe thead th {\n",
       "        text-align: right;\n",
       "    }\n",
       "</style>\n",
       "<table border=\"1\" class=\"dataframe\">\n",
       "  <thead>\n",
       "    <tr style=\"text-align: right;\">\n",
       "      <th></th>\n",
       "      <th>gender</th>\n",
       "      <th>senior_citizen</th>\n",
       "      <th>partner</th>\n",
       "      <th>dependents</th>\n",
       "      <th>tenure</th>\n",
       "      <th>phone_service</th>\n",
       "      <th>multiple_lines</th>\n",
       "      <th>online_security</th>\n",
       "      <th>online_backup</th>\n",
       "      <th>device_protection</th>\n",
       "      <th>...</th>\n",
       "      <th>streaming_movies_Yes</th>\n",
       "      <th>paperless_billing_Yes</th>\n",
       "      <th>churn_Yes</th>\n",
       "      <th>payment_type_Credit card (automatic)</th>\n",
       "      <th>payment_type_Electronic check</th>\n",
       "      <th>payment_type_Mailed check</th>\n",
       "      <th>internet_service_type_Fiber optic</th>\n",
       "      <th>internet_service_type_None</th>\n",
       "      <th>contract_type_One year</th>\n",
       "      <th>contract_type_Two year</th>\n",
       "    </tr>\n",
       "  </thead>\n",
       "  <tbody>\n",
       "    <tr>\n",
       "      <th>0</th>\n",
       "      <td>Female</td>\n",
       "      <td>0</td>\n",
       "      <td>Yes</td>\n",
       "      <td>Yes</td>\n",
       "      <td>9</td>\n",
       "      <td>Yes</td>\n",
       "      <td>No</td>\n",
       "      <td>No</td>\n",
       "      <td>Yes</td>\n",
       "      <td>No</td>\n",
       "      <td>...</td>\n",
       "      <td>0</td>\n",
       "      <td>1</td>\n",
       "      <td>0</td>\n",
       "      <td>0</td>\n",
       "      <td>0</td>\n",
       "      <td>1</td>\n",
       "      <td>0</td>\n",
       "      <td>0</td>\n",
       "      <td>1</td>\n",
       "      <td>0</td>\n",
       "    </tr>\n",
       "    <tr>\n",
       "      <th>1</th>\n",
       "      <td>Male</td>\n",
       "      <td>0</td>\n",
       "      <td>No</td>\n",
       "      <td>No</td>\n",
       "      <td>9</td>\n",
       "      <td>Yes</td>\n",
       "      <td>Yes</td>\n",
       "      <td>No</td>\n",
       "      <td>No</td>\n",
       "      <td>No</td>\n",
       "      <td>...</td>\n",
       "      <td>1</td>\n",
       "      <td>0</td>\n",
       "      <td>0</td>\n",
       "      <td>0</td>\n",
       "      <td>0</td>\n",
       "      <td>1</td>\n",
       "      <td>0</td>\n",
       "      <td>0</td>\n",
       "      <td>0</td>\n",
       "      <td>0</td>\n",
       "    </tr>\n",
       "    <tr>\n",
       "      <th>2</th>\n",
       "      <td>Male</td>\n",
       "      <td>0</td>\n",
       "      <td>No</td>\n",
       "      <td>No</td>\n",
       "      <td>4</td>\n",
       "      <td>Yes</td>\n",
       "      <td>No</td>\n",
       "      <td>No</td>\n",
       "      <td>No</td>\n",
       "      <td>Yes</td>\n",
       "      <td>...</td>\n",
       "      <td>0</td>\n",
       "      <td>1</td>\n",
       "      <td>1</td>\n",
       "      <td>0</td>\n",
       "      <td>1</td>\n",
       "      <td>0</td>\n",
       "      <td>1</td>\n",
       "      <td>0</td>\n",
       "      <td>0</td>\n",
       "      <td>0</td>\n",
       "    </tr>\n",
       "    <tr>\n",
       "      <th>3</th>\n",
       "      <td>Male</td>\n",
       "      <td>1</td>\n",
       "      <td>Yes</td>\n",
       "      <td>No</td>\n",
       "      <td>13</td>\n",
       "      <td>Yes</td>\n",
       "      <td>No</td>\n",
       "      <td>No</td>\n",
       "      <td>Yes</td>\n",
       "      <td>Yes</td>\n",
       "      <td>...</td>\n",
       "      <td>1</td>\n",
       "      <td>1</td>\n",
       "      <td>1</td>\n",
       "      <td>0</td>\n",
       "      <td>1</td>\n",
       "      <td>0</td>\n",
       "      <td>1</td>\n",
       "      <td>0</td>\n",
       "      <td>0</td>\n",
       "      <td>0</td>\n",
       "    </tr>\n",
       "    <tr>\n",
       "      <th>4</th>\n",
       "      <td>Female</td>\n",
       "      <td>1</td>\n",
       "      <td>Yes</td>\n",
       "      <td>No</td>\n",
       "      <td>3</td>\n",
       "      <td>Yes</td>\n",
       "      <td>No</td>\n",
       "      <td>No</td>\n",
       "      <td>No</td>\n",
       "      <td>No</td>\n",
       "      <td>...</td>\n",
       "      <td>0</td>\n",
       "      <td>1</td>\n",
       "      <td>1</td>\n",
       "      <td>0</td>\n",
       "      <td>0</td>\n",
       "      <td>1</td>\n",
       "      <td>1</td>\n",
       "      <td>0</td>\n",
       "      <td>0</td>\n",
       "      <td>0</td>\n",
       "    </tr>\n",
       "  </tbody>\n",
       "</table>\n",
       "<p>5 rows × 47 columns</p>\n",
       "</div>"
      ],
      "text/plain": [
       "   gender  senior_citizen partner dependents  tenure phone_service  \\\n",
       "0  Female               0     Yes        Yes       9           Yes   \n",
       "1    Male               0      No         No       9           Yes   \n",
       "2    Male               0      No         No       4           Yes   \n",
       "3    Male               1     Yes         No      13           Yes   \n",
       "4  Female               1     Yes         No       3           Yes   \n",
       "\n",
       "  multiple_lines online_security online_backup device_protection  ...  \\\n",
       "0             No              No           Yes                No  ...   \n",
       "1            Yes              No            No                No  ...   \n",
       "2             No              No            No               Yes  ...   \n",
       "3             No              No           Yes               Yes  ...   \n",
       "4             No              No            No                No  ...   \n",
       "\n",
       "  streaming_movies_Yes paperless_billing_Yes churn_Yes  \\\n",
       "0                    0                     1         0   \n",
       "1                    1                     0         0   \n",
       "2                    0                     1         1   \n",
       "3                    1                     1         1   \n",
       "4                    0                     1         1   \n",
       "\n",
       "  payment_type_Credit card (automatic)  payment_type_Electronic check  \\\n",
       "0                                    0                              0   \n",
       "1                                    0                              0   \n",
       "2                                    0                              1   \n",
       "3                                    0                              1   \n",
       "4                                    0                              0   \n",
       "\n",
       "  payment_type_Mailed check internet_service_type_Fiber optic  \\\n",
       "0                         1                                 0   \n",
       "1                         1                                 0   \n",
       "2                         0                                 1   \n",
       "3                         0                                 1   \n",
       "4                         1                                 1   \n",
       "\n",
       "  internet_service_type_None contract_type_One year contract_type_Two year  \n",
       "0                          0                      1                      0  \n",
       "1                          0                      0                      0  \n",
       "2                          0                      0                      0  \n",
       "3                          0                      0                      0  \n",
       "4                          0                      0                      0  \n",
       "\n",
       "[5 rows x 47 columns]"
      ]
     },
     "execution_count": 56,
     "metadata": {},
     "output_type": "execute_result"
    }
   ],
   "source": [
    "dummy_df = pd.get_dummies(telco[categorical_cols], dummy_na = False, drop_first = True)\n",
    "telco = pd.concat([telco, dummy_df], axis = 1)\n",
    "telco.head()"
   ]
  },
  {
   "cell_type": "code",
   "execution_count": 57,
   "id": "d8b57ae6-c966-4d76-9c2a-7f6852d8c36c",
   "metadata": {},
   "outputs": [],
   "source": [
    "# # For binary categorical values this might be better\n",
    "\n",
    "# telco['partner_encoded'] = telco.partner.map({'Yes' : 1, 'No' : 0})\n",
    "# telco['dependents_encoded'] = telco.dependents.map({'Yes' : 1, 'No' : 0})\n",
    "# ..."
   ]
  },
  {
   "cell_type": "markdown",
   "id": "437915c2-237e-4c47-bb26-d1514c76d2bd",
   "metadata": {},
   "source": [
    "- Create a function named prep_telco that accepts the raw telco data, and returns the data with the transformations above applied."
   ]
  },
  {
   "cell_type": "code",
   "execution_count": 58,
   "id": "a4da1a97-07e6-42a7-877d-ac79e8dfd3c8",
   "metadata": {},
   "outputs": [],
   "source": [
    "def prep_telco_data(df):\n",
    "    df = df.drop_duplicates()\n",
    "    cols_to_drop = [\n",
    "        'phone_service',\n",
    "        'contract_type_id',\n",
    "        'internet_service_type_id',\n",
    "        'payment_type_id'\n",
    "    ]\n",
    "    df = df.drop(columns = cols_to_drop)\n",
    "    categorical_cols = df.dtypes[df.dtypes == 'object'].index\n",
    "    categorical_cols = categorical_cols.drop(labels = ['customer_id', 'total_charges'])\n",
    "    dummy_df = pd.get_dummies(df[categorical_cols], dummy_na = False, drop_first = True)\n",
    "    df = pd.concat([df, dummy_df], axis = 1)\n",
    "    return df"
   ]
  },
  {
   "cell_type": "markdown",
   "id": "fe38cf86-23dd-435f-8a1b-94bc9e6a374f",
   "metadata": {},
   "source": [
    "# Exploratory Analysis Exercises\n",
    "\n",
    "## Section 1: Iris DB\n",
    "\n",
    "### 1. Acquire, prepare & split your data."
   ]
  },
  {
   "cell_type": "code",
   "execution_count": 59,
   "id": "2926ebd6-e552-4896-a9ab-1a551d6b443a",
   "metadata": {},
   "outputs": [],
   "source": [
    "iris = get_iris_data()\n",
    "iris = prep_iris_data(iris)\n",
    "train, validate, test = split_data(iris, stratify_column = 'species')"
   ]
  },
  {
   "cell_type": "code",
   "execution_count": 60,
   "id": "840441d4-dbc1-4e2f-8517-e26d5f1275d0",
   "metadata": {},
   "outputs": [
    {
     "data": {
      "text/plain": [
       "((84, 7), (36, 7), (30, 7))"
      ]
     },
     "execution_count": 60,
     "metadata": {},
     "output_type": "execute_result"
    }
   ],
   "source": [
    "train.shape, validate.shape, test.shape"
   ]
  },
  {
   "cell_type": "code",
   "execution_count": 61,
   "id": "09ed0300-c9d2-4cef-bf4e-53eacfb666ef",
   "metadata": {},
   "outputs": [
    {
     "name": "stdout",
     "output_type": "stream",
     "text": [
      "<class 'pandas.core.frame.DataFrame'>\n",
      "Int64Index: 84 entries, 44 to 41\n",
      "Data columns (total 7 columns):\n",
      " #   Column              Non-Null Count  Dtype  \n",
      "---  ------              --------------  -----  \n",
      " 0   sepal_length        84 non-null     float64\n",
      " 1   sepal_width         84 non-null     float64\n",
      " 2   petal_length        84 non-null     float64\n",
      " 3   petal_width         84 non-null     float64\n",
      " 4   species             84 non-null     object \n",
      " 5   species_versicolor  84 non-null     uint8  \n",
      " 6   species_virginica   84 non-null     uint8  \n",
      "dtypes: float64(4), object(1), uint8(2)\n",
      "memory usage: 4.1+ KB\n"
     ]
    }
   ],
   "source": [
    "train.info()"
   ]
  },
  {
   "cell_type": "markdown",
   "id": "e39f846a-414f-48bf-8995-d98f82f2c579",
   "metadata": {},
   "source": [
    "### 2. Univariate Stats"
   ]
  },
  {
   "cell_type": "markdown",
   "id": "b013781f-7bc5-4689-908e-d00a348a8004",
   "metadata": {},
   "source": [
    "#### Quantitative Variables\n",
    "\n",
    "- For each measurement type (quantitative variable): create a histogram, boxplot, & compute descriptive statistics (using .describe())."
   ]
  },
  {
   "cell_type": "code",
   "execution_count": 62,
   "id": "1ecd43f8-7cf3-4c95-af8e-1cd98ad9ca6a",
   "metadata": {},
   "outputs": [
    {
     "data": {
      "image/png": "[encoded data removed]",
      "text/plain": [
       "<Figure size 864x432 with 2 Axes>"
      ]
     },
     "metadata": {
      "needs_background": "light"
     },
     "output_type": "display_data"
    }
   ],
   "source": [
    "_, ax = plt.subplots(nrows = 1, ncols = 2, figsize = (12, 6))\n",
    "\n",
    "sns.histplot(data = train.sepal_length, ax = ax[0])\n",
    "ax[0].set_title('Distribution of Sepal Length')\n",
    "\n",
    "sns.boxplot(data = train, y = 'sepal_length', ax = ax[1])\n",
    "ax[1].set_title('Distribution of Sepal Length');"
   ]
  },
  {
   "cell_type": "markdown",
   "id": "59b1af5d-71ce-4c5e-9063-f299645e69c7",
   "metadata": {},
   "source": [
    "There is a normal(ish) distribution for sepal length. Most observations of sepal length are between 5.0 an 6.0.\n",
    "\n",
    "---"
   ]
  },
  {
   "cell_type": "code",
   "execution_count": 63,
   "id": "671c0af3-5370-4402-839d-f8be4effb5f9",
   "metadata": {},
   "outputs": [
    {
     "data": {
      "image/png": "[encoded data removed]",
      "text/plain": [
       "<Figure size 864x432 with 2 Axes>"
      ]
     },
     "metadata": {
      "needs_background": "light"
     },
     "output_type": "display_data"
    }
   ],
   "source": [
    "_, ax = plt.subplots(nrows = 1, ncols = 2, figsize = (12, 6))\n",
    "\n",
    "sns.histplot(data = train.sepal_width, ax = ax[0])\n",
    "ax[0].set_title('Distribution of Sepal Width')\n",
    "\n",
    "sns.boxplot(data = train, y = 'sepal_width', ax = ax[1])\n",
    "ax[1].set_title('Distribution of Sepal Width');"
   ]
  },
  {
   "cell_type": "markdown",
   "id": "1662107f-32fb-46d7-9107-bfbe5607769c",
   "metadata": {},
   "source": [
    "There is a normal(ish) distribution for sepal width. Most observations of sepal width are between 2.75 and 3.50.\n",
    "\n",
    "---"
   ]
  },
  {
   "cell_type": "code",
   "execution_count": 64,
   "id": "a16c567c-2329-42ae-a399-c03a363f309a",
   "metadata": {},
   "outputs": [
    {
     "data": {
      "image/png": "[encoded data removed]",
      "text/plain": [
       "<Figure size 864x432 with 2 Axes>"
      ]
     },
     "metadata": {
      "needs_background": "light"
     },
     "output_type": "display_data"
    }
   ],
   "source": [
    "_, ax = plt.subplots(nrows = 1, ncols = 2, figsize = (12, 6))\n",
    "\n",
    "sns.histplot(data = train.petal_length, ax = ax[0])\n",
    "ax[0].set_title('Distribution of Petal Length')\n",
    "\n",
    "sns.boxplot(data = train, y = 'petal_length', ax = ax[1])\n",
    "ax[1].set_title('Distribution of Petal Length');"
   ]
  },
  {
   "cell_type": "markdown",
   "id": "beed05ed-3c1a-415e-b376-287906542c23",
   "metadata": {},
   "source": [
    "There is a clear separation of values for petal length. A large number of observations are less than 2 and another large number of observations are between 4 and 5.\n",
    "\n",
    "---"
   ]
  },
  {
   "cell_type": "code",
   "execution_count": 65,
   "id": "9632237d-6c0b-4c6f-b410-2f67b527a0cb",
   "metadata": {},
   "outputs": [
    {
     "data": {
      "image/png": "[encoded data removed]",
      "text/plain": [
       "<Figure size 864x432 with 2 Axes>"
      ]
     },
     "metadata": {
      "needs_background": "light"
     },
     "output_type": "display_data"
    }
   ],
   "source": [
    "_, ax = plt.subplots(nrows = 1, ncols = 2, figsize = (12, 6))\n",
    "\n",
    "sns.histplot(data = train.petal_width, ax = ax[0])\n",
    "ax[0].set_title('Distribution of Petal Length')\n",
    "\n",
    "sns.boxplot(data = train, y = 'petal_width', ax = ax[1])\n",
    "ax[1].set_title('Distribution of Petal Length');"
   ]
  },
  {
   "cell_type": "markdown",
   "id": "dc411e72-dbaa-4629-993b-d6f3fa552399",
   "metadata": {},
   "source": [
    "There is a clear separation of values for petal length. A large number of observations are less than 0.5 and another large number of observations are approximately 1.5.\n",
    "\n",
    "---"
   ]
  },
  {
   "cell_type": "code",
   "execution_count": 66,
   "id": "a128efed-e16a-4a6c-b6ba-77feca19396b",
   "metadata": {},
   "outputs": [
    {
     "data": {
      "text/html": [
       "<div>\n",
       "<style scoped>\n",
       "    .dataframe tbody tr th:only-of-type {\n",
       "        vertical-align: middle;\n",
       "    }\n",
       "\n",
       "    .dataframe tbody tr th {\n",
       "        vertical-align: top;\n",
       "    }\n",
       "\n",
       "    .dataframe thead th {\n",
       "        text-align: right;\n",
       "    }\n",
       "</style>\n",
       "<table border=\"1\" class=\"dataframe\">\n",
       "  <thead>\n",
       "    <tr style=\"text-align: right;\">\n",
       "      <th></th>\n",
       "      <th>sepal_length</th>\n",
       "      <th>sepal_width</th>\n",
       "      <th>petal_length</th>\n",
       "      <th>petal_width</th>\n",
       "    </tr>\n",
       "  </thead>\n",
       "  <tbody>\n",
       "    <tr>\n",
       "      <th>count</th>\n",
       "      <td>84.000000</td>\n",
       "      <td>84.000000</td>\n",
       "      <td>84.000000</td>\n",
       "      <td>84.000000</td>\n",
       "    </tr>\n",
       "    <tr>\n",
       "      <th>mean</th>\n",
       "      <td>5.816667</td>\n",
       "      <td>3.067857</td>\n",
       "      <td>3.745238</td>\n",
       "      <td>1.197619</td>\n",
       "    </tr>\n",
       "    <tr>\n",
       "      <th>std</th>\n",
       "      <td>0.841375</td>\n",
       "      <td>0.435796</td>\n",
       "      <td>1.772304</td>\n",
       "      <td>0.760307</td>\n",
       "    </tr>\n",
       "    <tr>\n",
       "      <th>min</th>\n",
       "      <td>4.400000</td>\n",
       "      <td>2.200000</td>\n",
       "      <td>1.000000</td>\n",
       "      <td>0.100000</td>\n",
       "    </tr>\n",
       "    <tr>\n",
       "      <th>25%</th>\n",
       "      <td>5.100000</td>\n",
       "      <td>2.800000</td>\n",
       "      <td>1.575000</td>\n",
       "      <td>0.300000</td>\n",
       "    </tr>\n",
       "    <tr>\n",
       "      <th>50%</th>\n",
       "      <td>5.750000</td>\n",
       "      <td>3.100000</td>\n",
       "      <td>4.250000</td>\n",
       "      <td>1.300000</td>\n",
       "    </tr>\n",
       "    <tr>\n",
       "      <th>75%</th>\n",
       "      <td>6.400000</td>\n",
       "      <td>3.400000</td>\n",
       "      <td>5.100000</td>\n",
       "      <td>1.800000</td>\n",
       "    </tr>\n",
       "    <tr>\n",
       "      <th>max</th>\n",
       "      <td>7.900000</td>\n",
       "      <td>4.200000</td>\n",
       "      <td>6.700000</td>\n",
       "      <td>2.500000</td>\n",
       "    </tr>\n",
       "  </tbody>\n",
       "</table>\n",
       "</div>"
      ],
      "text/plain": [
       "       sepal_length  sepal_width  petal_length  petal_width\n",
       "count     84.000000    84.000000     84.000000    84.000000\n",
       "mean       5.816667     3.067857      3.745238     1.197619\n",
       "std        0.841375     0.435796      1.772304     0.760307\n",
       "min        4.400000     2.200000      1.000000     0.100000\n",
       "25%        5.100000     2.800000      1.575000     0.300000\n",
       "50%        5.750000     3.100000      4.250000     1.300000\n",
       "75%        6.400000     3.400000      5.100000     1.800000\n",
       "max        7.900000     4.200000      6.700000     2.500000"
      ]
     },
     "execution_count": 66,
     "metadata": {},
     "output_type": "execute_result"
    }
   ],
   "source": [
    "columns = ['sepal_length', 'sepal_width', 'petal_length', 'petal_width']\n",
    "train[columns].describe()"
   ]
  },
  {
   "cell_type": "markdown",
   "id": "2cae9063-cb01-46b7-9b69-ee8c6e3edd73",
   "metadata": {},
   "source": [
    "There appears to be some distinctive separations in the distribution of values for petal length and petal width. These may be good variables to compare to the target variable."
   ]
  },
  {
   "cell_type": "markdown",
   "id": "64945c91-d843-4a12-b552-f10951554677",
   "metadata": {},
   "source": [
    "#### Categorical variables\n",
    "\n",
    "- For each species (categorical variable): create a frequency table and a bar plot of those frequencies."
   ]
  },
  {
   "cell_type": "code",
   "execution_count": 67,
   "id": "6b415ce1-e607-4394-b9d8-3c758ac95a10",
   "metadata": {},
   "outputs": [
    {
     "data": {
      "text/plain": [
       "setosa        28\n",
       "virginica     28\n",
       "versicolor    28\n",
       "Name: species, dtype: int64"
      ]
     },
     "execution_count": 67,
     "metadata": {},
     "output_type": "execute_result"
    }
   ],
   "source": [
    "train.species.value_counts()"
   ]
  },
  {
   "cell_type": "code",
   "execution_count": 68,
   "id": "ef8f379a-913e-47bb-9039-364946c0b8b1",
   "metadata": {},
   "outputs": [
    {
     "data": {
      "image/png": "[encoded data removed]",
      "text/plain": [
       "<Figure size 432x288 with 1 Axes>"
      ]
     },
     "metadata": {
      "needs_background": "light"
     },
     "output_type": "display_data"
    }
   ],
   "source": [
    "# sns.barplot(data = train, x = 'species');\n",
    "train_dummy = train\n",
    "train_dummy['species_encoded'] = train.species.map({\n",
    "    'setosa' : 0,\n",
    "    'virginica' : 1,\n",
    "    'versicolor' : 2\n",
    "})\n",
    "\n",
    "sns.histplot(data = train_dummy, x = 'species_encoded');"
   ]
  },
  {
   "cell_type": "markdown",
   "id": "994f20b8-c653-4406-9d80-e840b7e2bd54",
   "metadata": {},
   "source": [
    "We have an uniform distribution of species in our dataset."
   ]
  },
  {
   "cell_type": "markdown",
   "id": "cc138e23-fc66-4eb4-986c-beae73b477db",
   "metadata": {},
   "source": [
    "#### Takeaways\n",
    "\n",
    "- Document takeaways & any actions."
   ]
  },
  {
   "cell_type": "markdown",
   "id": "aba4501d-b6e3-46ee-b1e4-dbe7f521bab3",
   "metadata": {},
   "source": [
    "Petal length and petal width look like good variables to further analyze. We will look more closely at those in comparison to the target variable species."
   ]
  },
  {
   "cell_type": "markdown",
   "id": "f2e77e1d-ac68-4d84-8e44-f98d5895fc7d",
   "metadata": {},
   "source": [
    "### 3. Bivariate Stats"
   ]
  },
  {
   "cell_type": "markdown",
   "id": "9ef2a387-7c81-440d-815a-d5a6678abd4e",
   "metadata": {},
   "source": [
    "#### Compare Measures to Target\n",
    "\n",
    "- Visualize each measurement type (y-axis) with the species variable (x-axis) using barplots, adding a horizontal line showing the overall mean of the metric (y-axis).\n",
    "- For each measurement type, compute the descriptive statistics for each species."
   ]
  },
  {
   "cell_type": "markdown",
   "id": "3235caf9-55f2-40bc-a973-991ae3dcbc3c",
   "metadata": {},
   "source": [
    "##### Sepal Length"
   ]
  },
  {
   "cell_type": "code",
   "execution_count": 69,
   "id": "a00772d8-99df-45a7-a020-ede5fb211818",
   "metadata": {},
   "outputs": [
    {
     "data": {
      "image/png": "[encoded data removed]",
      "text/plain": [
       "<Figure size 432x288 with 1 Axes>"
      ]
     },
     "metadata": {
      "needs_background": "light"
     },
     "output_type": "display_data"
    }
   ],
   "source": [
    "sns.boxplot(data = train, y = 'sepal_length', x = 'species')\n",
    "sepal_length_mean = train.sepal_length.mean()\n",
    "plt.axhline(sepal_length_mean, label=\"Sepal Length Mean\");"
   ]
  },
  {
   "cell_type": "markdown",
   "id": "53953dc9-0eba-45d1-abb4-a26c1214cb12",
   "metadata": {},
   "source": [
    "There is some distinction here between each species but there is significant overlap between virginica and versicolor."
   ]
  },
  {
   "cell_type": "markdown",
   "id": "83594d1f-5b2d-4025-b1de-4e50795e05e6",
   "metadata": {},
   "source": [
    "$H_0$: The population means of sepal length for all three species (setosa, virginica, and versicolor) are equal.\n",
    "<br>\n",
    "$H_a$: The population means of sepal length for all three species (setosa, virginica, and versicolor) are not equal."
   ]
  },
  {
   "cell_type": "code",
   "execution_count": 70,
   "id": "df0d7c48-50d8-42ae-b1b4-f632e4848686",
   "metadata": {},
   "outputs": [
    {
     "name": "stdout",
     "output_type": "stream",
     "text": [
      "Samples contain more than 30 observations: False\n",
      "Using non-parametric test...\n",
      "\n",
      "Reject H0\n"
     ]
    }
   ],
   "source": [
    "setosa_sepal_length = train[train.species == 'setosa'].sepal_length\n",
    "virginica_sepal_length = train[train.species == 'virginica'].sepal_length\n",
    "versicolor_sepal_length = train[train.species == 'versicolor'].sepal_length\n",
    "\n",
    "stats_util.anova_test(setosa_sepal_length, virginica_sepal_length, versicolor_sepal_length)"
   ]
  },
  {
   "cell_type": "code",
   "execution_count": 79,
   "id": "9fea9a48-1c87-4875-921d-dbb644761b02",
   "metadata": {},
   "outputs": [
    {
     "data": {
      "text/plain": [
       "(count    28.000000\n",
       " mean      4.975000\n",
       " std       0.340615\n",
       " min       4.400000\n",
       " 25%       4.700000\n",
       " 50%       5.000000\n",
       " 75%       5.200000\n",
       " max       5.700000\n",
       " Name: sepal_length, dtype: float64,\n",
       " '----------',\n",
       " count    28.000000\n",
       " mean      6.571429\n",
       " std       0.708079\n",
       " min       4.900000\n",
       " 25%       6.175000\n",
       " 50%       6.500000\n",
       " 75%       6.975000\n",
       " max       7.900000\n",
       " Name: sepal_length, dtype: float64,\n",
       " '----------',\n",
       " count    28.000000\n",
       " mean      5.903571\n",
       " std       0.474913\n",
       " min       4.900000\n",
       " 25%       5.600000\n",
       " 50%       5.900000\n",
       " 75%       6.300000\n",
       " max       6.800000\n",
       " Name: sepal_length, dtype: float64)"
      ]
     },
     "execution_count": 79,
     "metadata": {},
     "output_type": "execute_result"
    }
   ],
   "source": [
    "(setosa_sepal_length.describe(),\n",
    " '----------',\n",
    " virginica_sepal_length.describe(), \n",
    " '----------',\n",
    " versicolor_sepal_length.describe())"
   ]
  },
  {
   "cell_type": "markdown",
   "id": "419dbc8d-17f6-43f0-a21e-b82cc9ebe4f5",
   "metadata": {},
   "source": [
    "**Takeaways**\n",
    "\n",
    "We reject the null hypothesis that the mean of sepal length for all three species are equal so there may be something worth looking at. We see the most significant difference in values between the setosa species and the other two. We may need to test mean equivalence for virginica and versicolor to determine if sepal length should be used in our model.\n",
    "\n",
    "---"
   ]
  },
  {
   "cell_type": "markdown",
   "id": "7c8f6887-508c-4e85-8e2f-a637ad8b9fd0",
   "metadata": {},
   "source": [
    "##### Sepal Width"
   ]
  },
  {
   "cell_type": "code",
   "execution_count": 71,
   "id": "05137ad1-3300-4cc4-9e88-ab706de4ac3b",
   "metadata": {},
   "outputs": [
    {
     "data": {
      "image/png": "[encoded data removed]",
      "text/plain": [
       "<Figure size 432x288 with 1 Axes>"
      ]
     },
     "metadata": {
      "needs_background": "light"
     },
     "output_type": "display_data"
    }
   ],
   "source": [
    "sns.boxplot(data = train, y = 'sepal_width', x = 'species')\n",
    "sepal_width_mean = train.sepal_width.mean()\n",
    "plt.axhline(sepal_width_mean, label=\"Sepal Width Mean\");"
   ]
  },
  {
   "cell_type": "markdown",
   "id": "7340a37b-0219-4958-a959-9c2fc104c4bb",
   "metadata": {},
   "source": [
    "There is less distinction between each species for sepal width."
   ]
  },
  {
   "cell_type": "markdown",
   "id": "d24e3de4-8627-4207-a186-e6baffb0970a",
   "metadata": {},
   "source": [
    "$H_0$: The population means of sepal width for all three species (setosa, virginica, and versicolor) are equal.\n",
    "<br>\n",
    "$H_a$: The population means of sepal width for all three species (setosa, virginica, and versicolor) are not equal."
   ]
  },
  {
   "cell_type": "code",
   "execution_count": 72,
   "id": "98767736-7bb5-487d-a505-8b22c3873ff3",
   "metadata": {},
   "outputs": [
    {
     "name": "stdout",
     "output_type": "stream",
     "text": [
      "Samples contain more than 30 observations: False\n",
      "Using non-parametric test...\n",
      "\n",
      "Reject H0\n"
     ]
    }
   ],
   "source": [
    "setosa_sepal_width = train[train.species == 'setosa'].sepal_width\n",
    "virginica_sepal_width = train[train.species == 'virginica'].sepal_width\n",
    "versicolor_sepal_width = train[train.species == 'versicolor'].sepal_width\n",
    "\n",
    "stats_util.anova_test(setosa_sepal_width, virginica_sepal_width, versicolor_sepal_width)"
   ]
  },
  {
   "cell_type": "code",
   "execution_count": 80,
   "id": "713ded76-8c47-4ee8-b060-52a88d4080b7",
   "metadata": {},
   "outputs": [
    {
     "data": {
      "text/plain": [
       "(count    28.000000\n",
       " mean      3.414286\n",
       " std       0.365872\n",
       " min       2.300000\n",
       " 25%       3.200000\n",
       " 50%       3.400000\n",
       " 75%       3.625000\n",
       " max       4.200000\n",
       " Name: sepal_width, dtype: float64,\n",
       " '----------',\n",
       " count    28.000000\n",
       " mean      3.017857\n",
       " std       0.355958\n",
       " min       2.200000\n",
       " 25%       2.800000\n",
       " 50%       3.000000\n",
       " 75%       3.200000\n",
       " max       3.800000\n",
       " Name: sepal_width, dtype: float64,\n",
       " '----------',\n",
       " count    28.000000\n",
       " mean      2.771429\n",
       " std       0.324159\n",
       " min       2.200000\n",
       " 25%       2.500000\n",
       " 50%       2.800000\n",
       " 75%       3.000000\n",
       " max       3.400000\n",
       " Name: sepal_width, dtype: float64)"
      ]
     },
     "execution_count": 80,
     "metadata": {},
     "output_type": "execute_result"
    }
   ],
   "source": [
    "(setosa_sepal_width.describe(),\n",
    " '----------',\n",
    " virginica_sepal_width.describe(), \n",
    " '----------',\n",
    " versicolor_sepal_width.describe())"
   ]
  },
  {
   "cell_type": "markdown",
   "id": "d87a129f-dd82-410c-b001-6de1054b50fc",
   "metadata": {},
   "source": [
    "We reject the null hypothesis that the mean of sepal width for all three species are equal so there may be something worth looking at. There is not much distinction between each species for sepal width so we may need to test mean equality for virginica and versicolor to determine if sepal width is worth using in our model.\n",
    "\n",
    "---"
   ]
  },
  {
   "cell_type": "markdown",
   "id": "08f8d6a3-db8a-4a71-b0d7-c45904951cf5",
   "metadata": {},
   "source": [
    "##### Petal Length"
   ]
  },
  {
   "cell_type": "code",
   "execution_count": 73,
   "id": "1831df6e-d860-4ec1-8f7c-2d98676d4598",
   "metadata": {},
   "outputs": [
    {
     "data": {
      "image/png": "[encoded data removed]",
      "text/plain": [
       "<Figure size 432x288 with 1 Axes>"
      ]
     },
     "metadata": {
      "needs_background": "light"
     },
     "output_type": "display_data"
    }
   ],
   "source": [
    "sns.boxplot(data = train, y = 'petal_length', x = 'species')\n",
    "petal_length_mean = train.petal_length.mean()\n",
    "plt.axhline(petal_length_mean, label=\"Petal Length Mean\");"
   ]
  },
  {
   "cell_type": "markdown",
   "id": "bc19cc11-4264-4826-a800-cb1fe8ec17a3",
   "metadata": {},
   "source": [
    "There is a significant distinction between each species for the values of petal length. Particularly between setosa and the other two species."
   ]
  },
  {
   "cell_type": "markdown",
   "id": "eabccc7f-d12c-45f0-a6aa-a2cac4d0caa2",
   "metadata": {},
   "source": [
    "$H_0$: The population means of petal length for all three species (setosa, virginica, and versicolor) are equal.\n",
    "<br>\n",
    "$H_a$: The population means of petal length for all three species (setosa, virginica, and versicolor) are not equal."
   ]
  },
  {
   "cell_type": "code",
   "execution_count": 74,
   "id": "7b295f5d-be35-4e14-9d69-ae84cdb38a5d",
   "metadata": {},
   "outputs": [
    {
     "name": "stdout",
     "output_type": "stream",
     "text": [
      "Samples contain more than 30 observations: False\n",
      "Using non-parametric test...\n",
      "\n",
      "Reject H0\n"
     ]
    }
   ],
   "source": [
    "setosa_petal_length = train[train.species == 'setosa'].petal_length\n",
    "virginica_petal_length = train[train.species == 'virginica'].petal_length\n",
    "versicolor_petal_length = train[train.species == 'versicolor'].petal_length\n",
    "\n",
    "stats_util.anova_test(setosa_petal_length, virginica_petal_length, versicolor_petal_length)"
   ]
  },
  {
   "cell_type": "code",
   "execution_count": 81,
   "id": "030151be-d92e-4d63-9e9a-4b2eec00a7d6",
   "metadata": {},
   "outputs": [
    {
     "data": {
      "text/plain": [
       "(count    28.000000\n",
       " mean      1.464286\n",
       " std       0.188982\n",
       " min       1.000000\n",
       " 25%       1.375000\n",
       " 50%       1.500000\n",
       " 75%       1.525000\n",
       " max       1.900000\n",
       " Name: petal_length, dtype: float64,\n",
       " '----------',\n",
       " count    28.000000\n",
       " mean      5.560714\n",
       " std       0.602673\n",
       " min       4.500000\n",
       " 25%       5.100000\n",
       " 50%       5.550000\n",
       " 75%       5.850000\n",
       " max       6.700000\n",
       " Name: petal_length, dtype: float64,\n",
       " '----------',\n",
       " count    28.000000\n",
       " mean      4.210714\n",
       " std       0.467728\n",
       " min       3.000000\n",
       " 25%       4.000000\n",
       " 50%       4.250000\n",
       " 75%       4.500000\n",
       " max       4.900000\n",
       " Name: petal_length, dtype: float64)"
      ]
     },
     "execution_count": 81,
     "metadata": {},
     "output_type": "execute_result"
    }
   ],
   "source": [
    "(setosa_petal_length.describe(),\n",
    " '----------',\n",
    " virginica_petal_length.describe(), \n",
    " '----------',\n",
    " versicolor_petal_length.describe())"
   ]
  },
  {
   "cell_type": "markdown",
   "id": "afe80fa7-ddc1-476c-b551-fd756cf0d715",
   "metadata": {},
   "source": [
    "We reject the null hypothesis that the population means for petal length for all three species are equal. There is a significant difference in values for each species so petal length is a good feature to use in our model.\n",
    "\n",
    "---"
   ]
  },
  {
   "cell_type": "markdown",
   "id": "524dac16-2de5-4ad8-be2a-1d486422cbb6",
   "metadata": {},
   "source": [
    "##### Petal Width"
   ]
  },
  {
   "cell_type": "code",
   "execution_count": 82,
   "id": "3c8732dc-8a66-4db9-99d0-3f65e998eae4",
   "metadata": {},
   "outputs": [
    {
     "data": {
      "image/png": "[encoded data removed]",
      "text/plain": [
       "<Figure size 432x288 with 1 Axes>"
      ]
     },
     "metadata": {
      "needs_background": "light"
     },
     "output_type": "display_data"
    }
   ],
   "source": [
    "sns.boxplot(data = train, y = 'petal_width', x = 'species')\n",
    "petal_width_mean = train.petal_width.mean()\n",
    "plt.axhline(petal_width_mean, label=\"Petal Width Mean\");"
   ]
  },
  {
   "cell_type": "markdown",
   "id": "e8ee02fa-95d4-4c33-a068-55f9269ff4d3",
   "metadata": {},
   "source": [
    "There is a significant difference in values for petal width, particularly between setosa and the other two species."
   ]
  },
  {
   "cell_type": "markdown",
   "id": "71a4efbd-b3ba-48e2-9756-5c9511f93055",
   "metadata": {},
   "source": [
    "$H_0$: The population means of petal width for all three species (setosa, virginica, and versicolor) are equal.\n",
    "<br>\n",
    "$H_a$: The population means of petal width for all three species (setosa, virginica, and versicolor) are not equal."
   ]
  },
  {
   "cell_type": "code",
   "execution_count": 83,
   "id": "b70d5268-4ef5-488d-a663-80c730b1fa44",
   "metadata": {},
   "outputs": [
    {
     "name": "stdout",
     "output_type": "stream",
     "text": [
      "Samples contain more than 30 observations: False\n",
      "Using non-parametric test...\n",
      "\n",
      "Reject H0\n"
     ]
    }
   ],
   "source": [
    "setosa_petal_width = train[train.species == 'setosa'].petal_width\n",
    "virginica_petal_width = train[train.species == 'virginica'].petal_width\n",
    "versicolor_petal_width = train[train.species == 'versicolor'].petal_width\n",
    "\n",
    "stats_util.anova_test(setosa_petal_width, virginica_petal_width, versicolor_petal_width)"
   ]
  },
  {
   "cell_type": "code",
   "execution_count": 84,
   "id": "4d3dd341-0097-42e0-8edc-b52d66c7ca64",
   "metadata": {},
   "outputs": [
    {
     "data": {
      "text/plain": [
       "(count    28.000000\n",
       " mean      0.253571\n",
       " std       0.107090\n",
       " min       0.100000\n",
       " 25%       0.200000\n",
       " 50%       0.200000\n",
       " 75%       0.300000\n",
       " max       0.600000\n",
       " Name: petal_width, dtype: float64,\n",
       " '----------',\n",
       " count    28.000000\n",
       " mean      2.017857\n",
       " std       0.290662\n",
       " min       1.500000\n",
       " 25%       1.800000\n",
       " 50%       2.000000\n",
       " 75%       2.300000\n",
       " max       2.500000\n",
       " Name: petal_width, dtype: float64,\n",
       " '----------',\n",
       " count    28.000000\n",
       " mean      1.321429\n",
       " std       0.207912\n",
       " min       1.000000\n",
       " 25%       1.200000\n",
       " 50%       1.300000\n",
       " 75%       1.500000\n",
       " max       1.800000\n",
       " Name: petal_width, dtype: float64)"
      ]
     },
     "execution_count": 84,
     "metadata": {},
     "output_type": "execute_result"
    }
   ],
   "source": [
    "(setosa_petal_width.describe(),\n",
    " '----------',\n",
    " virginica_petal_width.describe(), \n",
    " '----------',\n",
    " versicolor_petal_width.describe())"
   ]
  },
  {
   "cell_type": "markdown",
   "id": "63a1764c-3688-4082-8381-59a50473dab4",
   "metadata": {},
   "source": [
    "We reject the null hypothesis that the population means of petal width for all three species are equal. There is a significant difference in values for petal width, so petal width is a good feature to use in our model."
   ]
  },
  {
   "cell_type": "markdown",
   "id": "81533b51-d346-4ac7-8846-c2c1c07abcd1",
   "metadata": {},
   "source": [
    "#### Comparing Virginica and Versicolor\n",
    "\n",
    "- For virginica & versicolor: Compare the mean petal_width using the Mann-Whitney test (scipy.stats.mannwhitneyu) to see if there is a significant difference between the two groups. Do the same for the other measurement types."
   ]
  },
  {
   "cell_type": "code",
   "execution_count": null,
   "id": "ae859243-6b04-49fd-9c3c-5faa381aa457",
   "metadata": {},
   "outputs": [],
   "source": []
  },
  {
   "cell_type": "markdown",
   "id": "8bf6c855-aa63-4ae6-8d32-a954e2373516",
   "metadata": {},
   "source": [
    "#### Takeaways\n",
    "\n",
    "- Document takeaways & any actions."
   ]
  },
  {
   "cell_type": "code",
   "execution_count": null,
   "id": "d42880c3-e17a-4bd3-ad93-e7d310ce412b",
   "metadata": {},
   "outputs": [],
   "source": []
  }
 ],
 "metadata": {
  "kernelspec": {
   "display_name": "Python 3 (ipykernel)",
   "language": "python",
   "name": "python3"
  },
  "language_info": {
   "codemirror_mode": {
    "name": "ipython",
    "version": 3
   },
   "file_extension": ".py",
   "mimetype": "text/x-python",
   "name": "python",
   "nbconvert_exporter": "python",
   "pygments_lexer": "ipython3",
   "version": "3.9.7"
  }
 },
 "nbformat": 4,
 "nbformat_minor": 5
}
